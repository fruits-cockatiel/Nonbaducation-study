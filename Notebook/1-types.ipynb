{
 "cells": [
  {
   "cell_type": "markdown",
   "id": "804d8df7",
   "metadata": {
    "lines_to_next_cell": 0
   },
   "source": [
    "# 개발 환경: 구글 코랩 Google Colab\n",
    "- 저희가 쓸 사이트: https://colab.research.google.com/\n",
    "\t- Jupyter notebook 형식으로 파이썬을 실행할 수 있게 해 주는 구글이 제공하는 사이트\n",
    "## Jupyter notebook이란?\n",
    "- 파이썬은 인터프리터 언어\n",
    "- 컴파일러와 대조적\n",
    "\t- 컴파일러: 코드를 다 작성하면 → 코드 전체를 기계가 읽을 수 있는 기계어로 한번에 번역해서 → 기계어로 된 프로그램을 실행 (C, C++, Java 등)\n",
    "\t- 인터프리터: 코드를 한줄씩 기계어로 번역해서 → 한 줄씩 실행한 뒤 → 다음 줄을 기계어로 번역하는 과정을 반복 (Python, MATLAB 등)\n",
    "- 인터프리터 언어의 특징을 살려서 Cell 단위로 실행시킬 수 있게 만든 IDE (Integrated Development Environment, 통합 개발 환경)\n",
    "\t- 코드의 cell의 순서가 아니라 실행 순서에 따라 결과들이 누적된다.\n",
    "\n",
    "## 이 사이트를 이용하는 이유\n",
    "- 무료로 이용 가능\n",
    "- 컴퓨터에 파이썬을 설치하지 않아도 됨\n",
    "\t- 나중에 웹앱 서버를 띄우려면 로컬 환경(PC나 노트북)에서 설치하거나 클라우드 컴퓨팅을 이용해야 하지만 지금은 일단 파이썬과 친해지는것이 목적\n",
    "- 대부분의 패키지가 설치되어 있고, 필요하면 추가 패키지를 설치할 수 있음\n",
    "- 심지어 GPU 사용이 가능! DNN 모델을 돌릴 수 있다! 하지만 무료 버전에서는 제한이 걸릴 수 있음\n",
    "\n",
    "## 구글 코랩의 단점\n",
    "- 일정 시간이 지나면 끊김\n",
    "\t- 끊긴다는 말은, 개발 환경이 초기화된다는 뜻\n",
    "\t- 코드는 남지만 코드로 실행했던 변수 등은 메모리에서 삭제됨\n",
    "\n",
    "## 구글 코랩의 특징\n",
    "- 구글 드라이브에 코드와 사용했던 파일들이 저장됨\n",
    "\n",
    "- - - \n",
    "# 실습\n",
    "-  https://colab.research.google.com/ 에 접속\n",
    "- \"+ 새 노트\" 버튼을 클릭\n",
    "- 원하는대로 제목 변경: ex. \"20250917_웹앱스터디_1주차.ipynb\"\n",
    "\t- 확장자 ipynb 는 ipython notebook 을 줄인 말이다\n",
    "\n",
    "## 첫번째 예제"
   ]
  },
  {
   "cell_type": "code",
   "execution_count": 1,
   "id": "e2719614",
   "metadata": {
    "lines_to_next_cell": 0
   },
   "outputs": [
    {
     "data": {
      "text/plain": [
       "2"
      ]
     },
     "execution_count": 1,
     "metadata": {},
     "output_type": "execute_result"
    }
   ],
   "source": [
    "1 + 1"
   ]
  },
  {
   "cell_type": "markdown",
   "id": "5cf3a629",
   "metadata": {
    "lines_to_next_cell": 0
   },
   "source": [
    "- Tip: 코드를 쓰고 Shift + Enter 를 누르면 코드가 실행된다. 혹은 왼쪽의 ▶️ 버튼을 눌러준다.\n",
    "\n",
    "## Print 문"
   ]
  },
  {
   "cell_type": "code",
   "execution_count": 2,
   "id": "7ad97612",
   "metadata": {},
   "outputs": [
    {
     "name": "stdout",
     "output_type": "stream",
     "text": [
      "Hello, World\n"
     ]
    }
   ],
   "source": [
    "print(\"Hello, World\")"
   ]
  },
  {
   "cell_type": "code",
   "execution_count": 3,
   "id": "3ea4a6f6",
   "metadata": {},
   "outputs": [
    {
     "data": {
      "text/plain": [
       "3"
      ]
     },
     "execution_count": 3,
     "metadata": {},
     "output_type": "execute_result"
    }
   ],
   "source": [
    "1 + 1\n",
    "1 + 2"
   ]
  },
  {
   "cell_type": "code",
   "execution_count": 4,
   "id": "33c1d3db",
   "metadata": {},
   "outputs": [
    {
     "name": "stdout",
     "output_type": "stream",
     "text": [
      "2\n",
      "3\n"
     ]
    }
   ],
   "source": [
    "print(1 + 1)\n",
    "print(1 + 2)"
   ]
  },
  {
   "cell_type": "markdown",
   "id": "986b896d",
   "metadata": {},
   "source": [
    "- print 는 함수\n",
    "\t- 나중에 나오겠지만, 특정한 기능을 불러오는 것이라고 생각할 수 있음\n",
    "\t- 화면에 메시지를 출력해주는 용도\n",
    "\t- 함수는 괄호가 붙어야 함: 괄호 안에 들어가는 것을 텍스트로 출력해준다"
   ]
  },
  {
   "cell_type": "code",
   "execution_count": 5,
   "id": "e700fd66",
   "metadata": {
    "lines_to_next_cell": 0
   },
   "outputs": [
    {
     "name": "stdout",
     "output_type": "stream",
     "text": [
      "나는 3 년째 회사를 다니고 있다\n"
     ]
    }
   ],
   "source": [
    "print('나는', 3, '년째 회사를 다니고 있다')"
   ]
  },
  {
   "cell_type": "markdown",
   "id": "920cdf27",
   "metadata": {},
   "source": [
    "- 위와 같이 콤마로 구분하여 값들을 묶어서 출력할 수도 있다.\n",
    "\t- 띄어쓰기가 중간에 들어간다."
   ]
  },
  {
   "cell_type": "markdown",
   "id": "7da9e94b",
   "metadata": {
    "lines_to_next_cell": 0
   },
   "source": [
    "## 주석 (Comment)"
   ]
  },
  {
   "cell_type": "code",
   "execution_count": 6,
   "id": "582fe56b",
   "metadata": {},
   "outputs": [
    {
     "name": "stdout",
     "output_type": "stream",
     "text": [
      "123\n"
     ]
    }
   ],
   "source": [
    "# 이것은 주석입니다. 아무런 효과도 일어나지 않습니다.\n",
    "print(123)"
   ]
  },
  {
   "cell_type": "markdown",
   "id": "bbc77ef1",
   "metadata": {
    "lines_to_next_cell": 0
   },
   "source": [
    "- 주석을 만나면 기계어는 스킵함\n",
    "- 앞에 `#`을 붙여주면 주석이 된다\n",
    "- 언제 주석을 쓰는가?\n",
    "\t- 예전 코드를 남겨두고 싶을 때\n",
    "\t- 코드를 설명하고 싶을 때\n",
    "\t\t- \"내 코드는 나 혼자만 보는 것이 아니다\"\n",
    "\t\t- \"심지어 나도 나중에 보면 이 코드가 무슨 코드인지 기억이 나지 않는다\"\n",
    "\n",
    "## 변수 (Variable)"
   ]
  },
  {
   "cell_type": "code",
   "execution_count": 7,
   "id": "8242f536",
   "metadata": {},
   "outputs": [
    {
     "name": "stdout",
     "output_type": "stream",
     "text": [
      "30\n"
     ]
    }
   ],
   "source": [
    "age = 30\n",
    "print(age)"
   ]
  },
  {
   "cell_type": "markdown",
   "id": "8d0ea7c4",
   "metadata": {},
   "source": [
    "- 변수란?\n",
    "\t- 가변적인 어떤 값\n",
    "\t- 예시\n",
    "\t\t- 메모리에 어떤 값 (여기서는`30` 이라는 숫자) 을 저장할 수 있다.\n",
    "\t\t- 1년이 지나서 한~참 전에 저장한 `30` 이라는 숫자 (중간에 달라졌을 수도 있음) 에 `1`를 더하고 싶다.\n",
    "\t\t- 어라? 어떻게 불러오지?\n",
    "\t- 변수 = 메모리에 저장된 저장공간을 가리키는 이름\n",
    "\t\t- 대소문자를 구분한다\n",
    "\t- 위의 예시에서는 `age` \n",
    "\t\t- `age`가 아니라 어떤 이름이든 가능하다. 심지어 한글도 가능.\n",
    "\t\t- 하지만 \"내 코드는 나 혼자만 보는 것이 아니다\" \"심지어 나도 나중에 보면 이 코드가 무슨 코드인지 기억이 나지 않는다\"\n",
    "\t\t- 그렇기 때문에 변수명은 가능하면 의미가 있는 이름을 붙여주자.\n",
    "- 주의사항\n",
    "\t- 파이썬에는 이미 \"이 단어는 이런 역할을 하는거야\" 인 예약어란 것들이 있다. 변수명은 예약어와 겹칠 수 없다.\n",
    "\t\t- ex) list, set, dict, and, or, del, ..."
   ]
  },
  {
   "cell_type": "code",
   "execution_count": 8,
   "id": "782d2302",
   "metadata": {},
   "outputs": [
    {
     "name": "stdout",
     "output_type": "stream",
     "text": [
      "31\n"
     ]
    }
   ],
   "source": [
    "age = age + 1\n",
    "print(age)"
   ]
  },
  {
   "cell_type": "code",
   "execution_count": 9,
   "id": "eda58a42",
   "metadata": {
    "lines_to_next_cell": 0
   },
   "outputs": [
    {
     "name": "stdout",
     "output_type": "stream",
     "text": [
      "19\n"
     ]
    }
   ],
   "source": [
    "age = 19 # 덮어 씌워질 수도 있음\n",
    "print(age)"
   ]
  },
  {
   "cell_type": "markdown",
   "id": "009b08fc",
   "metadata": {
    "lines_to_next_cell": 0
   },
   "source": [
    "## 자료형"
   ]
  },
  {
   "cell_type": "code",
   "execution_count": 10,
   "id": "f7bb2dbf",
   "metadata": {},
   "outputs": [
    {
     "ename": "NameError",
     "evalue": "name 'Hello' is not defined",
     "output_type": "error",
     "traceback": [
      "\u001b[0;31m---------------------------------------------------------------------------\u001b[0m",
      "\u001b[0;31mNameError\u001b[0m                                 Traceback (most recent call last)",
      "Input \u001b[0;32mIn [10]\u001b[0m, in \u001b[0;36m<cell line: 1>\u001b[0;34m()\u001b[0m\n\u001b[0;32m----> 1\u001b[0m \u001b[38;5;28mprint\u001b[39m(\u001b[43mHello\u001b[49m, World)\n",
      "\u001b[0;31mNameError\u001b[0m: name 'Hello' is not defined"
     ]
    }
   ],
   "source": [
    "print(Hello, World) # 에러 나는 것이 정상"
   ]
  },
  {
   "cell_type": "markdown",
   "id": "b49632e1",
   "metadata": {},
   "source": [
    "- 자료형이란?\n",
    "\t- 컴퓨터 메모리에 데이터가 저장될 때, \"어떤 형식\" 으로 저장되어야 하는지 정해둔 것\n",
    "\t- 코드만 보았을 때, 위의 예시에서 `Hello` 라는것이 다른 값을 저장한 변수인지, 아니면 문자 \"Hello\" 를 출력하길 원하는 것인지 컴퓨터는 알 수 없음\n",
    "\t\t- 사실은 변수라고 생각하지만 Hello 라는 변수가 없으므로 에러가 남 (`NameError: name 'Hello' is not defined`)\n",
    "\t- 그러므로 파이썬이 어떤 자료형을 다룰 수 있는지 알아야 한다\n",
    "\n",
    "### 숫자형\n",
    "#### 정수 (integer)\n",
    "- 소수점이 없는 양의 정수, 음의 정수, 0"
   ]
  },
  {
   "cell_type": "code",
   "execution_count": 11,
   "id": "33b2f405",
   "metadata": {},
   "outputs": [
    {
     "data": {
      "text/plain": [
       "int"
      ]
     },
     "execution_count": 11,
     "metadata": {},
     "output_type": "execute_result"
    }
   ],
   "source": [
    "type(123)"
   ]
  },
  {
   "cell_type": "code",
   "execution_count": 12,
   "id": "610f9e75",
   "metadata": {},
   "outputs": [
    {
     "data": {
      "text/plain": [
       "int"
      ]
     },
     "execution_count": 12,
     "metadata": {},
     "output_type": "execute_result"
    }
   ],
   "source": [
    "# 변수의 경우에도 동일\n",
    "a = -123\n",
    "type(a)"
   ]
  },
  {
   "cell_type": "markdown",
   "id": "c9d2e3af",
   "metadata": {},
   "source": [
    "#### 실수 (floating-point)\n",
    "- 소수점이 포함된 숫자"
   ]
  },
  {
   "cell_type": "code",
   "execution_count": 13,
   "id": "ebe18ad2",
   "metadata": {},
   "outputs": [
    {
     "data": {
      "text/plain": [
       "float"
      ]
     },
     "execution_count": 13,
     "metadata": {},
     "output_type": "execute_result"
    }
   ],
   "source": [
    "type(3.141592)"
   ]
  },
  {
   "cell_type": "code",
   "execution_count": 14,
   "id": "75d5eab7",
   "metadata": {},
   "outputs": [
    {
     "data": {
      "text/plain": [
       "float"
      ]
     },
     "execution_count": 14,
     "metadata": {},
     "output_type": "execute_result"
    }
   ],
   "source": [
    "type(4 / 1) # 나누기 연산은 int 간의 연산이더라도 float 으로 변환한다"
   ]
  },
  {
   "cell_type": "markdown",
   "id": "8753edbe",
   "metadata": {},
   "source": [
    "#### 연산자\n",
    "- 사칙연산\n",
    "\t- `+` 더하기, `-` 빼기, `*` 곱하기, `/` 나누기\n",
    "- 제곱 연산자\n",
    "\t- `**` 제곱\n",
    "- 몫과 나머지\n",
    "\t- `//` 몫 연산, `%` 나머지 연산\n",
    "- 대입 연산자\n",
    "\t- 기본\n",
    "\t\t- `=` \n",
    "\t- 복합 대입연산자\n",
    "\t\t- `+=`, `-=`, `*=`, `/=`, `%=`, `**=` 연산자 뒤의 값을 더한 값을 앞의 값에 대입"
   ]
  },
  {
   "cell_type": "code",
   "execution_count": 15,
   "id": "54c58817",
   "metadata": {},
   "outputs": [
    {
     "data": {
      "text/plain": [
       "2"
      ]
     },
     "execution_count": 15,
     "metadata": {},
     "output_type": "execute_result"
    }
   ],
   "source": [
    "1 + 1"
   ]
  },
  {
   "cell_type": "code",
   "execution_count": 16,
   "id": "a4bf107c",
   "metadata": {},
   "outputs": [
    {
     "data": {
      "text/plain": [
       "32"
      ]
     },
     "execution_count": 16,
     "metadata": {},
     "output_type": "execute_result"
    }
   ],
   "source": [
    "2 ** 5"
   ]
  },
  {
   "cell_type": "code",
   "execution_count": 17,
   "id": "ec8adf83",
   "metadata": {},
   "outputs": [
    {
     "data": {
      "text/plain": [
       "(3, 1)"
      ]
     },
     "execution_count": 17,
     "metadata": {},
     "output_type": "execute_result"
    }
   ],
   "source": [
    "10 // 3, 10 % 3"
   ]
  },
  {
   "cell_type": "code",
   "execution_count": 18,
   "id": "21ee753a",
   "metadata": {},
   "outputs": [
    {
     "name": "stdout",
     "output_type": "stream",
     "text": [
      "39 39\n"
     ]
    }
   ],
   "source": [
    "a = 35\n",
    "a = a + 4\n",
    "b = 35\n",
    "b += 4\n",
    "\n",
    "print(a, b)"
   ]
  },
  {
   "cell_type": "markdown",
   "id": "cb6d64c3",
   "metadata": {
    "lines_to_next_cell": 0
   },
   "source": [
    "### 문자열 (string)"
   ]
  },
  {
   "cell_type": "code",
   "execution_count": 19,
   "id": "d58df44a",
   "metadata": {},
   "outputs": [
    {
     "name": "stdout",
     "output_type": "stream",
     "text": [
      "Hello\n"
     ]
    },
    {
     "data": {
      "text/plain": [
       "(str, None)"
      ]
     },
     "execution_count": 19,
     "metadata": {},
     "output_type": "execute_result"
    }
   ],
   "source": [
    "a = 'Hello'\n",
    "type(a), print(a)"
   ]
  },
  {
   "cell_type": "code",
   "execution_count": 20,
   "id": "95bef99f",
   "metadata": {},
   "outputs": [
    {
     "name": "stdout",
     "output_type": "stream",
     "text": [
      "Hello\n"
     ]
    },
    {
     "data": {
      "text/plain": [
       "(str, None)"
      ]
     },
     "execution_count": 20,
     "metadata": {},
     "output_type": "execute_result"
    }
   ],
   "source": [
    "a = \"Hello\"\n",
    "type(a), print(a)"
   ]
  },
  {
   "cell_type": "code",
   "execution_count": 21,
   "id": "b0f26218",
   "metadata": {},
   "outputs": [
    {
     "name": "stdout",
     "output_type": "stream",
     "text": [
      "Life is too short,\n",
      "You need python\n"
     ]
    },
    {
     "data": {
      "text/plain": [
       "(str, None)"
      ]
     },
     "execution_count": 21,
     "metadata": {},
     "output_type": "execute_result"
    }
   ],
   "source": [
    "a = \"\"\"Life is too short,\n",
    "You need python\"\"\"\n",
    "type(a), print(a)"
   ]
  },
  {
   "cell_type": "code",
   "execution_count": 22,
   "id": "647944e8",
   "metadata": {},
   "outputs": [
    {
     "name": "stdout",
     "output_type": "stream",
     "text": [
      "Life is too short,\n",
      "You need python\n"
     ]
    },
    {
     "data": {
      "text/plain": [
       "(str, None)"
      ]
     },
     "execution_count": 22,
     "metadata": {},
     "output_type": "execute_result"
    }
   ],
   "source": [
    "a = '''Life is too short,\n",
    "You need python'''\n",
    "type(a), print(a)"
   ]
  },
  {
   "cell_type": "markdown",
   "id": "03835aff",
   "metadata": {},
   "source": [
    "- 네 가지 방법 모두 문자열을 만드는 방법\n",
    "\t- 큰/작은 따옴표 세개로 묶으면 개행문자 (new line, enter) 를 인식할 수 있고, 큰/작은 따옴표 한개로 묶으면 개행문자를 인식할 수 없다.\n",
    "- 어떤 것을 써야 하는가?\n",
    "\t- 큰 따옴표를 쓰면 작은 따옴표를 문자열 안에 넣을 수 있고, 반대로 작은 따옴표를 쓰면 큰 따옴표 안에 넣을 수 있다.\n",
    "\t- 근데 뭐 사실 뭘 써도 상관 없고 일관적으로 쓰는 것이 좋다."
   ]
  },
  {
   "cell_type": "code",
   "execution_count": 23,
   "id": "782560ad",
   "metadata": {},
   "outputs": [
    {
     "ename": "SyntaxError",
     "evalue": "invalid syntax (2906873524.py, line 2)",
     "output_type": "error",
     "traceback": [
      "\u001b[0;36m  Input \u001b[0;32mIn [23]\u001b[0;36m\u001b[0m\n\u001b[0;31m    '오늘 저녁은 파파존스's 신메뉴'\u001b[0m\n\u001b[0m                 ^\u001b[0m\n\u001b[0;31mSyntaxError\u001b[0m\u001b[0;31m:\u001b[0m invalid syntax\n"
     ]
    }
   ],
   "source": [
    "# 에러가 난다. 작은 따옴표가 's 에서 닫혀버렸기 때문\n",
    "'오늘 저녁은 파파존스's 신메뉴'"
   ]
  },
  {
   "cell_type": "code",
   "execution_count": 24,
   "id": "bbc0c3e5",
   "metadata": {},
   "outputs": [
    {
     "data": {
      "text/plain": [
       "\"오늘 저녁은 파파존스's 신메뉴\""
      ]
     },
     "execution_count": 24,
     "metadata": {},
     "output_type": "execute_result"
    }
   ],
   "source": [
    "# 에러 없음\n",
    "\"오늘 저녁은 파파존스's 신메뉴\""
   ]
  },
  {
   "cell_type": "code",
   "execution_count": 25,
   "id": "c86688e6",
   "metadata": {},
   "outputs": [
    {
     "data": {
      "text/plain": [
       "\"오늘 저녁은 파파존스's 신메뉴\""
      ]
     },
     "execution_count": 25,
     "metadata": {},
     "output_type": "execute_result"
    }
   ],
   "source": [
    "# 사실 역슬래시 \\ 를 따옴표 앞에 붙여줘도 된다. 하지만 귀찮으니까...\n",
    "'오늘 저녁은 파파존스\\'s 신메뉴'"
   ]
  },
  {
   "cell_type": "code",
   "execution_count": 26,
   "id": "1a45df7b",
   "metadata": {},
   "outputs": [
    {
     "data": {
      "text/plain": [
       "'내가 말했다. \"미트볼 샌드위치가 최고야\"'"
      ]
     },
     "execution_count": 26,
     "metadata": {},
     "output_type": "execute_result"
    }
   ],
   "source": [
    "'내가 말했다. \"미트볼 샌드위치가 최고야\"'"
   ]
  },
  {
   "cell_type": "code",
   "execution_count": 27,
   "id": "9d40d733",
   "metadata": {},
   "outputs": [
    {
     "ename": "SyntaxError",
     "evalue": "EOL while scanning string literal (2216182987.py, line 2)",
     "output_type": "error",
     "traceback": [
      "\u001b[0;36m  Input \u001b[0;32mIn [27]\u001b[0;36m\u001b[0m\n\u001b[0;31m    \"나는 생각했다.\u001b[0m\n\u001b[0m             ^\u001b[0m\n\u001b[0;31mSyntaxError\u001b[0m\u001b[0;31m:\u001b[0m EOL while scanning string literal\n"
     ]
    }
   ],
   "source": [
    "# 에러가 난다. 개행문자가 들어갔기 때문\n",
    "\"나는 생각했다.\n",
    "'오늘 저녁은 뭘 먹지?'\""
   ]
  },
  {
   "cell_type": "code",
   "execution_count": 28,
   "id": "07bdcdfe",
   "metadata": {},
   "outputs": [
    {
     "data": {
      "text/plain": [
       "\"\\n나는 생각했다.\\n'내일 아침은 뭘 먹고?'\\n\""
      ]
     },
     "execution_count": 28,
     "metadata": {},
     "output_type": "execute_result"
    }
   ],
   "source": [
    "\"\"\"\n",
    "나는 생각했다.\n",
    "'내일 아침은 뭘 먹고?'\n",
    "\"\"\""
   ]
  },
  {
   "cell_type": "code",
   "execution_count": 29,
   "id": "aaac7773",
   "metadata": {},
   "outputs": [
    {
     "data": {
      "text/plain": [
       "'이런 방법도\\n있습니다.'"
      ]
     },
     "execution_count": 29,
     "metadata": {},
     "output_type": "execute_result"
    }
   ],
   "source": [
    "\"이런 방법도\\n있습니다.\""
   ]
  },
  {
   "cell_type": "markdown",
   "id": "54ff79e9",
   "metadata": {},
   "source": [
    "#### 이스케이프 코드\n",
    "- 줄바꿈\n",
    "\t- `\\n`\n",
    "- 탭\n",
    "\t- `\\t`\n",
    "- 특수문자\n",
    "\t- `\\\\`, `\\'`, `\\\"`\n",
    "- 캐리지 리턴\n",
    "\t- 커서를 현재 줄의 가장 앞으로 이동\n",
    "\t- `\\r`\n",
    "- 그 외: https://wikidocs.net/13\n",
    "\n",
    "#### 문자열 연산\n",
    "- 문자열도 연산자를 쓸 수 있다."
   ]
  },
  {
   "cell_type": "code",
   "execution_count": 30,
   "id": "93f1e2a7",
   "metadata": {},
   "outputs": [
    {
     "data": {
      "text/plain": [
       "'Hello, World'"
      ]
     },
     "execution_count": 30,
     "metadata": {},
     "output_type": "execute_result"
    }
   ],
   "source": [
    "a = 'Hello, '\n",
    "b = 'World'\n",
    "a + b"
   ]
  },
  {
   "cell_type": "code",
   "execution_count": 31,
   "id": "b5afd3ad",
   "metadata": {},
   "outputs": [
    {
     "data": {
      "text/plain": [
       "'HelloHelloHello'"
      ]
     },
     "execution_count": 31,
     "metadata": {},
     "output_type": "execute_result"
    }
   ],
   "source": [
    "a = 'Hello'\n",
    "a * 3"
   ]
  },
  {
   "cell_type": "markdown",
   "id": "9160cc2c",
   "metadata": {
    "lines_to_next_cell": 0
   },
   "source": [
    "- 문자열의 길이를 구할 땐 `len` 함수를 쓴다."
   ]
  },
  {
   "cell_type": "code",
   "execution_count": 32,
   "id": "5f18e923",
   "metadata": {},
   "outputs": [
    {
     "data": {
      "text/plain": [
       "5"
      ]
     },
     "execution_count": 32,
     "metadata": {},
     "output_type": "execute_result"
    }
   ],
   "source": [
    "# 바로 위 코드를 실행했다면 Hello의 길이인 5가 나온다.\n",
    "len(a)"
   ]
  },
  {
   "cell_type": "markdown",
   "id": "4041aab6",
   "metadata": {
    "lines_to_next_cell": 0
   },
   "source": [
    "#### 문자열 인덱스\n",
    "- 문자열의 각 요소를 인덱스로 접근할 수 있다.\n",
    "\t- 파이썬의 인덱스는 0부터 숫자를 센다!\n",
    "\t- - 를 붙이면 뒤에서부터 인덱스를 세 준다\n",
    "```\n",
    "a[4], a[-1]\n",
    "```\n",
    "\n",
    "- 문자열 슬라이싱\n",
    "\t- `[시작번호:끝번호]`\n",
    "\t\t- 중요! 파이썬은 슬라이싱의 결과 시작번호의 원소는 넣어주지만 끝번호의 원소는 넣지 않는다.\n",
    "\t- `[시작번호:끝번호:건너 뛸 숫자]`\n",
    "\t\t- 건너 뛸 숫자는 -가 붙으면 거꾸로 값을 가져온다.\n",
    "\t- 만약 시작번호나 끝번호가 생략되면 가장 처음과 가장 마지막을 잡는다."
   ]
  },
  {
   "cell_type": "code",
   "execution_count": 33,
   "id": "6e14c1a3",
   "metadata": {},
   "outputs": [
    {
     "data": {
      "text/plain": [
       "('cake', 'lie', 'eil a si ekac ehT', 'Teck')"
      ]
     },
     "execution_count": 33,
     "metadata": {},
     "output_type": "execute_result"
    }
   ],
   "source": [
    "a = \"The cake is a lie\"\n",
    "a[4:8], a[-3:], a[::-1], a[:7:2]"
   ]
  },
  {
   "cell_type": "markdown",
   "id": "6859805c",
   "metadata": {
    "lines_to_next_cell": 0
   },
   "source": [
    "#### 문자열 포맷팅"
   ]
  },
  {
   "cell_type": "code",
   "execution_count": 34,
   "id": "25aa2da1",
   "metadata": {},
   "outputs": [
    {
     "name": "stdout",
     "output_type": "stream",
     "text": [
      "사과 3개가 남아있다\n",
      "사과 3개가 남아있다\n",
      "사과 3개가 남아있다\n"
     ]
    }
   ],
   "source": [
    "a = 3\n",
    "print(f'사과 {a}개가 남아있다') # fstring\n",
    "print('사과 {0}개가 남아있다'.format(a)) # format 메소드\n",
    "print('사과 %d개가 남아있다' % a) # 문자열 포맷팅"
   ]
  },
  {
   "cell_type": "markdown",
   "id": "a619ad17",
   "metadata": {},
   "source": [
    "- 셋 다 가능하나 셋 중 fstring이 대세가 되어가고 있음\n",
    "- 여기에서는 fstring을 설명할 예정\n",
    "\t- 나머지는 이곳을 참조: https://wikidocs.net/13"
   ]
  },
  {
   "cell_type": "code",
   "execution_count": 35,
   "id": "52a2b55a",
   "metadata": {},
   "outputs": [
    {
     "data": {
      "text/plain": [
       "'나의 이름은 홍길동입니다. 나이는 30입니다.'"
      ]
     },
     "execution_count": 35,
     "metadata": {},
     "output_type": "execute_result"
    }
   ],
   "source": [
    "name = '홍길동'\n",
    "age = 30\n",
    "f'나의 이름은 {name}입니다. 나이는 {age}입니다.'"
   ]
  },
  {
   "cell_type": "markdown",
   "id": "df890f02",
   "metadata": {
    "lines_to_next_cell": 0
   },
   "source": [
    "- 중괄호 안은 변수 이름 뿐만이 아니라 문자열로 표현할 수 있는 어떤 값이든 들어갈 수 있다."
   ]
  },
  {
   "cell_type": "code",
   "execution_count": 36,
   "id": "5933c03f",
   "metadata": {},
   "outputs": [
    {
     "data": {
      "text/plain": [
       "'나는 내년이면 31살이 됩니다.'"
      ]
     },
     "execution_count": 36,
     "metadata": {},
     "output_type": "execute_result"
    }
   ],
   "source": [
    "f'나는 내년이면 {age + 1}살이 됩니다.'"
   ]
  },
  {
   "cell_type": "markdown",
   "id": "7a9aa6c0",
   "metadata": {
    "lines_to_next_cell": 0
   },
   "source": [
    "- 정렬, 공백 채우기, 소숫점 포맷팅 등은 다음과 같이 표현할 수 있다."
   ]
  },
  {
   "cell_type": "code",
   "execution_count": 37,
   "id": "15bbed51",
   "metadata": {},
   "outputs": [
    {
     "name": "stdout",
     "output_type": "stream",
     "text": [
      "[ hi         ]\n",
      "[         hi ]\n",
      "[     hi     ]\n",
      "[ ====hi==== ]\n",
      "3.4213\n",
      "난 1,500,000원이 필요해\n"
     ]
    }
   ],
   "source": [
    "print('[', f'{\"hi\":<10}', ']') # 10칸 중 왼쪽 정렬\n",
    "print('[', f'{\"hi\":>10}', ']') # 오른쪽 정렬\n",
    "print('[', f'{\"hi\":^10}', ']') # 가운데 정렬\n",
    "\n",
    "print('[', f'{\"hi\":=^10}', ']') # 가운데 정렬하고 '=' 문자로 공백 채우기\n",
    "\n",
    "y = 3.42134234\n",
    "print(f'{y:0.4f}') # 소숫점 4자리까지만 표현\n",
    "\n",
    "print(f'난 {1500000:,}원이 필요해') # 자릿수 표현하기"
   ]
  },
  {
   "cell_type": "markdown",
   "id": "2a43ee6f",
   "metadata": {
    "lines_to_next_cell": 0
   },
   "source": [
    "#### 몇몇 문자열 함수들\n",
    "\n",
    "- 이 곳의 함수들을 모두 외울 필요는 없다. \n",
    "\t- 하지만 이런 함수가 있다는것을 알아야 나중에\b찾아서 쓸 수 있기 때문에 한번씩 써 보자.\n",
    "\n",
    "- 메소드를 통해 대소문자를 변경할 수 있다."
   ]
  },
  {
   "cell_type": "code",
   "execution_count": 38,
   "id": "76c53b6e",
   "metadata": {},
   "outputs": [
    {
     "name": "stdout",
     "output_type": "stream",
     "text": [
      "HELLO WORLD hello world Hello World\n"
     ]
    }
   ],
   "source": [
    "a = 'hELLO wORLD'\n",
    "print(a.upper(), a.lower(), a.title())"
   ]
  },
  {
   "cell_type": "markdown",
   "id": "e12d4780",
   "metadata": {
    "lines_to_next_cell": 0
   },
   "source": [
    "- 좌우 공백 (띄어쓰기) 를 자동으로 삭제시킬 수 있다."
   ]
  },
  {
   "cell_type": "code",
   "execution_count": 39,
   "id": "ea38bf42",
   "metadata": {},
   "outputs": [
    {
     "name": "stdout",
     "output_type": "stream",
     "text": [
      "[ hello    ]\n",
      "[    hello ]\n",
      "[ hello ]\n"
     ]
    }
   ],
   "source": [
    "a = '   hello   '\n",
    "print('[', a.lstrip(), ']')\n",
    "print('[', a.rstrip(), ']')\n",
    "print('[', a.strip(), ']')"
   ]
  },
  {
   "cell_type": "markdown",
   "id": "49276b5b",
   "metadata": {
    "lines_to_next_cell": 0
   },
   "source": [
    "- 문자열을 치환할 수 있다."
   ]
  },
  {
   "cell_type": "code",
   "execution_count": 40,
   "id": "d56dce63",
   "metadata": {},
   "outputs": [
    {
     "name": "stdout",
     "output_type": "stream",
     "text": [
      "I like burgers\n"
     ]
    }
   ],
   "source": [
    "print('I like pizza'.replace('pizza', 'burgers'))"
   ]
  },
  {
   "cell_type": "markdown",
   "id": "082f2759",
   "metadata": {
    "lines_to_next_cell": 0
   },
   "source": [
    "- 문자열을 띄어쓰기 기준으로 나눠서 리스트로 만들 수 있다.\n",
    "\t- 리스트는 이 다음에 설명된다."
   ]
  },
  {
   "cell_type": "code",
   "execution_count": 41,
   "id": "464e54b4",
   "metadata": {},
   "outputs": [
    {
     "name": "stdout",
     "output_type": "stream",
     "text": [
      "['Life', 'is', 'too', 'short']\n",
      "['Life', 'is', 'too', 'short']\n"
     ]
    }
   ],
   "source": [
    "a = 'Life is too short'\n",
    "print(a.split())\n",
    "\n",
    "b = 'Life-is-too-short'\n",
    "print(b.split('-'))"
   ]
  },
  {
   "cell_type": "markdown",
   "id": "117e485f",
   "metadata": {
    "lines_to_next_cell": 0
   },
   "source": [
    "- 문자열이 알파벳 / 숫자로만 구성되어 있는지 확인하기"
   ]
  },
  {
   "cell_type": "code",
   "execution_count": 42,
   "id": "954aa208",
   "metadata": {},
   "outputs": [
    {
     "data": {
      "text/plain": [
       "(True, False, False)"
      ]
     },
     "execution_count": 42,
     "metadata": {},
     "output_type": "execute_result"
    }
   ],
   "source": [
    "'Python'.isalpha(), 'Python3'.isalpha(), 'Hello World'.isalpha()"
   ]
  },
  {
   "cell_type": "code",
   "execution_count": 43,
   "id": "2283ad82",
   "metadata": {},
   "outputs": [
    {
     "data": {
      "text/plain": [
       "(True, False, False)"
      ]
     },
     "execution_count": 43,
     "metadata": {},
     "output_type": "execute_result"
    }
   ],
   "source": [
    "'12345'.isdigit(), 'l2345'.isdigit(), '12 45'.isdigit()"
   ]
  },
  {
   "cell_type": "markdown",
   "id": "d43b397b",
   "metadata": {
    "lines_to_next_cell": 0
   },
   "source": [
    "- 문자열이 특정 문자로 시작하는지/끝나는지 확인하기"
   ]
  },
  {
   "cell_type": "code",
   "execution_count": 44,
   "id": "1d7dfd05",
   "metadata": {},
   "outputs": [
    {
     "data": {
      "text/plain": [
       "(True, False)"
      ]
     },
     "execution_count": 44,
     "metadata": {},
     "output_type": "execute_result"
    }
   ],
   "source": [
    "s = 'Life is too short'\n",
    "s.startswith('Life'), s.startswith('\bshort')"
   ]
  },
  {
   "cell_type": "code",
   "execution_count": 45,
   "id": "7ec2147a",
   "metadata": {},
   "outputs": [
    {
     "data": {
      "text/plain": [
       "(False, False)"
      ]
     },
     "execution_count": 45,
     "metadata": {},
     "output_type": "execute_result"
    }
   ],
   "source": [
    "s.endswith('Life'), s.endswith('\bshort')"
   ]
  },
  {
   "cell_type": "markdown",
   "id": "f4175c10",
   "metadata": {},
   "source": [
    "### 리스트 (List)\n",
    "- 어떤 값들을 일렬로 쭉 세운 배열 자료형이다.\n",
    "- 문자열에서 split 했을때 나온 값이 리스트이다.\n",
    "- `[`와 `]`사이에 값을 콤마로 구분하여 넣어줄 수 있다."
   ]
  },
  {
   "cell_type": "code",
   "execution_count": 46,
   "id": "4e599a6f",
   "metadata": {},
   "outputs": [],
   "source": [
    "a = [1, 2, 3, 4, 5]\n",
    "b = ['The', 'cake', 'is', 'a', 'lie']\n",
    "c = [] # 빈 리스트\n",
    "d = ['나는', 3, '개의 사과를 가지고 있어'] # 여러 자료형들이 섞여있을수도 있다\n",
    "e = [a, b, c, d] # 리스트의 리스트. 사실 어떤 값이든 들어갈 수 있다"
   ]
  },
  {
   "cell_type": "markdown",
   "id": "f29a8769",
   "metadata": {
    "lines_to_next_cell": 0
   },
   "source": [
    "#### 리스트의 인덱스\n",
    "- 문자열과 동일한 방식으로 인덱스와 슬라이스를 할 수 있다\n",
    "\t- 중첩 리스트 (리스트 안에 리스트) 인 경우에는 `[]` 를 여러번 써 주면 접근할 수 있다"
   ]
  },
  {
   "cell_type": "code",
   "execution_count": 47,
   "id": "f30211e3",
   "metadata": {},
   "outputs": [
    {
     "name": "stdout",
     "output_type": "stream",
     "text": [
      "나는 5 개의 사과를 가지고 있어\n"
     ]
    }
   ],
   "source": [
    "print(d[0], a[-1], e[3][2])"
   ]
  },
  {
   "cell_type": "code",
   "execution_count": 48,
   "id": "ccca5c4f",
   "metadata": {},
   "outputs": [
    {
     "data": {
      "text/plain": [
       "([2, 3], [3, 4, 5], [1, 2])"
      ]
     },
     "execution_count": 48,
     "metadata": {},
     "output_type": "execute_result"
    }
   ],
   "source": [
    "a[1:3], a[2:], a[:-3]"
   ]
  },
  {
   "cell_type": "markdown",
   "id": "e37d97b6",
   "metadata": {
    "lines_to_next_cell": 0
   },
   "source": [
    "#### 리스트의 연산\n",
    "- 문자열과 동일하게 리스트끼리 연산 `+`, `*` 를 쓸 수 있다."
   ]
  },
  {
   "cell_type": "code",
   "execution_count": 49,
   "id": "034e8aaa",
   "metadata": {},
   "outputs": [
    {
     "data": {
      "text/plain": [
       "[1, 2, 3, 4, 5]"
      ]
     },
     "execution_count": 49,
     "metadata": {},
     "output_type": "execute_result"
    }
   ],
   "source": [
    "[1, 2] + [3, 4, 5]"
   ]
  },
  {
   "cell_type": "code",
   "execution_count": 50,
   "id": "134347d1",
   "metadata": {},
   "outputs": [
    {
     "data": {
      "text/plain": [
       "[1, 2, 1, 2, 1, 2]"
      ]
     },
     "execution_count": 50,
     "metadata": {},
     "output_type": "execute_result"
    }
   ],
   "source": [
    "[1, 2] * 3"
   ]
  },
  {
   "cell_type": "markdown",
   "id": "ca1b7052",
   "metadata": {
    "lines_to_next_cell": 0
   },
   "source": [
    "- 리스트의 길이도 마찬가지로 `len` 함수를 쓸 수 있다."
   ]
  },
  {
   "cell_type": "code",
   "execution_count": 51,
   "id": "b68e3b37",
   "metadata": {},
   "outputs": [
    {
     "data": {
      "text/plain": [
       "(4, 0)"
      ]
     },
     "execution_count": 51,
     "metadata": {},
     "output_type": "execute_result"
    }
   ],
   "source": [
    "len(e), len(e[2])"
   ]
  },
  {
   "cell_type": "markdown",
   "id": "0bea8c8e",
   "metadata": {
    "lines_to_next_cell": 0
   },
   "source": [
    "#### 리스트의 수정과 삭제\n",
    "- 인덱스를 이용해 리스트 안의 값을 수정할 수 있다."
   ]
  },
  {
   "cell_type": "code",
   "execution_count": 52,
   "id": "aa3606e4",
   "metadata": {},
   "outputs": [
    {
     "data": {
      "text/plain": [
       "[1, 2, 4]"
      ]
     },
     "execution_count": 52,
     "metadata": {},
     "output_type": "execute_result"
    }
   ],
   "source": [
    "a = [1, 2, 3]\n",
    "a[2] = 4\n",
    "a"
   ]
  },
  {
   "cell_type": "markdown",
   "id": "6f2a21c6",
   "metadata": {
    "lines_to_next_cell": 0
   },
   "source": [
    "- 특정 값을 삭제하려면 `del` 을 쓰면 된다."
   ]
  },
  {
   "cell_type": "code",
   "execution_count": 53,
   "id": "787163d1",
   "metadata": {},
   "outputs": [
    {
     "data": {
      "text/plain": [
       "[1, 2]"
      ]
     },
     "execution_count": 53,
     "metadata": {},
     "output_type": "execute_result"
    }
   ],
   "source": [
    "del a[2]\n",
    "a"
   ]
  },
  {
   "cell_type": "markdown",
   "id": "283f45dd",
   "metadata": {
    "lines_to_next_cell": 0
   },
   "source": [
    "- 리스트 뒤쪽에 값을 추가하려면 `append`, `extend` 메소드를 사용할 수 있다."
   ]
  },
  {
   "cell_type": "code",
   "execution_count": 54,
   "id": "ffca64f5",
   "metadata": {},
   "outputs": [
    {
     "data": {
      "text/plain": [
       "[1, 2, 5]"
      ]
     },
     "execution_count": 54,
     "metadata": {},
     "output_type": "execute_result"
    }
   ],
   "source": [
    "a.append(5) # append 는 값 하나씩 리스트 뒤에 붙여준다.\n",
    "a"
   ]
  },
  {
   "cell_type": "code",
   "execution_count": 55,
   "id": "bdf3900f",
   "metadata": {},
   "outputs": [
    {
     "data": {
      "text/plain": [
       "[1, 2, 5, 6, 7]"
      ]
     },
     "execution_count": 55,
     "metadata": {},
     "output_type": "execute_result"
    }
   ],
   "source": [
    "a.extend([6, 7]) # extend는 리스트 뒤에 리스트를 붙여주는 역할을 한다.\n",
    "a"
   ]
  },
  {
   "cell_type": "markdown",
   "id": "e578a125",
   "metadata": {
    "lines_to_next_cell": 0
   },
   "source": [
    "- 중간에 값을 넣고 싶을 때에는 `insert`, 중간의 값을 제거할 때에는 `del` 외에도 `remove` 를 쓸 수 있다."
   ]
  },
  {
   "cell_type": "code",
   "execution_count": 56,
   "id": "aa888b3d",
   "metadata": {},
   "outputs": [
    {
     "data": {
      "text/plain": [
       "[8, 1, 2, 5, 6, 7]"
      ]
     },
     "execution_count": 56,
     "metadata": {},
     "output_type": "execute_result"
    }
   ],
   "source": [
    "a.insert(0, 8)\n",
    "a"
   ]
  },
  {
   "cell_type": "code",
   "execution_count": 58,
   "id": "bbca34e4",
   "metadata": {},
   "outputs": [
    {
     "data": {
      "text/plain": [
       "[8, 1, 5, 6, 7]"
      ]
     },
     "execution_count": 58,
     "metadata": {},
     "output_type": "execute_result"
    }
   ],
   "source": [
    "a.remove(2)\n",
    "a"
   ]
  },
  {
   "cell_type": "markdown",
   "id": "1b3f04f6",
   "metadata": {
    "lines_to_next_cell": 0
   },
   "source": [
    "#### 그 외 리스트 관련 함수\n",
    "- 리스트를 오름차순 / 내림차순으로 정렬할 수 있다."
   ]
  },
  {
   "cell_type": "code",
   "execution_count": 59,
   "id": "0c602baf",
   "metadata": {},
   "outputs": [
    {
     "data": {
      "text/plain": [
       "[1, 2, 3, 4, 5]"
      ]
     },
     "execution_count": 59,
     "metadata": {},
     "output_type": "execute_result"
    }
   ],
   "source": [
    "a = [3, 1, 2, 5, 4]\n",
    "a.sort() # sort 메소드는 오름차순 정렬\n",
    "a"
   ]
  },
  {
   "cell_type": "code",
   "execution_count": 60,
   "id": "038833b4",
   "metadata": {},
   "outputs": [
    {
     "data": {
      "text/plain": [
       "[4, 5, 2, 1, 3]"
      ]
     },
     "execution_count": 60,
     "metadata": {},
     "output_type": "execute_result"
    }
   ],
   "source": [
    "a = [3, 1, 2, 5, 4]\n",
    "a.reverse() # reverse 메소드는 내림차순 정렬\n",
    "a"
   ]
  },
  {
   "cell_type": "markdown",
   "id": "cc43f5bd",
   "metadata": {
    "lines_to_next_cell": 0
   },
   "source": [
    "- 리스트에서 특정 값을 찾아서 인덱스를 가져올 수 있다.\n",
    "\t- 만약 존재하지 않는 값을 찾으려 할 때에는 에러가 나니 주의!\n",
    "\t- 참고로 이 메소드는 문자열에서도 쓸 수 있다."
   ]
  },
  {
   "cell_type": "code",
   "execution_count": 61,
   "id": "7955ab5a",
   "metadata": {},
   "outputs": [
    {
     "data": {
      "text/plain": [
       "3"
      ]
     },
     "execution_count": 61,
     "metadata": {},
     "output_type": "execute_result"
    }
   ],
   "source": [
    "a = [3, 1, 2, 5, 4]\n",
    "a.index(5)"
   ]
  },
  {
   "cell_type": "code",
   "execution_count": 62,
   "id": "54a95c40",
   "metadata": {},
   "outputs": [
    {
     "ename": "ValueError",
     "evalue": "-1 is not in list",
     "output_type": "error",
     "traceback": [
      "\u001b[0;31m---------------------------------------------------------------------------\u001b[0m",
      "\u001b[0;31mValueError\u001b[0m                                Traceback (most recent call last)",
      "Input \u001b[0;32mIn [62]\u001b[0m, in \u001b[0;36m<cell line: 1>\u001b[0;34m()\u001b[0m\n\u001b[0;32m----> 1\u001b[0m \u001b[43ma\u001b[49m\u001b[38;5;241;43m.\u001b[39;49m\u001b[43mindex\u001b[49m\u001b[43m(\u001b[49m\u001b[38;5;241;43m-\u001b[39;49m\u001b[38;5;241;43m1\u001b[39;49m\u001b[43m)\u001b[49m\n",
      "\u001b[0;31mValueError\u001b[0m: -1 is not in list"
     ]
    }
   ],
   "source": [
    "a.index(-1) # ValueError 가 난다"
   ]
  },
  {
   "cell_type": "markdown",
   "id": "8e82d117",
   "metadata": {
    "lines_to_next_cell": 0
   },
   "source": [
    "- `count`는 리스트 안의 특정 값이 몇번 등장하는지 세 준다.\n",
    "\t- 마찬가지로 이 메소드는 문자열에서도 쓸 수 있다."
   ]
  },
  {
   "cell_type": "code",
   "execution_count": 63,
   "id": "4b4f172d",
   "metadata": {},
   "outputs": [
    {
     "data": {
      "text/plain": [
       "3"
      ]
     },
     "execution_count": 63,
     "metadata": {},
     "output_type": "execute_result"
    }
   ],
   "source": [
    "a = [1, 2, 1, 3, 4, 3, 3]\n",
    "a.count(3)"
   ]
  },
  {
   "cell_type": "markdown",
   "id": "e67a12aa",
   "metadata": {
    "lines_to_next_cell": 0
   },
   "source": [
    "- `pop` 이라는 메소드가 있는데, 얘는 가장 마지막의 값을 끄집어낸 뒤 그 값을 리스트에서 삭제한다."
   ]
  },
  {
   "cell_type": "code",
   "execution_count": 64,
   "id": "cfd70553",
   "metadata": {},
   "outputs": [
    {
     "data": {
      "text/plain": [
       "([1, 2, 3], 4)"
      ]
     },
     "execution_count": 64,
     "metadata": {},
     "output_type": "execute_result"
    }
   ],
   "source": [
    "a = [1, 2, 3, 4]\n",
    "b = a.pop()\n",
    "a, b"
   ]
  },
  {
   "cell_type": "markdown",
   "id": "090802e5",
   "metadata": {},
   "source": [
    "### 튜플 (tuple)\n",
    "- 리스트의 불변 자료형 버전\n",
    "\t- 리스트는 중간의 값을 바꾸거나 삭제거나 삽입할 수 있었는데, 튜플은 이것이 불가능하다.\n",
    "\t- 그렇기 때문에 튜플은 좀 더 가볍고, 불변 자료형을 요구하는 경우 사용할 수 있다.\n",
    "- 사용법\n",
    "\t- 괄호 안에 값을 콤마로 구분해주면 된다.\n",
    "\t\t- 한 개의 값을 튜플에 넣을 때에도 콤마가 필요하다.\n",
    "\t\t- 빈 튜플은 괄호만 적어주면 된다.\n",
    "\t- 리스트를 튜플로 바꿀 수 있다.\n",
    "\t- 컴퓨터가 헷갈리지 않을 만한 경우에는 괄호가 없어도 콤마로 구분해주면 튜플 취급을 한다."
   ]
  },
  {
   "cell_type": "code",
   "execution_count": 65,
   "id": "cebf798c",
   "metadata": {},
   "outputs": [
    {
     "data": {
      "text/plain": [
       "((1, 2, 3), (4,), (), (1, 2, 3))"
      ]
     },
     "execution_count": 65,
     "metadata": {},
     "output_type": "execute_result"
    }
   ],
   "source": [
    "a = (1, 2, 3)\n",
    "b = (4,)\n",
    "c = ()\n",
    "d = 1, 2, 3\n",
    "\n",
    "a, b, c, d # 결과 출력을 위한 라인이지만 사실 이것도 튜플이다!"
   ]
  },
  {
   "cell_type": "markdown",
   "id": "14c39628",
   "metadata": {
    "lines_to_next_cell": 0
   },
   "source": [
    "#### 튜플의 특성\n",
    "- 값을 수정하거나 삭제할 수 없으므로 다음과 같은 코드는 에러가 난다."
   ]
  },
  {
   "cell_type": "code",
   "execution_count": 66,
   "id": "f45564c9",
   "metadata": {},
   "outputs": [
    {
     "ename": "TypeError",
     "evalue": "'tuple' object doesn't support item deletion",
     "output_type": "error",
     "traceback": [
      "\u001b[0;31m---------------------------------------------------------------------------\u001b[0m",
      "\u001b[0;31mTypeError\u001b[0m                                 Traceback (most recent call last)",
      "Input \u001b[0;32mIn [66]\u001b[0m, in \u001b[0;36m<cell line: 2>\u001b[0;34m()\u001b[0m\n\u001b[1;32m      1\u001b[0m a \u001b[38;5;241m=\u001b[39m (\u001b[38;5;241m1\u001b[39m, \u001b[38;5;241m2\u001b[39m, \u001b[38;5;241m3\u001b[39m)\n\u001b[0;32m----> 2\u001b[0m \u001b[38;5;28;01mdel\u001b[39;00m a[\u001b[38;5;241m1\u001b[39m]\n",
      "\u001b[0;31mTypeError\u001b[0m: 'tuple' object doesn't support item deletion"
     ]
    }
   ],
   "source": [
    "a = (1, 2, 3)\n",
    "del a[1]"
   ]
  },
  {
   "cell_type": "code",
   "execution_count": 67,
   "id": "be1ac2bf",
   "metadata": {},
   "outputs": [
    {
     "ename": "TypeError",
     "evalue": "'tuple' object does not support item assignment",
     "output_type": "error",
     "traceback": [
      "\u001b[0;31m---------------------------------------------------------------------------\u001b[0m",
      "\u001b[0;31mTypeError\u001b[0m                                 Traceback (most recent call last)",
      "Input \u001b[0;32mIn [67]\u001b[0m, in \u001b[0;36m<cell line: 1>\u001b[0;34m()\u001b[0m\n\u001b[0;32m----> 1\u001b[0m a[\u001b[38;5;241m1\u001b[39m] \u001b[38;5;241m=\u001b[39m \u001b[38;5;241m3\u001b[39m\n",
      "\u001b[0;31mTypeError\u001b[0m: 'tuple' object does not support item assignment"
     ]
    }
   ],
   "source": [
    "a[1] = 3"
   ]
  },
  {
   "cell_type": "markdown",
   "id": "9c807aa8",
   "metadata": {
    "lines_to_next_cell": 0
   },
   "source": [
    "- 하지만 인덱스, 슬라이스, 연산자 자체는 잘 작동한다."
   ]
  },
  {
   "cell_type": "code",
   "execution_count": 68,
   "id": "1a98772a",
   "metadata": {},
   "outputs": [
    {
     "name": "stdout",
     "output_type": "stream",
     "text": [
      "(2, 1)\n",
      "6\n"
     ]
    }
   ],
   "source": [
    "a = (1, 2) * 3\n",
    "print(a[3:5])\n",
    "print(len(a))"
   ]
  },
  {
   "cell_type": "markdown",
   "id": "9df5fdd6",
   "metadata": {
    "lines_to_next_cell": 0
   },
   "source": [
    "### 딕셔너리 (dictionary)\n",
    "- 말 그대로 사전이라는 뜻\n",
    "\t- 키와 값으로 나누어진다.\n",
    "\t- 키로 값을 찾을 수 있다.\n",
    "- 사용법\n",
    "\t- `{}` 를 쓰면서 키와 값 사이에 `:` 로 구분해주어야 한다."
   ]
  },
  {
   "cell_type": "code",
   "execution_count": 69,
   "id": "e0ac440f",
   "metadata": {},
   "outputs": [
    {
     "name": "stdout",
     "output_type": "stream",
     "text": [
      "버터\n"
     ]
    }
   ],
   "source": [
    "food = {\n",
    "    'apple': '사과', # 보기 좋게 정렬하기 위해서 띄어쓰기 네 개를 앞에 붙여주었다. 들여쓰기는 자유\n",
    "    'pizza': '피자',\n",
    "    'butter': '버터'\n",
    "}\n",
    "\n",
    "print(food['butter'])"
   ]
  },
  {
   "cell_type": "markdown",
   "id": "8c19cf8a",
   "metadata": {
    "lines_to_next_cell": 0
   },
   "source": [
    "#### dictionary의 값 수정하기\n",
    "- 하나의 값을 변경하거나 삭제하려고 할 때에는 단순하다."
   ]
  },
  {
   "cell_type": "code",
   "execution_count": 70,
   "id": "3b7ea651",
   "metadata": {},
   "outputs": [
    {
     "data": {
      "text/plain": [
       "{'pizza': '피자', 'butter': '버터', 'cookie': '쿠키'}"
      ]
     },
     "execution_count": 70,
     "metadata": {},
     "output_type": "execute_result"
    }
   ],
   "source": [
    "food['cookie'] = '쿠키'\n",
    "del food['apple']\n",
    "food"
   ]
  },
  {
   "cell_type": "markdown",
   "id": "fd8378cc",
   "metadata": {
    "lines_to_next_cell": 0
   },
   "source": [
    "- 만약 여러개의 dictionary 키 값 쌍을 추가하려면 update 메소드를 사용할 수 있다.\n",
    "\t- 메소드의 인자값으로 다른 dictionary를 넣어주면 된다."
   ]
  },
  {
   "cell_type": "code",
   "execution_count": 71,
   "id": "e4276765",
   "metadata": {
    "lines_to_next_cell": 0
   },
   "outputs": [
    {
     "data": {
      "text/plain": [
       "{'pizza': '피자', 'butter': '버터', 'cookie': '쿠키', 'melon': '멜론', 'ramen': '라면'}"
      ]
     },
     "execution_count": 71,
     "metadata": {},
     "output_type": "execute_result"
    }
   ],
   "source": [
    "food.update({'melon': '멜론', 'ramen': '라면'})\n",
    "food"
   ]
  },
  {
   "cell_type": "markdown",
   "id": "95e30f4c",
   "metadata": {
    "lines_to_next_cell": 0
   },
   "source": [
    "#### dictionary의 주의사항\n",
    "- dictionary의 키는 여러개가 들어갈 수 없다.\n",
    "\t- 그래서 기존에 존재하는 키로 값을 넣어주게 되면 덮어씌워진다"
   ]
  },
  {
   "cell_type": "code",
   "execution_count": 72,
   "id": "a1e3d07f",
   "metadata": {},
   "outputs": [
    {
     "data": {
      "text/plain": [
       "{'pizza': '피자는 파파존스',\n",
       " 'butter': '버터',\n",
       " 'cookie': '쿠키',\n",
       " 'melon': '멜론',\n",
       " 'ramen': '라면'}"
      ]
     },
     "execution_count": 72,
     "metadata": {},
     "output_type": "execute_result"
    }
   ],
   "source": [
    "food['pizza'] = '피자는 파파존스'\n",
    "food"
   ]
  },
  {
   "cell_type": "markdown",
   "id": "99d47867",
   "metadata": {
    "lines_to_next_cell": 0
   },
   "source": [
    "- dictionary의 키는 불변 자료형만 들어갈 수 있다.\n",
    "\t- 숫자형, 문자열, 튜플 등"
   ]
  },
  {
   "cell_type": "code",
   "execution_count": 73,
   "id": "1aa15bd1",
   "metadata": {},
   "outputs": [
    {
     "data": {
      "text/plain": [
       "{'pizza': '피자는 파파존스',\n",
       " 'butter': '버터',\n",
       " 'cookie': '쿠키',\n",
       " 'melon': '멜론',\n",
       " 'ramen': '라면',\n",
       " ('apple', 'lemon'): '과일'}"
      ]
     },
     "execution_count": 73,
     "metadata": {},
     "output_type": "execute_result"
    }
   ],
   "source": [
    "food[('apple', 'lemon')] = '과일' # 에러가 나지 않는다\n",
    "food"
   ]
  },
  {
   "cell_type": "code",
   "execution_count": 74,
   "id": "32d7c948",
   "metadata": {},
   "outputs": [
    {
     "ename": "TypeError",
     "evalue": "unhashable type: 'list'",
     "output_type": "error",
     "traceback": [
      "\u001b[0;31m---------------------------------------------------------------------------\u001b[0m",
      "\u001b[0;31mTypeError\u001b[0m                                 Traceback (most recent call last)",
      "Input \u001b[0;32mIn [74]\u001b[0m, in \u001b[0;36m<cell line: 1>\u001b[0;34m()\u001b[0m\n\u001b[0;32m----> 1\u001b[0m food[[\u001b[38;5;241m1\u001b[39m, \u001b[38;5;241m2\u001b[39m, \u001b[38;5;241m3\u001b[39m]] \u001b[38;5;241m=\u001b[39m \u001b[38;5;124m'\u001b[39m\u001b[38;5;124m숫자 리스트\u001b[39m\u001b[38;5;124m'\u001b[39m\n",
      "\u001b[0;31mTypeError\u001b[0m: unhashable type: 'list'"
     ]
    }
   ],
   "source": [
    "food[[1, 2, 3]] = '숫자 리스트' # 에러가 난다"
   ]
  },
  {
   "cell_type": "markdown",
   "id": "cbd5d4bb",
   "metadata": {
    "lines_to_next_cell": 0
   },
   "source": [
    "#### dictionary 관련 함수\n",
    "- dictionary의 키와 값, 혹은 키값 쌍을 리턴해주는 메소드가 있다.\n",
    "\t- 순서는 파이썬 3.7 이후부터는 삽입된 순서대로 나온다. 현재 코랩의 파이썬 버전은 3.12\n",
    "\t- 파이썬 3.7 이전까지는 어떤 순서로 나올지 모르기 때문에 주의!"
   ]
  },
  {
   "cell_type": "code",
   "execution_count": 75,
   "id": "5fe9ba87",
   "metadata": {},
   "outputs": [
    {
     "name": "stdout",
     "output_type": "stream",
     "text": [
      "Keys: dict_keys(['pizza', 'butter', 'cookie', 'melon', 'ramen', ('apple', 'lemon')])\n",
      "Values: dict_values(['피자는 파파존스', '버터', '쿠키', '멜론', '라면', '과일'])\n",
      "Key-value pairs: dict_items([('pizza', '피자는 파파존스'), ('butter', '버터'), ('cookie', '쿠키'), ('melon', '멜론'), ('ramen', '라면'), (('apple', 'lemon'), '과일')])\n"
     ]
    }
   ],
   "source": [
    "print('Keys:', food.keys())\n",
    "print('Values:', food.values())\n",
    "print('Key-value pairs:', food.items())"
   ]
  },
  {
   "cell_type": "markdown",
   "id": "e2b999dd",
   "metadata": {
    "lines_to_next_cell": 0
   },
   "source": [
    "- 인덱스 `[]` 를 사용해도 되지만, 또 다른 값을 가져오는 방법은 `get` 메소드이다.\n",
    "\t- 이 메소드는 키가 없을 경우 에러를 내지 않고 `None`을 리턴하거나 default 값을 리턴해주게 쓸 수 있으므로 유용하다."
   ]
  },
  {
   "cell_type": "code",
   "execution_count": 76,
   "id": "4f955c07",
   "metadata": {},
   "outputs": [
    {
     "ename": "KeyError",
     "evalue": "'lemon'",
     "output_type": "error",
     "traceback": [
      "\u001b[0;31m---------------------------------------------------------------------------\u001b[0m",
      "\u001b[0;31mKeyError\u001b[0m                                  Traceback (most recent call last)",
      "Input \u001b[0;32mIn [76]\u001b[0m, in \u001b[0;36m<cell line: 1>\u001b[0;34m()\u001b[0m\n\u001b[0;32m----> 1\u001b[0m \u001b[43mfood\u001b[49m\u001b[43m[\u001b[49m\u001b[38;5;124;43m'\u001b[39;49m\u001b[38;5;124;43mlemon\u001b[39;49m\u001b[38;5;124;43m'\u001b[39;49m\u001b[43m]\u001b[49m\n",
      "\u001b[0;31mKeyError\u001b[0m: 'lemon'"
     ]
    }
   ],
   "source": [
    "food['lemon'] # 에러가 난다"
   ]
  },
  {
   "cell_type": "code",
   "execution_count": 77,
   "id": "ae9551d5",
   "metadata": {},
   "outputs": [],
   "source": [
    "food.get('lemon') # 에러가 나지는 않지만 값이 나오지도 않는다"
   ]
  },
  {
   "cell_type": "code",
   "execution_count": 78,
   "id": "f172b006",
   "metadata": {},
   "outputs": [
    {
     "data": {
      "text/plain": [
       "'없음'"
      ]
     },
     "execution_count": 78,
     "metadata": {},
     "output_type": "execute_result"
    }
   ],
   "source": [
    "food.get('lemon', '없음') # '없음'이 나온다"
   ]
  },
  {
   "cell_type": "markdown",
   "id": "faadeacc",
   "metadata": {
    "lines_to_next_cell": 0
   },
   "source": [
    "- `in` 명령어를 쓰면 어떤 키가 딕셔너리에 존재하는지 알 수 있다."
   ]
  },
  {
   "cell_type": "code",
   "execution_count": 79,
   "id": "624f62a0",
   "metadata": {},
   "outputs": [
    {
     "data": {
      "text/plain": [
       "(False, False)"
      ]
     },
     "execution_count": 79,
     "metadata": {},
     "output_type": "execute_result"
    }
   ],
   "source": [
    "'lemon' in food, 'apple' in food"
   ]
  },
  {
   "cell_type": "markdown",
   "id": "22f697fc",
   "metadata": {
    "lines_to_next_cell": 0
   },
   "source": [
    "- 모든 값을 삭제해주는 메소드는 `clear` 이다."
   ]
  },
  {
   "cell_type": "code",
   "execution_count": 80,
   "id": "4ea8bc86",
   "metadata": {},
   "outputs": [
    {
     "data": {
      "text/plain": [
       "{}"
      ]
     },
     "execution_count": 80,
     "metadata": {},
     "output_type": "execute_result"
    }
   ],
   "source": [
    "food.clear()\n",
    "food"
   ]
  },
  {
   "cell_type": "markdown",
   "id": "e12c68b0",
   "metadata": {
    "lines_to_next_cell": 0
   },
   "source": [
    "### 집합/셋 (set)\n",
    "- 수학의 집합 개념과 동일한 자료형이다.\n",
    "\t- 리스트나 튜플은 같은 값이 여러개 들어갈 수 있지만, 셋은 그렇지 않다.\n",
    "\t\t- 그런 점에서는 딕셔너리의 키와 비슷하다\n",
    "\t- 리스트나 튜플은 순서가 있지만, 셋은 그렇지 않다\n",
    "\t\t- 내부적으로 순서가 있기는 하지만, 일정하다고 보장되지 않는다.\n",
    "- 사용법\n",
    "\t- set 함수를 사용하거나, {}를 사용할 수 있다.\n",
    "\t\t- dictionary는 key: value 였지만 set은 그냥 {}와 콤마로 만들어준다."
   ]
  },
  {
   "cell_type": "code",
   "execution_count": 81,
   "id": "c1844810",
   "metadata": {},
   "outputs": [
    {
     "data": {
      "text/plain": [
       "({1, 2, 3}, {4, 5, 6}, {'H', 'e', 'l', 'o'})"
      ]
     },
     "execution_count": 81,
     "metadata": {},
     "output_type": "execute_result"
    }
   ],
   "source": [
    "s1 = set([1, 2, 3]) # 리스트나 튜플을 괄호 안에 넣어준다.\n",
    "s2 = {4, 5, 6, 6} # 6이 하나만 남는다\n",
    "s3 = set('Hello') # 각 문자가 원소로 취급되며 그 결과 l이 하나만 남는다\n",
    "\n",
    "s1, s2, s3"
   ]
  },
  {
   "cell_type": "markdown",
   "id": "d7309183",
   "metadata": {},
   "source": [
    "#### 집합 연산\n",
    "- 일반적으로 생각하는 집합 연산 (교집합, 합집합, 차집합)이 가능하다."
   ]
  },
  {
   "cell_type": "code",
   "execution_count": 82,
   "id": "b1cf9fbe",
   "metadata": {},
   "outputs": [
    {
     "name": "stdout",
     "output_type": "stream",
     "text": [
      "교집합: {4, 5, 6} {4, 5, 6}\n",
      "합집합: {1, 2, 3, 4, 5, 6, 7, 8, 9} {1, 2, 3, 4, 5, 6, 7, 8, 9}\n",
      "차집합 (s1-s2): {1, 2, 3} {1, 2, 3}\n",
      "차집합 (s2-s1): {8, 9, 7} {8, 9, 7}\n"
     ]
    }
   ],
   "source": [
    "s1 = set([1, 2, 3, 4, 5, 6])\n",
    "s2 = set([4, 5, 6, 7, 8, 9])\n",
    "\n",
    "print('교집합:', s1 & s2, s1.intersection(s2)) # & 연산자와 intersection 메소드가 동일한 역할을 한다\n",
    "print('합집합:', s1 | s2, s1.union(s2))\n",
    "print('차집합 (s1-s2):', s1 - s2, s1.difference(s2))\n",
    "print('차집합 (s2-s1):', s2 - s1, s2.difference(s1)) # 차집합의 경우 연산의 성격상 순서에 따라 달라질 수 있다"
   ]
  },
  {
   "cell_type": "markdown",
   "id": "a84c96b5",
   "metadata": {
    "lines_to_next_cell": 0
   },
   "source": [
    "#### set 자료형 관련 함수\n",
    "- 값을 추가할 때에는 한 개만 추가하느냐, 여러개를 추가하느냐에 따라 달라진다."
   ]
  },
  {
   "cell_type": "code",
   "execution_count": 83,
   "id": "492a4da5",
   "metadata": {},
   "outputs": [
    {
     "data": {
      "text/plain": [
       "{1, 2, 3, 4, 5, 6, 7}"
      ]
     },
     "execution_count": 83,
     "metadata": {},
     "output_type": "execute_result"
    }
   ],
   "source": [
    "s1.add(7) # 하나의 원소만 추가할 수 있다.\n",
    "s1"
   ]
  },
  {
   "cell_type": "code",
   "execution_count": 84,
   "id": "4b46cce3",
   "metadata": {},
   "outputs": [
    {
     "data": {
      "text/plain": [
       "{1, 2, 3, 4, 5, 6, 7, 8, 9}"
      ]
     },
     "execution_count": 84,
     "metadata": {},
     "output_type": "execute_result"
    }
   ],
   "source": [
    "s1.update(s2) # 다른 튜플, 리스트, set을 한번에 업데이트할 수 있다.\n",
    "s1"
   ]
  },
  {
   "cell_type": "markdown",
   "id": "012c0cca",
   "metadata": {
    "lines_to_next_cell": 0
   },
   "source": [
    "- 값을 삭제하려 할 때에도 두가지 방법이 있다.\n",
    "\t- `remove`: 값이 set에 존재하지 않으면 에러가 난다.\n",
    "\t- `discard`: 값이 set에 존재하지 않아도 에러가 나지 않는다."
   ]
  },
  {
   "cell_type": "code",
   "execution_count": 85,
   "id": "41aa4f90",
   "metadata": {},
   "outputs": [
    {
     "ename": "KeyError",
     "evalue": "-1",
     "output_type": "error",
     "traceback": [
      "\u001b[0;31m---------------------------------------------------------------------------\u001b[0m",
      "\u001b[0;31mKeyError\u001b[0m                                  Traceback (most recent call last)",
      "Input \u001b[0;32mIn [85]\u001b[0m, in \u001b[0;36m<cell line: 1>\u001b[0;34m()\u001b[0m\n\u001b[0;32m----> 1\u001b[0m \u001b[43ms1\u001b[49m\u001b[38;5;241;43m.\u001b[39;49m\u001b[43mremove\u001b[49m\u001b[43m(\u001b[49m\u001b[38;5;241;43m-\u001b[39;49m\u001b[38;5;241;43m1\u001b[39;49m\u001b[43m)\u001b[49m\n",
      "\u001b[0;31mKeyError\u001b[0m: -1"
     ]
    }
   ],
   "source": [
    "s1.remove(-1) # 에러가 난다."
   ]
  },
  {
   "cell_type": "code",
   "execution_count": 86,
   "id": "4b7e50c7",
   "metadata": {},
   "outputs": [],
   "source": [
    "s1.discard(-1)"
   ]
  },
  {
   "cell_type": "markdown",
   "id": "7be27c81",
   "metadata": {
    "lines_to_next_cell": 0
   },
   "source": [
    "- 모든 값을 삭제하려면 `clear`가 있다."
   ]
  },
  {
   "cell_type": "code",
   "execution_count": 87,
   "id": "8b607705",
   "metadata": {},
   "outputs": [
    {
     "data": {
      "text/plain": [
       "set()"
      ]
     },
     "execution_count": 87,
     "metadata": {},
     "output_type": "execute_result"
    }
   ],
   "source": [
    "s1.clear()\n",
    "s1"
   ]
  },
  {
   "cell_type": "markdown",
   "id": "84593a8a",
   "metadata": {
    "lines_to_next_cell": 0
   },
   "source": [
    "### 불 (bool)\n",
    "- 참 True 과 거짓 False 를 나타내는 자료형\n",
    "- 비교 연산자, 논리 연산자와 함께 쓰이므로 매우 중요하다.\n",
    "\n",
    "#### 비교 연산자"
   ]
  },
  {
   "cell_type": "code",
   "execution_count": 88,
   "id": "7b13fe66",
   "metadata": {},
   "outputs": [
    {
     "data": {
      "text/plain": [
       "True"
      ]
     },
     "execution_count": 88,
     "metadata": {},
     "output_type": "execute_result"
    }
   ],
   "source": [
    "a = 1 # 대입연산자. a 라는 변수에 1을 넣는다.\n",
    "a == 1 # 비교연산자. a 라는 변수가 1인지 확인한다."
   ]
  },
  {
   "cell_type": "markdown",
   "id": "301fc030",
   "metadata": {
    "lines_to_next_cell": 0
   },
   "source": [
    "- 그 외에도 `>`, `<`, `>=`, `<=` 연산자가 비교 연산자로 존재한다."
   ]
  },
  {
   "cell_type": "code",
   "execution_count": 89,
   "id": "b6b18933",
   "metadata": {},
   "outputs": [
    {
     "data": {
      "text/plain": [
       "(False, True, True, True)"
      ]
     },
     "execution_count": 89,
     "metadata": {},
     "output_type": "execute_result"
    }
   ],
   "source": [
    "a > 3, a < 3, a >= 1, a <= 1"
   ]
  },
  {
   "cell_type": "markdown",
   "id": "a0532faf",
   "metadata": {
    "lines_to_next_cell": 0
   },
   "source": [
    "#### 논리 연산자\n",
    "- `and`, `or`, `not` 연산자를 논리 연산자로 사용할 수 있다."
   ]
  },
  {
   "cell_type": "code",
   "execution_count": 90,
   "id": "50f66075",
   "metadata": {},
   "outputs": [
    {
     "name": "stdout",
     "output_type": "stream",
     "text": [
      "and 연산: True False False\n",
      "or 연산: True True False\n",
      "not 연산: False True\n"
     ]
    }
   ],
   "source": [
    "print('and 연산:', True and True, True and False, False and False)\n",
    "print('or 연산:', True or True, True or False, False or False)\n",
    "print('not 연산:', not True, not False)"
   ]
  },
  {
   "cell_type": "markdown",
   "id": "a4c55031",
   "metadata": {
    "lines_to_next_cell": 0
   },
   "source": [
    "#### 다른 자료형들은 bool 로 어떻게 형 변환되는가?"
   ]
  },
  {
   "cell_type": "code",
   "execution_count": 91,
   "id": "273a6d6b",
   "metadata": {},
   "outputs": [
    {
     "name": "stdout",
     "output_type": "stream",
     "text": [
      "숫자형: True False True\n",
      "문자열: True False\n",
      "list: True False\n"
     ]
    }
   ],
   "source": [
    "print('숫자형:', bool(1), bool(0), bool(-1)) # 0은 False, 나머지 값은 True\n",
    "print('문자열:', bool('Python'), bool('')) # 빈 문자열은 False\n",
    "print('list:', bool([1]), bool([])) # 빈 리스트는 False"
   ]
  },
  {
   "cell_type": "markdown",
   "id": "737cb7e5",
   "metadata": {
    "lines_to_next_cell": 0
   },
   "source": [
    "### 잠깐, 형 변환이 뭔데?\n",
    "- 하나의 자료형은 다른 자료형으로 변환이 가능한 경우가 있다.\n",
    "\t- 여기서 `bool('Python')` 을 쓴 것이나 앞에서 `set([1, 2, 3])`를 쓴 것도 형 변환"
   ]
  },
  {
   "cell_type": "code",
   "execution_count": 92,
   "id": "f918b9db",
   "metadata": {
    "lines_to_next_cell": 0
   },
   "outputs": [
    {
     "data": {
      "text/plain": [
       "(123, 123.456, ['A', 'p', 'p', 'l', 'e'])"
      ]
     },
     "execution_count": 92,
     "metadata": {},
     "output_type": "execute_result"
    }
   ],
   "source": [
    "int('123'), float('123.456'), list('Apple')"
   ]
  },
  {
   "cell_type": "markdown",
   "id": "20558992",
   "metadata": {},
   "source": []
  }
 ],
 "metadata": {
  "jupytext": {
   "cell_metadata_filter": "-all",
   "main_language": "python",
   "notebook_metadata_filter": "-all"
  },
  "kernelspec": {
   "display_name": "base",
   "language": "python",
   "name": "python3"
  },
  "language_info": {
   "codemirror_mode": {
    "name": "ipython",
    "version": 3
   },
   "file_extension": ".py",
   "mimetype": "text/x-python",
   "name": "python",
   "nbconvert_exporter": "python",
   "pygments_lexer": "ipython3",
   "version": "3.9.12"
  }
 },
 "nbformat": 4,
 "nbformat_minor": 5
}
