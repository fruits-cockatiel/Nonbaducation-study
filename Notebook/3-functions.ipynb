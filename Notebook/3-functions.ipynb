{
 "cells": [
  {
   "cell_type": "markdown",
   "id": "703cb3f8",
   "metadata": {},
   "source": [
    "# 실습\n",
    "## 함수와 import 문\n",
    "- 함수는 특정한 기능을 수행하는 코드의 묶음이다.\n",
    "- import 문은 다른 사람이 만든 유용한 기능들을 가져다 쓰는 방법이다.\n",
    "- 함수와 import를 활용하면 코드 중복을 줄이고 재사용성을 높일 수 있다.\n",
    "\n",
    "### 함수 (Function)\n",
    "#### 왜 함수가 필요한가?\n",
    "- 같은 코드를 여러 번 작성하는 것은 비효율적이다.\n",
    "- 코드를 수정할 때 여러 곳을 바꿔야 하는 문제가 생긴다."
   ]
  },
  {
   "cell_type": "code",
   "execution_count": 1,
   "id": "6ca83ae1",
   "metadata": {},
   "outputs": [
    {
     "name": "stdout",
     "output_type": "stream",
     "text": [
      "김철수님 안녕하세요!\n",
      "오늘 날씨가 좋네요.\n",
      "좋은 하루 되세요!\n",
      "박영희님 안녕하세요!\n",
      "오늘 날씨가 좋네요.\n",
      "좋은 하루 되세요!\n",
      "이민수님 안녕하세요!\n",
      "오늘 날씨가 좋네요.\n",
      "좋은 하루 되세요!\n"
     ]
    }
   ],
   "source": [
    "# 함수 없이 코드 작성할 때의 문제점\n",
    "print(\"김철수님 안녕하세요!\")\n",
    "print(\"오늘 날씨가 좋네요.\")\n",
    "print(\"좋은 하루 되세요!\")\n",
    "\n",
    "print(\"박영희님 안녕하세요!\")\n",
    "print(\"오늘 날씨가 좋네요.\")\n",
    "print(\"좋은 하루 되세요!\")\n",
    "\n",
    "print(\"이민수님 안녕하세요!\")\n",
    "print(\"오늘 날씨가 좋네요.\")\n",
    "print(\"좋은 하루 되세요!\")"
   ]
  },
  {
   "cell_type": "code",
   "execution_count": 2,
   "id": "016c42fa",
   "metadata": {},
   "outputs": [
    {
     "name": "stdout",
     "output_type": "stream",
     "text": [
      "김철수님 안녕하세요!\n",
      "오늘 날씨가 좋네요.\n",
      "좋은 하루 되세요!\n",
      "박영희님 안녕하세요!\n",
      "오늘 날씨가 좋네요.\n",
      "좋은 하루 되세요!\n",
      "이민수님 안녕하세요!\n",
      "오늘 날씨가 좋네요.\n",
      "좋은 하루 되세요!\n"
     ]
    }
   ],
   "source": [
    "# 함수를 사용하여 개선\n",
    "def greet(name):\n",
    "    print(f\"{name}님 안녕하세요!\")\n",
    "    print(\"오늘 날씨가 좋네요.\")\n",
    "    print(\"좋은 하루 되세요!\")\n",
    "\n",
    "greet(\"김철수\")\n",
    "greet(\"박영희\")\n",
    "greet(\"이민수\")"
   ]
  },
  {
   "cell_type": "markdown",
   "id": "1c93b5ed",
   "metadata": {},
   "source": [
    "#### 기본 함수 정의와 호출\n",
    "- 함수는 `def` 키워드로 정의한다.\n",
    "- 함수명 뒤에 괄호 `()`를 붙이고, 콜론 `:`을 붙인다.\n",
    "- 함수 내부 코드는 들여쓰기를 해야 한다.\n",
    "- 함수를 사용하려면 함수명과 괄호를 써서 \"호출\"한다."
   ]
  },
  {
   "cell_type": "code",
   "execution_count": 3,
   "id": "bd64a0c4",
   "metadata": {},
   "outputs": [
    {
     "name": "stdout",
     "output_type": "stream",
     "text": [
      "안녕하세요!\n",
      "함수를 배우고 있어요!\n"
     ]
    }
   ],
   "source": [
    "def say_hello():\n",
    "    print(\"안녕하세요!\")\n",
    "    print(\"함수를 배우고 있어요!\")\n",
    "\n",
    "# 함수 호출\n",
    "say_hello()"
   ]
  },
  {
   "cell_type": "markdown",
   "id": "10fe932d",
   "metadata": {},
   "source": [
    "#### 매개변수 (Parameter)\n",
    "- 함수에 값을 전달할 수 있다.\n",
    "- 함수 정의할 때 괄호 안에 적는 변수를 **매개변수**라고 한다.\n",
    "- 함수를 호출할 때 전달하는 실제 값을 **인수(argument)**라고 한다."
   ]
  },
  {
   "cell_type": "code",
   "execution_count": 4,
   "id": "ca30eb67",
   "metadata": {},
   "outputs": [
    {
     "name": "stdout",
     "output_type": "stream",
     "text": [
      "제 이름은 홍길동이고, 25살입니다.\n",
      "제 이름은 김영희이고, 30살입니다.\n"
     ]
    }
   ],
   "source": [
    "def introduce(name, age):  # name 과 age 가 매개변수\n",
    "    print(f\"제 이름은 {name}이고, {age}살입니다.\")\n",
    "\n",
    "introduce(\"홍길동\", 25)  # \"홍길동\"과 25가 인수\n",
    "introduce(\"김영희\", 30)"
   ]
  },
  {
   "cell_type": "markdown",
   "id": "5b73aae5",
   "metadata": {},
   "source": [
    "#### 매개변수의 기본값\n",
    "- 매개변수에 기본값을 설정할 수 있다.\n",
    "- 기본값이 있는 매개변수는 함수 호출 시 생략할 수 있다."
   ]
  },
  {
   "cell_type": "code",
   "execution_count": 5,
   "id": "410b8a66",
   "metadata": {},
   "outputs": [
    {
     "name": "stdout",
     "output_type": "stream",
     "text": [
      "medium 사이즈 커피, 설탕 있음\n",
      "large 사이즈 커피, 설탕 있음\n",
      "small 사이즈 커피, 설탕 없음\n",
      "medium 사이즈 커피, 설탕 없음\n"
     ]
    }
   ],
   "source": [
    "def order_coffee(size=\"medium\", sugar=True):\n",
    "    sugar_text = \"설탕 있음\" if sugar else \"설탕 없음\"\n",
    "    print(f\"{size} 사이즈 커피, {sugar_text}\")\n",
    "\n",
    "order_coffee()  # 기본값 사용\n",
    "order_coffee(\"large\")  # size만 변경\n",
    "order_coffee(\"small\", False)  # 둘 다 변경\n",
    "order_coffee(sugar=False)  # 매개변수 이름으로 지정"
   ]
  },
  {
   "cell_type": "markdown",
   "id": "72c76a13",
   "metadata": {},
   "source": [
    "#### 반환값 (return)\n",
    "- 함수는 결과값을 돌려줄 수 있다.\n",
    "- `return` 키워드를 사용한다.\n",
    "- return 문을 만나면 함수가 종료된다."
   ]
  },
  {
   "cell_type": "code",
   "execution_count": 6,
   "id": "c4e8f3ba",
   "metadata": {},
   "outputs": [
    {
     "name": "stdout",
     "output_type": "stream",
     "text": [
      "더하기 결과: 15\n",
      "빼기 결과: 5\n"
     ]
    }
   ],
   "source": [
    "def add(a, b):\n",
    "    result = a + b\n",
    "    return result\n",
    "\n",
    "def subtract(a, b):\n",
    "    return a - b  # 계산 결과를 바로 반환\n",
    "\n",
    "# 함수의 반환값을 변수에 저장\n",
    "sum_result = add(10, 5)\n",
    "diff_result = subtract(10, 5)\n",
    "\n",
    "print(f\"더하기 결과: {sum_result}\")\n",
    "print(f\"빼기 결과: {diff_result}\")"
   ]
  },
  {
   "cell_type": "markdown",
   "id": "0fd7a87e",
   "metadata": {},
   "source": [
    "- 리턴값 없이 `return`만 써도 함수가 종료된다."
   ]
  },
  {
   "cell_type": "code",
   "execution_count": 7,
   "id": "daa48229",
   "metadata": {},
   "outputs": [
    {
     "name": "stdout",
     "output_type": "stream",
     "text": [
      "이름을 입력해주세요.\n",
      "홍길동님, 안녕하세요!\n",
      "좋은 하루 되세요!\n"
     ]
    }
   ],
   "source": [
    "def print_greeting(name):\n",
    "    if not name:  # 이름이 빈 문자열이거나 None이면\n",
    "        print(\"이름을 입력해주세요.\")\n",
    "        return  # 여기서 함수 종료 (리턴값 없음)\n",
    "    \n",
    "    # 위 조건을 통과했을 때만 실행됨\n",
    "    print(f\"{name}님, 안녕하세요!\")\n",
    "    print(\"좋은 하루 되세요!\")\n",
    "\n",
    "# 함수 테스트\n",
    "print_greeting(\"\")        # \"이름을 입력해주세요.\" 출력 후 종료\n",
    "print_greeting(\"홍길동\")   # 인사말 모두 출력"
   ]
  },
  {
   "cell_type": "markdown",
   "id": "51bc9f95",
   "metadata": {},
   "source": [
    "#### 여러 값 반환하기\n",
    "- 함수는 여러 개의 값을 동시에 반환할 수 있다.\n",
    "- 콤마로 구분하여 반환하면 튜플 형태로 돌려준다."
   ]
  },
  {
   "cell_type": "code",
   "execution_count": 9,
   "id": "284a4f18",
   "metadata": {},
   "outputs": [
    {
     "name": "stdout",
     "output_type": "stream",
     "text": [
      "사용자: 홍길동, 나이: 30\n",
      "팁: 5000.0원, 총액: 55000.0원\n"
     ]
    }
   ],
   "source": [
    "def get_name_and_age():\n",
    "    name = input(\"이름을 입력하세요: \")\n",
    "    age = int(input(\"나이를 입력하세요: \"))\n",
    "    return name, age\n",
    "\n",
    "def calculate_tip(bill, tip_rate=0.15):\n",
    "    tip = bill * tip_rate\n",
    "    total = bill + tip\n",
    "    return tip, total\n",
    "\n",
    "# 여러 값을 각각의 변수에 저장\n",
    "user_name, user_age = get_name_and_age()\n",
    "tip_amount, total_bill = calculate_tip(50000, 0.1)\n",
    "\n",
    "print(f\"사용자: {user_name}, 나이: {user_age}\")\n",
    "print(f\"팁: {tip_amount}원, 총액: {total_bill}원\")"
   ]
  },
  {
   "cell_type": "markdown",
   "id": "88b4cfd3",
   "metadata": {},
   "source": [
    "#### 가변 인수 (*args, **kwargs)\n",
    "- 함수에 전달되는 인수의 개수가 정해지지 않을 때 사용한다.\n",
    "- `*args`: 여러 개의 일반 인수를 튜플로 받는다.\n",
    "- `**kwargs`: 여러 개의 키워드 인수를 딕셔너리로 받는다."
   ]
  },
  {
   "cell_type": "code",
   "execution_count": 10,
   "id": "398b56cc",
   "metadata": {},
   "outputs": [
    {
     "name": "stdout",
     "output_type": "stream",
     "text": [
      "받은 숫자들: (1, 2, 3)\n",
      "숫자: 1\n",
      "숫자: 2\n",
      "숫자: 3\n",
      "받은 숫자들: (10, 20, 30, 40, 50)\n",
      "숫자: 10\n",
      "숫자: 20\n",
      "숫자: 30\n",
      "숫자: 40\n",
      "숫자: 50\n"
     ]
    }
   ],
   "source": [
    "def print_numbers(*args):\n",
    "    \"\"\"여러 개의 숫자를 받아서 출력하는 함수\"\"\"\n",
    "    print(\"받은 숫자들:\", args)\n",
    "    for num in args:\n",
    "        print(f\"숫자: {num}\")\n",
    "\n",
    "print_numbers(1, 2, 3)\n",
    "print_numbers(10, 20, 30, 40, 50)"
   ]
  },
  {
   "cell_type": "code",
   "execution_count": 11,
   "id": "1bbd41a0",
   "metadata": {},
   "outputs": [
    {
     "name": "stdout",
     "output_type": "stream",
     "text": [
      "사람 정보:\n",
      "이름: 홍길동\n",
      "나이: 25\n",
      "직업: 개발자\n",
      "사람 정보:\n",
      "이름: 김영희\n",
      "나이: 30\n",
      "도시: 서울\n",
      "취미: 독서\n"
     ]
    }
   ],
   "source": [
    "def introduce_person(**kwargs):\n",
    "    \"\"\"키워드 인수로 사람 정보를 받아서 출력하는 함수\"\"\"\n",
    "    print(\"사람 정보:\")\n",
    "    for key, value in kwargs.items():\n",
    "        print(f\"{key}: {value}\")\n",
    "\n",
    "introduce_person(이름=\"홍길동\", 나이=25, 직업=\"개발자\")\n",
    "introduce_person(이름=\"김영희\", 나이=30, 도시=\"서울\", 취미=\"독서\")"
   ]
  },
  {
   "cell_type": "code",
   "execution_count": 12,
   "id": "a287cbd9",
   "metadata": {},
   "outputs": [
    {
     "name": "stdout",
     "output_type": "stream",
     "text": [
      "일반 인수들: (1, 2, 3)\n",
      "키워드 인수들: {'name': '철수', 'age': 20}\n"
     ]
    }
   ],
   "source": [
    "def flexible_function(*args, **kwargs):\n",
    "    \"\"\"일반 인수와 키워드 인수를 모두 받는 함수\"\"\"\n",
    "    print(\"일반 인수들:\", args)\n",
    "    print(\"키워드 인수들:\", kwargs)\n",
    "\n",
    "flexible_function(1, 2, 3, name=\"철수\", age=20)"
   ]
  },
  {
   "cell_type": "markdown",
   "id": "f5fb921c",
   "metadata": {},
   "source": [
    "#### 함수 설명 문서 (Docstring)\n",
    "- 함수가 무엇을 하는지 설명하는 문서이다.\n",
    "- 함수 정의 바로 아래 삼중 따옴표로 작성한다.\n",
    "- 다른 사람이 함수를 사용할 때 도움이 된다."
   ]
  },
  {
   "cell_type": "code",
   "execution_count": 13,
   "id": "3e6310e6",
   "metadata": {},
   "outputs": [
    {
     "name": "stdout",
     "output_type": "stream",
     "text": [
      "BMI: 22.9\n",
      "\n",
      "    BMI(체질량지수)를 계산하는 함수\n",
      "    \n",
      "    Args:\n",
      "        weight (float): 체중 (kg)\n",
      "        height (float): 키 (m)\n",
      "    \n",
      "    Returns:\n",
      "        float: BMI 수치\n",
      "    \n",
      "홍길동 VIP 고객님, 환영합니다!\n",
      "\n",
      "    고객에게 인사하는 함수\n",
      "    \n",
      "    Args:\n",
      "        name (str): 고객 이름\n",
      "        vip (bool): VIP 고객 여부 (기본값: False)\n",
      "    \n",
      "    Returns:\n",
      "        str: 인사 메시지\n",
      "    \n"
     ]
    }
   ],
   "source": [
    "def calculate_bmi(weight, height):\n",
    "    \"\"\"\n",
    "    BMI(체질량지수)를 계산하는 함수\n",
    "    \n",
    "    Args:\n",
    "        weight (float): 체중 (kg)\n",
    "        height (float): 키 (m)\n",
    "    \n",
    "    Returns:\n",
    "        float: BMI 수치\n",
    "    \"\"\"\n",
    "    return weight / (height ** 2)\n",
    "\n",
    "def greet_customer(name, vip=False):\n",
    "    \"\"\"\n",
    "    고객에게 인사하는 함수\n",
    "    \n",
    "    Args:\n",
    "        name (str): 고객 이름\n",
    "        vip (bool): VIP 고객 여부 (기본값: False)\n",
    "    \n",
    "    Returns:\n",
    "        str: 인사 메시지\n",
    "    \"\"\"\n",
    "    if vip:\n",
    "        return f\"{name} VIP 고객님, 환영합니다!\"\n",
    "    else:\n",
    "        return f\"{name}님, 안녕하세요!\"\n",
    "\n",
    "# 함수 사용 예시\n",
    "my_bmi = calculate_bmi(70, 1.75)\n",
    "print(f\"BMI: {my_bmi:.1f}\")\n",
    "print(calculate_bmi.__doc__)\n",
    "\n",
    "message = greet_customer(\"홍길동\", True)\n",
    "print(message)\n",
    "print(greet_customer.__doc__)"
   ]
  },
  {
   "cell_type": "markdown",
   "id": "f1abc356",
   "metadata": {
    "lines_to_next_cell": 0
   },
   "source": [
    "#### 실생활 예시 - 음식점 주문 시스템"
   ]
  },
  {
   "cell_type": "code",
   "execution_count": 14,
   "id": "d5091f01",
   "metadata": {},
   "outputs": [
    {
     "name": "stdout",
     "output_type": "stream",
     "text": [
      "라면 2개 주문 (회원 할인 적용: -1000.0원), 총액: 9000.0원\n"
     ]
    }
   ],
   "source": [
    "def calculate_order_total(item, quantity, is_member=False):\n",
    "    \"\"\"주문 총액을 계산하는 함수\"\"\"\n",
    "    menu_prices = {\n",
    "        \"라면\": 5000,\n",
    "        \"김밥\": 3500,\n",
    "        \"떡볶이\": 4000,\n",
    "        \"순대\": 4000\n",
    "    }\n",
    "    \n",
    "    if item not in menu_prices:\n",
    "        return 0, f\"{item}는 메뉴에 없습니다.\"\n",
    "    \n",
    "    subtotal = menu_prices[item] * quantity\n",
    "    \n",
    "    # 회원이면 10% 할인\n",
    "    if is_member:\n",
    "        discount = subtotal * 0.1\n",
    "        total = subtotal - discount\n",
    "        return total, f\"{item} {quantity}개 주문 (회원 할인 적용: -{discount}원)\"\n",
    "    else:\n",
    "        return subtotal, f\"{item} {quantity}개 주문\"\n",
    "\n",
    "# 함수 사용 예시\n",
    "total, message = calculate_order_total(\"라면\", 2, True)\n",
    "print(f\"{message}, 총액: {total}원\")"
   ]
  },
  {
   "cell_type": "markdown",
   "id": "27547739",
   "metadata": {
    "lines_to_next_cell": 0
   },
   "source": [
    "#### 실생활 예시 - 은행 계좌 관리"
   ]
  },
  {
   "cell_type": "code",
   "execution_count": 15,
   "id": "1d93e2bb",
   "metadata": {},
   "outputs": [
    {
     "name": "stdout",
     "output_type": "stream",
     "text": [
      "30000원이 출금되었습니다. 현재 잔액: 70000원\n"
     ]
    }
   ],
   "source": [
    "def process_transaction(current_balance, transaction_type, amount):\n",
    "    \"\"\"은행 거래를 처리하는 함수\"\"\"\n",
    "    if transaction_type == \"입금\":\n",
    "        new_balance = current_balance + amount\n",
    "        return new_balance, f\"{amount}원이 입금되었습니다.\"\n",
    "    elif transaction_type == \"출금\":\n",
    "        if current_balance >= amount:\n",
    "            new_balance = current_balance - amount\n",
    "            return new_balance, f\"{amount}원이 출금되었습니다.\"\n",
    "        else:\n",
    "            return current_balance, \"잔액이 부족합니다.\"\n",
    "    else:\n",
    "        return current_balance, \"잘못된 거래 유형입니다.\"\n",
    "\n",
    "# 함수 사용 예시\n",
    "balance = 100000\n",
    "balance, message = process_transaction(balance, \"출금\", 30000)\n",
    "print(f\"{message} 현재 잔액: {balance}원\")"
   ]
  },
  {
   "cell_type": "markdown",
   "id": "82f314be",
   "metadata": {},
   "source": [
    "### 변수의 범위 (Scope)\n",
    "#### 지역 변수와 전역 변수\n",
    "- **지역 변수**: 함수 내부에서만 사용할 수 있는 변수\n",
    "- **전역 변수**: 프로그램 전체에서 사용할 수 있는 변수"
   ]
  },
  {
   "cell_type": "code",
   "execution_count": 18,
   "id": "4318d02a",
   "metadata": {},
   "outputs": [
    {
     "name": "stdout",
     "output_type": "stream",
     "text": [
      "잔액 조회: 100000원\n",
      "20000원이 출금되었습니다. 잔액: 80000원\n"
     ]
    }
   ],
   "source": [
    "# 전역 변수\n",
    "bank_balance = 100000\n",
    "\n",
    "def check_balance():\n",
    "    # 지역 변수\n",
    "    balance_message = \"잔액 조회\"\n",
    "    print(f\"{balance_message}: {bank_balance}원\")\n",
    "\n",
    "def withdraw_money(amount):\n",
    "    global bank_balance  # 전역 변수를 수정하려면 global 키워드 필요\n",
    "    if bank_balance >= amount:\n",
    "        bank_balance -= amount\n",
    "        return f\"{amount}원이 출금되었습니다. 잔액: {bank_balance}원\"\n",
    "    else:\n",
    "        return \"잔액이 부족합니다.\"\n",
    "\n",
    "check_balance()\n",
    "print(withdraw_money(20000))"
   ]
  },
  {
   "cell_type": "markdown",
   "id": "80e1c8ac",
   "metadata": {
    "lines_to_next_cell": 0
   },
   "source": [
    "- 여기서 만약 check_balance 안의 balance_message 변수를 접근하려고 하면 에러가 남"
   ]
  },
  {
   "cell_type": "code",
   "execution_count": 19,
   "id": "326df5cb",
   "metadata": {},
   "outputs": [
    {
     "ename": "NameError",
     "evalue": "name 'balance_message' is not defined",
     "output_type": "error",
     "traceback": [
      "\u001b[0;31m---------------------------------------------------------------------------\u001b[0m",
      "\u001b[0;31mNameError\u001b[0m                                 Traceback (most recent call last)",
      "Input \u001b[0;32mIn [19]\u001b[0m, in \u001b[0;36m<cell line: 1>\u001b[0;34m()\u001b[0m\n\u001b[0;32m----> 1\u001b[0m \u001b[38;5;28mprint\u001b[39m(\u001b[43mbalance_message\u001b[49m)\n",
      "\u001b[0;31mNameError\u001b[0m: name 'balance_message' is not defined"
     ]
    }
   ],
   "source": [
    "print(balance_message)"
   ]
  },
  {
   "cell_type": "markdown",
   "id": "74904f71",
   "metadata": {},
   "source": [
    "#### global 키워드 주의사항\n",
    "- global을 남용하면 코드가 복잡해진다.\n",
    "- 가능하면 함수의 매개변수와 반환값을 활용하는 것이 좋다."
   ]
  },
  {
   "cell_type": "code",
   "execution_count": 20,
   "id": "0cacd1bd",
   "metadata": {},
   "outputs": [],
   "source": [
    "# 권장하지 않는 방식 (global 남용)\n",
    "score = 0\n",
    "\n",
    "def bad_add_score(points):\n",
    "    global score\n",
    "    score += points\n",
    "\n",
    "# 권장하는 방식 (매개변수와 반환값 활용)\n",
    "def good_add_score(current_score, points):\n",
    "    return current_score + points\n",
    "\n",
    "# 사용 예시\n",
    "score = 0\n",
    "score = good_add_score(score, 100)"
   ]
  },
  {
   "cell_type": "markdown",
   "id": "cb1444d9",
   "metadata": {},
   "source": [
    "### 람다 함수 (Lambda Function)\n",
    "- 간단한 함수를 한 줄로 만들 수 있다.\n",
    "- `lambda 매개변수: 표현식` 형태로 사용한다.\n",
    "- 주로 간단한 계산이나 정렬에 사용된다."
   ]
  },
  {
   "cell_type": "code",
   "execution_count": 21,
   "id": "ea588748",
   "metadata": {},
   "outputs": [
    {
     "name": "stdout",
     "output_type": "stream",
     "text": [
      "25\n",
      "25\n",
      "[1, 4, 9, 16, 25]\n",
      "[('이철수', 78), ('홍길동', 85), ('김영희', 92)]\n"
     ]
    }
   ],
   "source": [
    "# 일반 함수\n",
    "def square(x):\n",
    "    return x ** 2\n",
    "\n",
    "# 람다 함수\n",
    "square_lambda = lambda x: x ** 2\n",
    "\n",
    "print(square(5))\n",
    "print(square_lambda(5))\n",
    "\n",
    "# 리스트와 함께 사용\n",
    "numbers = [1, 2, 3, 4, 5]\n",
    "squared = list(map(lambda x: x ** 2, numbers))\n",
    "print(squared)\n",
    "\n",
    "# 정렬에 활용\n",
    "students = [(\"홍길동\", 85), (\"김영희\", 92), (\"이철수\", 78)]\n",
    "students.sort(key=lambda student: student[1])  # 점수 기준으로 정렬\n",
    "print(students)"
   ]
  },
  {
   "cell_type": "markdown",
   "id": "dcb0c92e",
   "metadata": {
    "lines_to_next_cell": 0
   },
   "source": [
    "### import 문\n",
    "#### 모듈이란?\n",
    "- 모듈은 함수들을 파일로 정리해둔 것이다.\n",
    "- 파이썬에는 유용한 기능들이 미리 만들어져 있다.\n",
    "- 다른 사람이 만든 모듈도 가져다 쓸 수 있다.\n",
    "\n",
    "#### 기본 import 방법들"
   ]
  },
  {
   "cell_type": "code",
   "execution_count": 22,
   "id": "964a756a",
   "metadata": {},
   "outputs": [
    {
     "name": "stdout",
     "output_type": "stream",
     "text": [
      "원주율: 3.141592653589793\n",
      "16의 제곱근: 4.0\n",
      "원주율: 3.141592653589793\n",
      "16의 제곱근: 4.0\n",
      "3.2를 올림: 4\n",
      "주사위 결과: 5\n"
     ]
    }
   ],
   "source": [
    "# 1. 전체 모듈 가져오기\n",
    "import math\n",
    "print(f\"원주율: {math.pi}\")\n",
    "print(f\"16의 제곱근: {math.sqrt(16)}\")\n",
    "\n",
    "# 2. 특정 함수만 가져오기\n",
    "from math import pi, sqrt, ceil\n",
    "print(f\"원주율: {pi}\")\n",
    "print(f\"16의 제곱근: {sqrt(16)}\")\n",
    "print(f\"3.2를 올림: {ceil(3.2)}\")\n",
    "\n",
    "# 3. 별칭(alias) 사용하기\n",
    "import random as rd\n",
    "dice = rd.randint(1, 6)\n",
    "print(f\"주사위 결과: {dice}\")\n",
    "\n",
    "# 4. 모든 함수 가져오기 (권장하지 않음)\n",
    "# from math import *  # 이렇게 쓰면 어떤 함수가 어디서 온 건지 헷갈릴 수 있음"
   ]
  },
  {
   "cell_type": "markdown",
   "id": "7d75169f",
   "metadata": {
    "lines_to_next_cell": 0
   },
   "source": [
    "#### 자주 사용하는 내장 모듈들\n",
    "##### random 모듈 (이미 2장에서 사용해봤음)"
   ]
  },
  {
   "cell_type": "code",
   "execution_count": 23,
   "id": "742345a5",
   "metadata": {},
   "outputs": [
    {
     "name": "stdout",
     "output_type": "stream",
     "text": [
      "주사위: 1\n",
      "컴퓨터의 선택: 바위\n",
      "섞인 카드: ['♠Q', '♠K', '♠A', '♠J']\n",
      "로또 번호: [2, 9, 3, 37, 17, 23]\n"
     ]
    }
   ],
   "source": [
    "import random\n",
    "\n",
    "# 정수 범위에서 무작위 선택\n",
    "dice = random.randint(1, 6)\n",
    "print(f\"주사위: {dice}\")\n",
    "\n",
    "# 리스트에서 무작위 선택\n",
    "choices = ['가위', '바위', '보']\n",
    "computer_choice = random.choice(choices)\n",
    "print(f\"컴퓨터의 선택: {computer_choice}\")\n",
    "\n",
    "# 리스트 섞기\n",
    "cards = ['♠A', '♠K', '♠Q', '♠J']\n",
    "random.shuffle(cards)\n",
    "print(f\"섞인 카드: {cards}\")\n",
    "\n",
    "# 범위에서 중복 없이 여러 개 선택\n",
    "lottery_numbers = random.sample(range(1, 46), 6)\n",
    "print(f\"로또 번호: {lottery_numbers}\")"
   ]
  },
  {
   "cell_type": "markdown",
   "id": "64cb1d8f",
   "metadata": {
    "lines_to_next_cell": 0
   },
   "source": [
    "##### datetime 모듈 - 날짜와 시간"
   ]
  },
  {
   "cell_type": "code",
   "execution_count": 24,
   "id": "7210a487",
   "metadata": {},
   "outputs": [
    {
     "name": "stdout",
     "output_type": "stream",
     "text": [
      "현재 시간: 2025-09-30 11:21:13.288598\n",
      "현재 연도: 2025\n",
      "현재 월: 9\n",
      "현재 일: 30\n",
      "내 생일: 1995-05-15\n",
      "태어난 지 11096일이 지났습니다.\n"
     ]
    }
   ],
   "source": [
    "import datetime\n",
    "\n",
    "# 현재 날짜와 시간\n",
    "now = datetime.datetime.now()\n",
    "print(f\"현재 시간: {now}\")\n",
    "print(f\"현재 연도: {now.year}\")\n",
    "print(f\"현재 월: {now.month}\")\n",
    "print(f\"현재 일: {now.day}\")\n",
    "\n",
    "# 특정 날짜 만들기\n",
    "my_birthday = datetime.date(1995, 5, 15)\n",
    "print(f\"내 생일: {my_birthday}\")\n",
    "\n",
    "# 날짜 계산\n",
    "today = datetime.date.today()\n",
    "days_since_birthday = today - my_birthday\n",
    "print(f\"태어난 지 {days_since_birthday.days}일이 지났습니다.\")"
   ]
  },
  {
   "cell_type": "markdown",
   "id": "18cae203",
   "metadata": {
    "lines_to_next_cell": 0
   },
   "source": [
    "##### os 모듈 - 운영체제와 상호작용"
   ]
  },
  {
   "cell_type": "code",
   "execution_count": null,
   "id": "bec33b3f",
   "metadata": {},
   "outputs": [],
   "source": [
    "import os\n",
    "\n",
    "# 현재 작업 디렉토리 확인\n",
    "current_dir = os.getcwd()\n",
    "print(f\"현재 디렉토리: {current_dir}\")\n",
    "\n",
    "# 파일 목록 확인\n",
    "files = os.listdir('.')\n",
    "print(f\"현재 디렉토리의 파일들: {files}\")\n",
    "\n",
    "# 환경 변수 확인 (사용자 이름 등)\n",
    "username = os.getenv('USER') or os.getenv('USERNAME')\n",
    "print(f\"사용자 이름: {username}\")"
   ]
  },
  {
   "cell_type": "markdown",
   "id": "d0eb7345",
   "metadata": {
    "lines_to_next_cell": 0
   },
   "source": [
    "## 종합 실습 프로젝트\n",
    "### 프로젝트 1: 계산기 프로그램"
   ]
  },
  {
   "cell_type": "code",
   "execution_count": null,
   "id": "43a2bfc3",
   "metadata": {},
   "outputs": [
    {
     "name": "stdout",
     "output_type": "stream",
     "text": [
      "=== 파이썬 계산기 ===\n",
      "\n",
      "메뉴를 선택하세요:\n",
      "1. 더하기\n",
      "2. 빼기\n",
      "3. 곱하기\n",
      "4. 나누기\n",
      "5. 거듭제곱\n",
      "6. 제곱근\n",
      "7. 종료\n",
      "3.0 + 8.0 = 11.0\n",
      "\n",
      "메뉴를 선택하세요:\n",
      "1. 더하기\n",
      "2. 빼기\n",
      "3. 곱하기\n",
      "4. 나누기\n",
      "5. 거듭제곱\n",
      "6. 제곱근\n",
      "7. 종료\n",
      "계산기를 종료합니다.\n"
     ]
    }
   ],
   "source": [
    "import math\n",
    "\n",
    "def add(a, b):\n",
    "    \"\"\"두 수를 더하는 함수\"\"\"\n",
    "    return a + b\n",
    "\n",
    "def subtract(a, b):\n",
    "    \"\"\"두 수를 빼는 함수\"\"\"\n",
    "    return a - b\n",
    "\n",
    "def multiply(a, b):\n",
    "    \"\"\"두 수를 곱하는 함수\"\"\"\n",
    "    return a * b\n",
    "\n",
    "def divide(a, b):\n",
    "    \"\"\"두 수를 나누는 함수\"\"\"\n",
    "    if b != 0:\n",
    "        return a / b\n",
    "    else:\n",
    "        return \"0으로 나눌 수 없습니다!\"\n",
    "\n",
    "def power(a, b):\n",
    "    \"\"\"a의 b제곱을 계산하는 함수\"\"\"\n",
    "    return a ** b\n",
    "\n",
    "def square_root(a):\n",
    "    \"\"\"제곱근을 계산하는 함수\"\"\"\n",
    "    if a >= 0:\n",
    "        return math.sqrt(a)\n",
    "    else:\n",
    "        return \"음수의 제곱근은 계산할 수 없습니다!\"\n",
    "\n",
    "def get_numbers():\n",
    "    \"\"\"사용자로부터 두 개의 숫자를 입력받는 함수\"\"\"\n",
    "    try:\n",
    "        a = float(input(\"첫 번째 숫자를 입력하세요: \"))\n",
    "        b = float(input(\"두 번째 숫자를 입력하세요: \"))\n",
    "        return a, b\n",
    "    except ValueError:\n",
    "        return None, None\n",
    "\n",
    "def get_single_number():\n",
    "    \"\"\"사용자로부터 하나의 숫자를 입력받는 함수\"\"\"\n",
    "    try:\n",
    "        a = float(input(\"숫자를 입력하세요: \"))\n",
    "        return a\n",
    "    except ValueError:\n",
    "        return None\n",
    "\n",
    "def calculator():\n",
    "    \"\"\"계산기 메인 함수\"\"\"\n",
    "    print(\"=== 파이썬 계산기 ===\")\n",
    "    \n",
    "    while True:\n",
    "        print(\"\\n메뉴를 선택하세요:\")\n",
    "        print(\"1. 더하기\")\n",
    "        print(\"2. 빼기\")\n",
    "        print(\"3. 곱하기\")\n",
    "        print(\"4. 나누기\")\n",
    "        print(\"5. 거듭제곱\")\n",
    "        print(\"6. 제곱근\")\n",
    "        print(\"7. 종료\")\n",
    "        \n",
    "        choice = input(\"선택 (1-7): \")\n",
    "        \n",
    "        if choice == '7':\n",
    "            print(\"계산기를 종료합니다.\")\n",
    "            break\n",
    "        elif choice in ['1', '2', '3', '4', '5']:\n",
    "            a, b = get_numbers()\n",
    "            if a is None or b is None:\n",
    "                print(\"올바른 숫자를 입력해주세요.\")\n",
    "                continue\n",
    "                \n",
    "            if choice == '1':\n",
    "                result = add(a, b)\n",
    "                print(f\"{a} + {b} = {result}\")\n",
    "            elif choice == '2':\n",
    "                result = subtract(a, b)\n",
    "                print(f\"{a} - {b} = {result}\")\n",
    "            elif choice == '3':\n",
    "                result = multiply(a, b)\n",
    "                print(f\"{a} × {b} = {result}\")\n",
    "            elif choice == '4':\n",
    "                result = divide(a, b)\n",
    "                if isinstance(result, str):  # 에러 메시지인 경우\n",
    "                    print(result)\n",
    "                else:\n",
    "                    print(f\"{a} ÷ {b} = {result}\")\n",
    "            elif choice == '5':\n",
    "                result = power(a, b)\n",
    "                print(f\"{a}^{b} = {result}\")\n",
    "                \n",
    "        elif choice == '6':\n",
    "            a = get_single_number()\n",
    "            if a is None:\n",
    "                print(\"올바른 숫자를 입력해주세요.\")\n",
    "                continue\n",
    "            result = square_root(a)\n",
    "            if isinstance(result, str):  # 에러 메시지인 경우\n",
    "                print(result)\n",
    "            else:\n",
    "                print(f\"√{a} = {result}\")\n",
    "        else:\n",
    "            print(\"올바른 메뉴를 선택해주세요.\")\n",
    "\n",
    "# 계산기 실행\n",
    "# calculator()  # 주석을 해제하고 실행해보세요"
   ]
  },
  {
   "cell_type": "markdown",
   "id": "b3bf0505",
   "metadata": {
    "lines_to_next_cell": 0
   },
   "source": [
    "### 프로젝트 2: 개인 일정 관리 프로그램"
   ]
  },
  {
   "cell_type": "code",
   "execution_count": null,
   "id": "19eae3a5",
   "metadata": {},
   "outputs": [
    {
     "name": "stdout",
     "output_type": "stream",
     "text": [
      "=== 개인 일정 관리 프로그램 ===\n",
      "\n",
      "메뉴를 선택하세요:\n",
      "1. 일정 추가\n",
      "2. 전체 일정 보기\n",
      "3. 특정 날짜 일정 찾기\n",
      "4. 오늘 일정 보기\n",
      "5. 종료\n",
      "등록된 일정이 없습니다.\n",
      "\n",
      "메뉴를 선택하세요:\n",
      "1. 일정 추가\n",
      "2. 전체 일정 보기\n",
      "3. 특정 날짜 일정 찾기\n",
      "4. 오늘 일정 보기\n",
      "5. 종료\n",
      "일정이 추가되었습니다: 2025-10-01 - 웹앱 스터디\n",
      "\n",
      "메뉴를 선택하세요:\n",
      "1. 일정 추가\n",
      "2. 전체 일정 보기\n",
      "3. 특정 날짜 일정 찾기\n",
      "4. 오늘 일정 보기\n",
      "5. 종료\n",
      "오늘(2025-09-30)에는 등록된 일정이 없습니다.\n",
      "\n",
      "메뉴를 선택하세요:\n",
      "1. 일정 추가\n",
      "2. 전체 일정 보기\n",
      "3. 특정 날짜 일정 찾기\n",
      "4. 오늘 일정 보기\n",
      "5. 종료\n",
      "일정 관리 프로그램을 종료합니다.\n"
     ]
    }
   ],
   "source": [
    "import datetime\n",
    "\n",
    "# 전역 변수로 일정 저장\n",
    "schedule = []\n",
    "\n",
    "def add_schedule(date_str, event):\n",
    "    \"\"\"일정을 추가하는 함수\"\"\"\n",
    "    try:\n",
    "        # 문자열을 날짜로 변환 (YYYY-MM-DD 형식)\n",
    "        date_obj = datetime.datetime.strptime(date_str, \"%Y-%m-%d\").date()\n",
    "        schedule.append({\"date\": date_obj, \"event\": event})\n",
    "        return f\"일정이 추가되었습니다: {date_str} - {event}\"\n",
    "    except ValueError:\n",
    "        return \"날짜 형식이 올바르지 않습니다. YYYY-MM-DD 형식으로 입력해주세요.\"\n",
    "\n",
    "def show_all_schedule():\n",
    "    \"\"\"전체 일정을 보여주는 함수\"\"\"\n",
    "    if not schedule:\n",
    "        return \"등록된 일정이 없습니다.\"\n",
    "    \n",
    "    # 날짜 순으로 정렬\n",
    "    sorted_schedule = sorted(schedule, key=lambda x: x[\"date\"])\n",
    "    \n",
    "    result = \"=== 전체 일정 ===\\n\"\n",
    "    for item in sorted_schedule:\n",
    "        result += f\"{item['date']} - {item['event']}\\n\"\n",
    "    return result\n",
    "\n",
    "def find_schedule(date_str):\n",
    "    \"\"\"특정 날짜의 일정을 찾는 함수\"\"\"\n",
    "    try:\n",
    "        target_date = datetime.datetime.strptime(date_str, \"%Y-%m-%d\").date()\n",
    "        found_events = [item[\"event\"] for item in schedule if item[\"date\"] == target_date]\n",
    "        \n",
    "        if found_events:\n",
    "            result = f\"=== {date_str} 일정 ===\\n\"\n",
    "            for event in found_events:\n",
    "                result += f\"- {event}\\n\"\n",
    "            return result\n",
    "        else:\n",
    "            return f\"{date_str}에는 등록된 일정이 없습니다.\"\n",
    "    except ValueError:\n",
    "        return \"날짜 형식이 올바르지 않습니다. YYYY-MM-DD 형식으로 입력해주세요.\"\n",
    "\n",
    "def get_today_schedule():\n",
    "    \"\"\"오늘의 일정을 가져오는 함수\"\"\"\n",
    "    today = datetime.date.today()\n",
    "    today_events = [item[\"event\"] for item in schedule if item[\"date\"] == today]\n",
    "    \n",
    "    if today_events:\n",
    "        result = f\"=== 오늘({today}) 일정 ===\\n\"\n",
    "        for event in today_events:\n",
    "            result += f\"- {event}\\n\"\n",
    "        return result\n",
    "    else:\n",
    "        return f\"오늘({today})에는 등록된 일정이 없습니다.\"\n",
    "\n",
    "def schedule_manager():\n",
    "    \"\"\"일정 관리 메인 함수\"\"\"\n",
    "    print(\"=== 개인 일정 관리 프로그램 ===\")\n",
    "    \n",
    "    while True:\n",
    "        print(\"\\n메뉴를 선택하세요:\")\n",
    "        print(\"1. 일정 추가\")\n",
    "        print(\"2. 전체 일정 보기\")\n",
    "        print(\"3. 특정 날짜 일정 찾기\")\n",
    "        print(\"4. 오늘 일정 보기\")\n",
    "        print(\"5. 종료\")\n",
    "        \n",
    "        choice = input(\"선택 (1-5): \")\n",
    "        \n",
    "        if choice == '5':\n",
    "            print(\"일정 관리 프로그램을 종료합니다.\")\n",
    "            break\n",
    "        elif choice == '1':\n",
    "            date_str = input(\"날짜를 입력하세요 (YYYY-MM-DD): \")\n",
    "            event = input(\"일정을 입력하세요: \")\n",
    "            result = add_schedule(date_str, event)\n",
    "            print(result)\n",
    "        elif choice == '2':\n",
    "            result = show_all_schedule()\n",
    "            print(result)\n",
    "        elif choice == '3':\n",
    "            date_str = input(\"찾을 날짜를 입력하세요 (YYYY-MM-DD): \")\n",
    "            result = find_schedule(date_str)\n",
    "            print(result)\n",
    "        elif choice == '4':\n",
    "            result = get_today_schedule()\n",
    "            print(result)\n",
    "        else:\n",
    "            print(\"올바른 메뉴를 선택해주세요.\")\n",
    "\n",
    "# 일정 관리 프로그램 실행\n",
    "# schedule_manager()  # 주석을 해제하고 실행해보세요"
   ]
  },
  {
   "cell_type": "markdown",
   "id": "bafe62aa",
   "metadata": {
    "lines_to_next_cell": 0
   },
   "source": [
    "### 프로젝트 3: 숫자 야구 게임 (함수로 리팩토링)"
   ]
  },
  {
   "cell_type": "code",
   "execution_count": null,
   "id": "b9bd5680",
   "metadata": {},
   "outputs": [
    {
     "name": "stdout",
     "output_type": "stream",
     "text": [
      "=== 숫자 야구 게임 ===\n",
      "0-9 사이의 서로 다른 숫자 3개를 맞춰보세요!\n",
      "[1, 2, 3] 1 스트라이크\n",
      "[4, 5, 6] 아웃!\n",
      "[7, 8, 9] 1 스트라이크\n",
      "[1, 7, 0] 2 볼\n",
      "[2, 7, 0] 2 볼\n",
      "[0, 2, 7] 2 볼\n",
      "[7, 0, 3] 3 스트라이크! 정답입니다!\n",
      "\n",
      "축하합니다! 7번 만에 정답을 맞췄습니다!\n",
      "정답: [7, 0, 3]\n"
     ]
    }
   ],
   "source": [
    "import random\n",
    "\n",
    "def generate_answer():\n",
    "    \"\"\"정답을 생성하는 함수\"\"\"\n",
    "    return random.sample(range(0, 10), 3)\n",
    "\n",
    "def validate_input(user_input):\n",
    "    \"\"\"사용자 입력을 검증하는 함수\"\"\"\n",
    "    # 길이 확인\n",
    "    if len(user_input) != 3:\n",
    "        return False, \"3자리 숫자를 입력해주세요.\"\n",
    "    \n",
    "    # 숫자인지 확인\n",
    "    if not user_input.isdigit():\n",
    "        return False, \"숫자만 입력해주세요.\"\n",
    "    \n",
    "    # 중복 숫자 확인\n",
    "    if len(set(user_input)) != 3:\n",
    "        return False, \"서로 다른 숫자를 입력해주세요.\"\n",
    "    \n",
    "    return True, \"올바른 입력입니다.\"\n",
    "\n",
    "def convert_to_list(user_input):\n",
    "    \"\"\"문자열을 정수 리스트로 변환하는 함수\"\"\"\n",
    "    return [int(digit) for digit in user_input]\n",
    "\n",
    "def calculate_result(answer, user_guess):\n",
    "    \"\"\"스트라이크와 볼을 계산하는 함수\"\"\"\n",
    "    strike = 0\n",
    "    ball = 0\n",
    "    \n",
    "    for i in range(3):\n",
    "        if user_guess[i] == answer[i]:\n",
    "            strike += 1\n",
    "        elif user_guess[i] in answer:\n",
    "            ball += 1\n",
    "    \n",
    "    return strike, ball\n",
    "\n",
    "def format_result(strike, ball):\n",
    "    \"\"\"결과를 문자열로 포맷팅하는 함수\"\"\"\n",
    "    if strike == 3:\n",
    "        return \"3 스트라이크! 정답입니다!\"\n",
    "    elif strike == 0 and ball == 0:\n",
    "        return \"아웃!\"\n",
    "    else:\n",
    "        result_parts = []\n",
    "        if strike > 0:\n",
    "            result_parts.append(f\"{strike} 스트라이크\")\n",
    "        if ball > 0:\n",
    "            result_parts.append(f\"{ball} 볼\")\n",
    "        return \" \".join(result_parts)\n",
    "\n",
    "def play_baseball_game():\n",
    "    \"\"\"숫자 야구 게임 메인 함수\"\"\"\n",
    "    print(\"=== 숫자 야구 게임 ===\")\n",
    "    print(\"0-9 사이의 서로 다른 숫자 3개를 맞춰보세요!\")\n",
    "    \n",
    "    answer = generate_answer()\n",
    "    attempts = 0\n",
    "    \n",
    "    while True:\n",
    "        attempts += 1\n",
    "        user_input = input(f\"\\n{attempts}번째 시도 - 3자리 숫자를 입력하세요: \")\n",
    "        \n",
    "        # 입력 검증\n",
    "        is_valid, message = validate_input(user_input)\n",
    "        if not is_valid:\n",
    "            print(message)\n",
    "            attempts -= 1  # 잘못된 입력은 시도 횟수에 포함하지 않음\n",
    "            continue\n",
    "        \n",
    "        # 문자열을 리스트로 변환\n",
    "        user_guess = convert_to_list(user_input)\n",
    "        \n",
    "        # 결과 계산\n",
    "        strike, ball = calculate_result(answer, user_guess)\n",
    "        \n",
    "        # 결과 출력\n",
    "        result = format_result(strike, ball)\n",
    "        print(user_guess, result)\n",
    "        \n",
    "        # 게임 종료 조건\n",
    "        if strike == 3:\n",
    "            print(f\"\\n축하합니다! {attempts}번 만에 정답을 맞췄습니다!\")\n",
    "            print(f\"정답: {answer}\")\n",
    "            break\n",
    "\n",
    "# 게임 실행\n",
    "# play_baseball_game()  # 주석을 해제하고 실행해보세요"
   ]
  },
  {
   "cell_type": "markdown",
   "id": "6272e5cc",
   "metadata": {},
   "source": [
    "## 추가 학습 자료\n",
    "### 함수 작성 시 좋은 습관\n",
    "1. **함수명은 동사로 시작**하여 무엇을 하는지 명확하게 표현\n",
    "   - 좋은 예: `calculate_total()`, `validate_input()`, `generate_password()`\n",
    "   - 나쁜 예: `data()`, `stuff()`, `thing()`\n",
    "\n",
    "2. **한 가지 기능만** 수행하도록 작성\n",
    "   - 함수가 너무 길어지면 여러 개의 작은 함수로 나누기\n",
    "\n",
    "3. **docstring 작성**하여 함수의 목적을 설명\n",
    "\n",
    "### 모듈 사용 시 좋은 습관\n",
    "1. **필요한 것만 import**하기\n",
    "2. **import 문은 파일 상단**에 모아두기\n",
    "3. **별칭은 의미있게** 작성하기"
   ]
  },
  {
   "cell_type": "code",
   "execution_count": 31,
   "id": "d2b3bc03",
   "metadata": {},
   "outputs": [],
   "source": [
    "# 좋은 예\n",
    "import datetime as dt\n",
    "from math import sqrt, pi\n",
    "\n",
    "# 나쁜 예\n",
    "from math import *  # 모든 것을 가져오면 충돌 위험\n",
    "import datetime as d  # 의미를 알기 어려운 별칭"
   ]
  },
  {
   "cell_type": "markdown",
   "id": "33acec72",
   "metadata": {},
   "source": [
    "## 과제\n",
    "### 가계부 프로그램\n",
    "- 수입/지출을 기록하고 관리하는 프로그램을 함수를 활용하여 작성해보세요.\n",
    "- 필요한 함수들:\n",
    "  - `add_income(amount, description)`: 수입 추가\n",
    "  - `add_expense(amount, description)`: 지출 추가\n",
    "  - `show_summary()`: 수입/지출 요약 보기\n",
    "  - `show_balance()`: 현재 잔액 보기"
   ]
  }
 ],
 "metadata": {
  "jupytext": {
   "cell_metadata_filter": "-all",
   "main_language": "python",
   "notebook_metadata_filter": "-all"
  },
  "kernelspec": {
   "display_name": "base",
   "language": "python",
   "name": "python3"
  },
  "language_info": {
   "codemirror_mode": {
    "name": "ipython",
    "version": 3
   },
   "file_extension": ".py",
   "mimetype": "text/x-python",
   "name": "python",
   "nbconvert_exporter": "python",
   "pygments_lexer": "ipython3",
   "version": "3.9.12"
  }
 },
 "nbformat": 4,
 "nbformat_minor": 5
}
