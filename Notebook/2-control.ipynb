{
 "cells": [
  {
   "cell_type": "markdown",
   "id": "50b349c5",
   "metadata": {
    "lines_to_next_cell": 0
   },
   "source": [
    "# 실습\n",
    "## 제어문\n",
    "- 제어문은 if 문, while 문, for 문으로 나뉜다. \n",
    "- for 문은 while 문의 확장이라고 생각할 수 있다.\n",
    "\n",
    "### if 문\n",
    "- \"버스 막차 시간이 지나지 않았으면 버스를 타고, 막차 시간이 지났으면 택시를 탄다\" 를 프로그래밍으로 표현할 수 있다."
   ]
  },
  {
   "cell_type": "code",
   "execution_count": 30,
   "id": "c2761021",
   "metadata": {},
   "outputs": [
    {
     "name": "stdout",
     "output_type": "stream",
     "text": [
      "버스를 탔습니다\n",
      "집에 도착했습니다\n"
     ]
    }
   ],
   "source": [
    "current_time = 8\n",
    "last_bus_arrival_time = 23\n",
    "\n",
    "if current_time < last_bus_arrival_time:\n",
    "    print('버스를 탔습니다')\n",
    "else:\n",
    "    print('택시를 탔습니다')\n",
    "\n",
    "print('집에 도착했습니다')"
   ]
  },
  {
   "cell_type": "markdown",
   "id": "7d305520",
   "metadata": {
    "lines_to_next_cell": 0
   },
   "source": [
    "- if 문은 아래와 같이 구성된다.\n",
    "    - 조건문에는 1장에서 보았던 bool 형 자료형으로 나타낼 수 있는 연산자나 변수(또는 함수)가 들어갈 수 있다.\n",
    "        - 조건문 뒤에는 꼭 콜론 `:` 이 붙어야 한다.\n",
    "    - 실행문1은 조건문이 True 참일때만 실행된다.\n",
    "    - 들여쓰기가 되어 있다면 몇 줄이든 상관없다.\n",
    "- 실행문2는 if문의 조건과 관계 없이 항상 실행된다. if 문 내부에 있지 않기 때문이다.\n",
    "\n",
    "```python\n",
    "if 조건문:\n",
    "    실행문1\n",
    "\n",
    "실행문2\n",
    "```"
   ]
  },
  {
   "cell_type": "markdown",
   "id": "b7e62e27",
   "metadata": {
    "lines_to_next_cell": 0
   },
   "source": [
    "#### 들여쓰기\n",
    "- if 문에서는 들여쓰기가 필수이다.\n",
    "- 들여쓰기는 일반적으로 **띄어쓰기 네 개**로 구성된다. \n",
    "    - 일관적이기만 하면 한개든 두개든 상관은 없으나, 띄어쓰기 네 개를 쓰는것이 일종의 약속\n",
    "    - 띄어쓰기가 아니라 탭을 써도 돌아간다. 하지만 쓰지 말자.\n",
    "    - 띄어쓰기랑 탭을 섞어서 쓰면 에러가 난다.\n",
    "- 들여쓰기를 해야 하는 부분\n",
    "    - 조건문이 참이어서 if문 내부의 코드가 실행되는 부분\n",
    "- 의미없는 들여쓰기는 에러가 난다.\n",
    "\n",
    "#### else문"
   ]
  },
  {
   "cell_type": "markdown",
   "id": "235de981",
   "metadata": {
    "lines_to_next_cell": 0
   },
   "source": [
    "```python\n",
    "if 조건문:\n",
    "    실행문1\n",
    "else:\n",
    "    실행문2\n",
    "```\n",
    "\n",
    "- 이 코드는 조건문이 참이면 실행문1을, 조건문이 거짓이면 실행문2를 실행하는 코드이다.\n",
    "- else는 if문 없이 독립적으로는 쓸 수 없다.\n",
    "    - else문 뒤에는 조건이 붙지 않는다.\n",
    "\n",
    "#### elif문"
   ]
  },
  {
   "cell_type": "markdown",
   "id": "8db260d4",
   "metadata": {
    "lines_to_next_cell": 0
   },
   "source": [
    "```python\n",
    "if 조건문1:\n",
    "    실행문1\n",
    "elif 조건문2:\n",
    "    실행문2\n",
    "elif 조건문3:\n",
    "    실행문3\n",
    "else:\n",
    "    실행문4\n",
    "```\n",
    "\n",
    "- 위 코드는 다음과 같다.\n",
    "    - 조건문1을 먼저 체크하고, 그것이 참이면 실행문1만 실행한다.\n",
    "    - 조건문1이 거짓인 경우 조건문2를 체크하고, 그것이 참이면 실행문2만 실행한다.\n",
    "    - 조건문2가 거짓인 경우 조건문3을 체크하고, 그것이 참이면 실행문3만 실행한다.\n",
    "    - 모든 조건문이 거짓인 경우 else문의 실행문3이 실행된다.\n",
    "- elif 문을 쓸 때 if 문은 반드시 필요하지만, else 문은 생략될 수 있다.\n",
    "\n",
    "![alt text](../Resources/2-1.png)\n",
    "- 이미지 출처: https://wikidocs.net/20\n",
    "\n",
    "#### 실제 예시\n",
    "- 사용자가 비밀번호를 입력했는지 확인하는 프로그램"
   ]
  },
  {
   "cell_type": "code",
   "execution_count": 1,
   "id": "9c02eb82",
   "metadata": {},
   "outputs": [
    {
     "name": "stdout",
     "output_type": "stream",
     "text": [
      "비밀번호가 틀렸습니다.\n"
     ]
    }
   ],
   "source": [
    "password = input(\"비밀번호:\")\n",
    "right_answer = \"ApplePie\"\n",
    "\n",
    "if password == right_answer:\n",
    "    print(\"비밀번호를 맞췄습니다.\")\n",
    "else:\n",
    "    print(\"비밀번호가 틀렸습니다.\")"
   ]
  },
  {
   "cell_type": "markdown",
   "id": "34d39b5c",
   "metadata": {
    "lines_to_next_cell": 0
   },
   "source": [
    "- 사용자의 점수 (0~100 사이의 정수) 에 따라 A, B, C, D 로 성적 등급을 판별해주는 프로그램"
   ]
  },
  {
   "cell_type": "code",
   "execution_count": 2,
   "id": "2ecb4bd6",
   "metadata": {},
   "outputs": [
    {
     "name": "stdout",
     "output_type": "stream",
     "text": [
      "D 등급\n"
     ]
    }
   ],
   "source": [
    "score = int(input(\"점수를 입력해주세요 (0~100):\"))\n",
    "\n",
    "if score >= 90:\n",
    "    print(\"A 등급\")\n",
    "elif score >= 80:\n",
    "    print(\"B 등급\")\n",
    "elif score >= 70:\n",
    "    print(\"C 등급\")\n",
    "else:\n",
    "    print(\"D 등급\")"
   ]
  },
  {
   "cell_type": "markdown",
   "id": "552cdf66",
   "metadata": {
    "lines_to_next_cell": 0
   },
   "source": [
    "- 쇼핑몰 회원이거나 쿠폰을 가지고 있으면, 특정 금액 이상 구매시 할인된 금액을 알려주는 프로그램\n",
    "    - 복잡한 조건을 중첩 if문 또는 and, or, not 등의 논리 연산자를 이용하여 표시할 수 있다."
   ]
  },
  {
   "cell_type": "code",
   "execution_count": 3,
   "id": "d0b34f16",
   "metadata": {},
   "outputs": [
    {
     "name": "stdout",
     "output_type": "stream",
     "text": [
      "할인을 받아 최종 금액은 108,000 원 입니다\n"
     ]
    }
   ],
   "source": [
    "price = 120000 # 상품 가격\n",
    "is_member = True # 회원 여부\n",
    "has_coupon = False # 쿠폰 보유 여부\n",
    "\n",
    "if price >= 100000:\n",
    "    if is_member or has_coupon:\n",
    "        final_price = price * 0.9 # 10퍼센트 할인\n",
    "        print(f\"할인을 받아 최종 금액은 {final_price:,.0f} 원 입니다\")\n",
    "    else:\n",
    "        final_price = price\n",
    "        print(f\"할인 조건을 만족하지 않아 {final_price:,.0f} 원으로 계산됩니다.\")\n",
    "else:\n",
    "    if not is_member:\n",
    "        print(f\"100,000원 이상 구매 시 회원 가입 시 혜택을 받을 수 있습니다.\\n현재 금액: {price}\")\n",
    "    else:\n",
    "        print(f\"금액이 부족하여 할인이 불가능합니다.\\n현재 금액: {price}\")"
   ]
  },
  {
   "cell_type": "markdown",
   "id": "41ef6d49",
   "metadata": {
    "lines_to_next_cell": 0
   },
   "source": [
    "#### in, not in\n",
    "- 어떤 원소나 문자열이 리스트, 튜플, dictionary, set, 문자열에 포함되어 있는지 확인하고자 할 때 `in`, `not in` 연산자를 쓸 수 있다."
   ]
  },
  {
   "cell_type": "code",
   "execution_count": 4,
   "id": "e41d9c81",
   "metadata": {},
   "outputs": [
    {
     "name": "stdout",
     "output_type": "stream",
     "text": [
      "떡볶이 메뉴는 4000원 입니다.\n",
      "안심하고 주문할 수 있습니다.\n"
     ]
    }
   ],
   "source": [
    "menu = {\n",
    "    \"라면\": 5000,\n",
    "    \"김밥\": 3500,\n",
    "    \"떡볶이\": 4000, \n",
    "    \"순대\": 4000\n",
    "}\n",
    "# in 예시\n",
    "order = input(\"식사를 주문해주세요:\")\n",
    "\n",
    "if order in menu:\n",
    "    print(f\"{order} 메뉴는 {menu[order]}원 입니다.\")\n",
    "else:\n",
    "    print(f\"{order}는 메뉴에 없습니다.\")\n",
    "\n",
    "# not in 예시\n",
    "allergy = input(\"알러지가 있는 음식이 있습니까?:\")\n",
    "\n",
    "if allergy not in menu:\n",
    "    print(\"안심하고 주문할 수 있습니다.\")\n",
    "else:\n",
    "    print(f\"{allergy}는 알레르기 음식이므로 제외해야 합니다.\")"
   ]
  },
  {
   "cell_type": "markdown",
   "id": "0fb1757c",
   "metadata": {
    "lines_to_next_cell": 0
   },
   "source": [
    "#### pass\n",
    "- 조건문에서 아무 일도 하지 않게 하고 싶다면 `pass`를 쓸 수 있다.\n",
    "    - 주머니에 명함이 없으면 가만히 있고, 명함이 있으면 명함을 꺼내라."
   ]
  },
  {
   "cell_type": "code",
   "execution_count": 5,
   "id": "1617b772",
   "metadata": {},
   "outputs": [],
   "source": [
    "pocket = [\"영수증\", \"지갑\", \"스마트폰\"]\n",
    "\n",
    "if \"명함\" not in pocket:\n",
    "    pass\n",
    "else:\n",
    "    print(\"제 명함이 여기있습니다.\")"
   ]
  },
  {
   "cell_type": "markdown",
   "id": "bd4d1050",
   "metadata": {
    "lines_to_next_cell": 0
   },
   "source": [
    "- 사실 이 코드는 아래 코드와 동일한 일을 한다."
   ]
  },
  {
   "cell_type": "code",
   "execution_count": 6,
   "id": "6d2593ba",
   "metadata": {},
   "outputs": [],
   "source": [
    "if \"명함\" in pocket:\n",
    "    print(\"제 명함이 여기있습니다.\")"
   ]
  },
  {
   "cell_type": "markdown",
   "id": "26a50431",
   "metadata": {},
   "source": [
    "- 그럼에도 불구하고 `pass`를 쓰는 경우는\n",
    "    - 임시로 if 문을 만들고 돌려보는 경우 (코드를 나중에 작성할 자리용)\n",
    "    - 코드의 명확성을 위해 형식상 만들어두고 내용을 비우고 싶을 때\n",
    "    - 예외처리에서 아무 동작도 하지 않도록 의도할 때 (나중에 설명드리겠습니다)\n",
    "\n",
    "#### 비교 연산자의 연쇄 작용\n",
    "- 파이썬에서는 비교 연산자를 **여러 개 연속으로 연결**할 수 있음\n",
    "- 예를 들어 `a < b < c` 라고 쓰면, `a < b` 이고 `b < c` 라는 뜻이 된다\n",
    "- 수학에서 부등식을 연결해서 쓰는 것과 같은 방식"
   ]
  },
  {
   "cell_type": "code",
   "execution_count": 7,
   "id": "c371c806",
   "metadata": {},
   "outputs": [
    {
     "name": "stdout",
     "output_type": "stream",
     "text": [
      "x는 0과 10 사이에 있습니다.\n",
      "y는 10 이상 20 이하입니다.\n"
     ]
    }
   ],
   "source": [
    "x = 5\n",
    "\n",
    "if 0 < x < 10:   # 0보다 크고 10보다 작은지 확인\n",
    "    print(\"x는 0과 10 사이에 있습니다.\")\n",
    "\n",
    "y = 15\n",
    "if 10 < y <= 20: # 10보다 크거나 같고, 20보다 작거나 같은지 확인\n",
    "    print(\"y는 10 이상 20 이하입니다.\")"
   ]
  },
  {
   "cell_type": "markdown",
   "id": "e680f391",
   "metadata": {
    "lines_to_next_cell": 0
   },
   "source": [
    "- 위 코드는 각각 아래와 동일:"
   ]
  },
  {
   "cell_type": "code",
   "execution_count": 8,
   "id": "5456f1d1",
   "metadata": {},
   "outputs": [
    {
     "name": "stdout",
     "output_type": "stream",
     "text": [
      "x는 0과 10 사이에 있습니다.\n",
      "y는 10 이상 20 이하입니다.\n"
     ]
    }
   ],
   "source": [
    "if x > 0 and x < 10:\n",
    "    print(\"x는 0과 10 사이에 있습니다.\")\n",
    "\n",
    "if y > 10 and y <= 20:\n",
    "    print(\"y는 10 이상 20 이하입니다.\")"
   ]
  },
  {
   "cell_type": "markdown",
   "id": "e9e65282",
   "metadata": {},
   "source": [
    "#### 조건부 표현식 or 삼항 연산자\n",
    "- 일반적인 if문을 한 줄로 줄여 쓸 수 있는 문법이다.\n",
    "- 형태는 `값1 if 조건식 else 값2` 이다.\n",
    "- 조건식이 참이면 `값1`, 거짓이면 `값2`가 선택된다."
   ]
  },
  {
   "cell_type": "code",
   "execution_count": 9,
   "id": "b3fbd270",
   "metadata": {
    "lines_to_next_cell": 2
   },
   "outputs": [
    {
     "name": "stdout",
     "output_type": "stream",
     "text": [
      "오늘 날씨는 덥습니다\n"
     ]
    }
   ],
   "source": [
    "temperature = 35\n",
    "hot = True if temperature > 30 else False\n",
    "print(f\"오늘 날씨는 {'덥' if hot else '춥'}습니다\")"
   ]
  },
  {
   "cell_type": "markdown",
   "id": "7e723dd3",
   "metadata": {
    "lines_to_next_cell": 0
   },
   "source": [
    "### while 문\n",
    "- while 문은 **조건문이 참(True)인 동안** 반복해서 실행되는 제어문이다.\n",
    "- 조건이 거짓(False)이 되면 반복을 멈춘다."
   ]
  },
  {
   "cell_type": "markdown",
   "id": "0f1879b5",
   "metadata": {},
   "source": [
    "```python\n",
    "while 조건문:\n",
    "    실행문1\n",
    "    실행문2\n",
    "```\n",
    "\n",
    "- 조건문이 참이면 `실행문1`, `실행문2` 등이 차례로 실행된다.\n",
    "- 실행이 끝난 뒤 다시 조건문으로 돌아와 조건을 검사한다.\n",
    "- 조건이 거짓이 되면 반복이 종료되고, while 문을 빠져나온다.\n",
    "\n",
    "#### 기본 예시\n",
    "- 1부터 5까지 숫자를 차례로 출력하는 프로그램"
   ]
  },
  {
   "cell_type": "code",
   "execution_count": 10,
   "id": "f7ca9eef",
   "metadata": {},
   "outputs": [
    {
     "name": "stdout",
     "output_type": "stream",
     "text": [
      "1\n",
      "2\n",
      "3\n",
      "4\n",
      "5\n"
     ]
    }
   ],
   "source": [
    "i = 1\n",
    "while i <= 5:\n",
    "    print(i)\n",
    "    i = i + 1"
   ]
  },
  {
   "cell_type": "markdown",
   "id": "ed8972f6",
   "metadata": {
    "lines_to_next_cell": 0
   },
   "source": [
    "#### 무한 루프\n",
    "- 조건이 항상 참이라면, while 문은 무한히 반복된다.\n",
    "    - 무한 루프는 의도하지 않으면 프로그램이 멈추지 않으므로, 보통 `break` 문과 함께 사용한다.\n",
    "    - 중단하려면 주피터 노트북의 \"중단\" 버튼을 누른다."
   ]
  },
  {
   "cell_type": "code",
   "execution_count": null,
   "id": "c612545a",
   "metadata": {},
   "outputs": [],
   "source": [
    "while True:\n",
    "    print(\"멈추지 않고 반복합니다.\")"
   ]
  },
  {
   "cell_type": "markdown",
   "id": "b7f22f50",
   "metadata": {
    "lines_to_next_cell": 0
   },
   "source": [
    "#### break 문\n",
    "- `break`는 반복문을 강제로 종료시키는 명령어이다.\n",
    "    - 아래 코드는 `\"반복 중...\"`을 3번 출력한 뒤 `break`에 의해 종료된다."
   ]
  },
  {
   "cell_type": "code",
   "execution_count": 13,
   "id": "8939251e",
   "metadata": {},
   "outputs": [
    {
     "name": "stdout",
     "output_type": "stream",
     "text": [
      "반복 중...\n",
      "반복 중...\n",
      "반복 중...\n"
     ]
    }
   ],
   "source": [
    "count = 0\n",
    "while True:\n",
    "    print(\"반복 중...\")\n",
    "    count += 1\n",
    "    if count == 3:\n",
    "        break"
   ]
  },
  {
   "cell_type": "markdown",
   "id": "7b0a9ff8",
   "metadata": {
    "lines_to_next_cell": 0
   },
   "source": [
    "#### continue 문\n",
    "- `continue`는 반복문 안에서 아래 실행문을 건너뛰고, 바로 조건 검사로 돌아가게 한다.\n",
    "    - 아래 코드에서 짝수일 때는 `continue`에 걸려 `print`가 실행되지 않으므로 홀수만 출력된다."
   ]
  },
  {
   "cell_type": "code",
   "execution_count": 14,
   "id": "af1ad089",
   "metadata": {},
   "outputs": [
    {
     "name": "stdout",
     "output_type": "stream",
     "text": [
      "1\n",
      "3\n",
      "5\n"
     ]
    }
   ],
   "source": [
    "i = 0\n",
    "while i < 5:\n",
    "    i += 1\n",
    "    if i % 2 == 0:\n",
    "        continue\n",
    "    print(i)"
   ]
  },
  {
   "cell_type": "markdown",
   "id": "ac86c990",
   "metadata": {},
   "source": [
    "#### while 문의 중첩\n",
    "- while 문 안에 또 다른 while 문을 넣을 수도 있다.\n",
    "- 이 경우 바깥 while 문이 한 번 실행될 때, 안쪽 while 문이 조건이 거짓이 될 때까지 반복된다."
   ]
  },
  {
   "cell_type": "code",
   "execution_count": 34,
   "id": "0ddb3d53",
   "metadata": {},
   "outputs": [
    {
     "name": "stdout",
     "output_type": "stream",
     "text": [
      "2단\n",
      "2 * 2 = 4\n",
      "2 * 3 = 6\n",
      "2 * 4 = 8\n",
      "2 * 5 = 10\n",
      "2 * 6 = 12\n",
      "2 * 7 = 14\n",
      "2 * 8 = 16\n",
      "2 * 9 = 18\n",
      "3단\n",
      "3 * 2 = 6\n",
      "3 * 3 = 9\n",
      "3 * 4 = 12\n",
      "3 * 5 = 15\n",
      "3 * 6 = 18\n",
      "3 * 7 = 21\n",
      "3 * 8 = 24\n",
      "3 * 9 = 27\n",
      "4단\n",
      "4 * 2 = 8\n",
      "4 * 3 = 12\n",
      "4 * 4 = 16\n",
      "4 * 5 = 20\n",
      "4 * 6 = 24\n",
      "4 * 7 = 28\n",
      "4 * 8 = 32\n",
      "4 * 9 = 36\n"
     ]
    }
   ],
   "source": [
    "i = 2\n",
    "while i <= 4:              # 바깥 while\n",
    "    print(f\"{i}단\")\n",
    "    j = 2\n",
    "    while j <= 9:          # 안쪽 while\n",
    "        print(f\"{i} * {j} = {i * j}\")\n",
    "        j += 1\n",
    "    i += 1"
   ]
  },
  {
   "cell_type": "markdown",
   "id": "2bb477a7",
   "metadata": {},
   "source": [
    "### for 문\n",
    "- for 문은 반복 가능한 객체(리스트, 튜플, 문자열, range 등)의 요소를 차례로 꺼내면서 실행문을 반복하는 제어문이다.\n",
    "- while 문이 조건에 따라 반복을 제어한다면, for 문은 **순서가 있는 데이터**를 차례로 꺼내는 데 더 적합하다.\n",
    "```python\n",
    "for 변수 in 반복가능객체:\n",
    "    실행문\n",
    "```"
   ]
  },
  {
   "cell_type": "markdown",
   "id": "bce36768",
   "metadata": {
    "lines_to_next_cell": 0
   },
   "source": [
    "#### 기본 예시\n",
    "- 리스트 안의 숫자를 하나씩 출력하는 프로그램"
   ]
  },
  {
   "cell_type": "code",
   "execution_count": 16,
   "id": "0dd249b4",
   "metadata": {},
   "outputs": [
    {
     "name": "stdout",
     "output_type": "stream",
     "text": [
      "10\n",
      "20\n",
      "30\n"
     ]
    }
   ],
   "source": [
    "numbers = [10, 20, 30]\n",
    "for n in numbers:\n",
    "    print(n)"
   ]
  },
  {
   "cell_type": "markdown",
   "id": "2a0fad88",
   "metadata": {
    "lines_to_next_cell": 0
   },
   "source": [
    "- 문자열도 반복 가능하다."
   ]
  },
  {
   "cell_type": "code",
   "execution_count": 17,
   "id": "7a86b43e",
   "metadata": {},
   "outputs": [
    {
     "name": "stdout",
     "output_type": "stream",
     "text": [
      "h\n",
      "e\n",
      "l\n",
      "l\n",
      "o\n"
     ]
    }
   ],
   "source": [
    "for ch in \"hello\":\n",
    "    print(ch)"
   ]
  },
  {
   "cell_type": "markdown",
   "id": "a556867b",
   "metadata": {},
   "source": [
    "#### range 함수\n",
    "- `range()`는 정수 범위를 만들어주는 함수이다.\n",
    "- `range(start, stop, step)` 형태로 사용할 수 있다.\n",
    "    - start, step은 생략될 수 있다. step의 default는 1, start의 default는 0이다."
   ]
  },
  {
   "cell_type": "code",
   "execution_count": 18,
   "id": "9129db8a",
   "metadata": {},
   "outputs": [
    {
     "name": "stdout",
     "output_type": "stream",
     "text": [
      "1\n",
      "2\n",
      "3\n",
      "4\n",
      "5\n"
     ]
    }
   ],
   "source": [
    "for i in range(1, 6):  # 1부터 5까지\n",
    "    print(i)"
   ]
  },
  {
   "cell_type": "markdown",
   "id": "17f4cf1d",
   "metadata": {
    "lines_to_next_cell": 0
   },
   "source": [
    "#### 중첩 for 문\n",
    "- for 문 안에 for 문을 넣어 사용할 수 있다."
   ]
  },
  {
   "cell_type": "code",
   "execution_count": 36,
   "id": "aebad1b4",
   "metadata": {},
   "outputs": [
    {
     "name": "stdout",
     "output_type": "stream",
     "text": [
      "2단\n",
      "2 * 2 = 4\n",
      "2 * 3 = 6\n",
      "2 * 4 = 8\n",
      "2 * 5 = 10\n",
      "2 * 6 = 12\n",
      "2 * 7 = 14\n",
      "2 * 8 = 16\n",
      "2 * 9 = 18\n",
      "3단\n",
      "3 * 2 = 6\n",
      "3 * 3 = 9\n",
      "3 * 4 = 12\n",
      "3 * 5 = 15\n",
      "3 * 6 = 18\n",
      "3 * 7 = 21\n",
      "3 * 8 = 24\n",
      "3 * 9 = 27\n",
      "4단\n",
      "4 * 2 = 8\n",
      "4 * 3 = 12\n",
      "4 * 4 = 16\n",
      "4 * 5 = 20\n",
      "4 * 6 = 24\n",
      "4 * 7 = 28\n",
      "4 * 8 = 32\n",
      "4 * 9 = 36\n"
     ]
    }
   ],
   "source": [
    "for i in range(2, 5):\n",
    "    print(f\"{i}단\")\n",
    "\n",
    "    for j in range(2, 10):\n",
    "        print(f\"{i} * {j} = {i * j}\")"
   ]
  },
  {
   "cell_type": "markdown",
   "id": "68c9b0ba",
   "metadata": {
    "lines_to_next_cell": 0
   },
   "source": [
    "#### break와 continue\n",
    "- `break`는 반복을 강제로 종료한다.\n",
    "- `continue`는 아래 실행문을 건너뛰고 다음 반복으로 넘어간다."
   ]
  },
  {
   "cell_type": "code",
   "execution_count": 20,
   "id": "b95d652d",
   "metadata": {},
   "outputs": [
    {
     "name": "stdout",
     "output_type": "stream",
     "text": [
      "1\n",
      "2\n",
      "3\n"
     ]
    }
   ],
   "source": [
    "for i in range(1, 6):\n",
    "    if i == 4:\n",
    "        break\n",
    "    print(i)"
   ]
  },
  {
   "cell_type": "code",
   "execution_count": 21,
   "id": "f8dd81fd",
   "metadata": {},
   "outputs": [
    {
     "name": "stdout",
     "output_type": "stream",
     "text": [
      "1\n",
      "3\n",
      "5\n"
     ]
    }
   ],
   "source": [
    "for i in range(1, 6):\n",
    "    if i % 2 == 0:\n",
    "        continue\n",
    "    print(i)"
   ]
  },
  {
   "cell_type": "markdown",
   "id": "e15e3d58",
   "metadata": {},
   "source": [
    "#### for 문의 else\n",
    "- for 문 뒤에도 `else`를 붙일 수 있다.\n",
    "    - 반복이 끝까지 정상적으로 수행되면 else가 실행되고, `break`로 중간에 종료되면 else는 실행되지 않는다."
   ]
  },
  {
   "cell_type": "code",
   "execution_count": 22,
   "id": "d00d56ee",
   "metadata": {},
   "outputs": [
    {
     "name": "stdout",
     "output_type": "stream",
     "text": [
      "0\n",
      "1\n",
      "2\n",
      "정상 종료\n"
     ]
    }
   ],
   "source": [
    "for i in range(3):\n",
    "    print(i)\n",
    "else:\n",
    "    print(\"정상 종료\")"
   ]
  },
  {
   "cell_type": "markdown",
   "id": "1a140a9a",
   "metadata": {},
   "source": [
    "#### enumerate\n",
    "- 반복하면서 인덱스와 값을 동시에 얻고 싶을 때 사용한다."
   ]
  },
  {
   "cell_type": "code",
   "execution_count": 23,
   "id": "82f833a2",
   "metadata": {},
   "outputs": [
    {
     "name": "stdout",
     "output_type": "stream",
     "text": [
      "0 사과\n",
      "1 바나나\n",
      "2 체리\n"
     ]
    }
   ],
   "source": [
    "fruits = [\"사과\", \"바나나\", \"체리\"]\n",
    "\n",
    "for index, fruit in enumerate(fruits):\n",
    "    print(index, fruit)"
   ]
  },
  {
   "cell_type": "markdown",
   "id": "dffe820a",
   "metadata": {},
   "source": [
    "#### zip\n",
    "- 여러 개의 반복 가능한 객체를 묶어서 동시에 순회할 때 사용한다.\n",
    "    - 반복 가능한 객체의 길이가 다르면 짧은 것에 맞춰 순회가 끝난다."
   ]
  },
  {
   "cell_type": "code",
   "execution_count": 24,
   "id": "11036ac5",
   "metadata": {},
   "outputs": [
    {
     "name": "stdout",
     "output_type": "stream",
     "text": [
      "Tom의 점수는 90점 입니다.\n",
      "Jane의 점수는 85점 입니다.\n",
      "Mike의 점수는 70점 입니다.\n"
     ]
    }
   ],
   "source": [
    "names = [\"Tom\", \"Jane\", \"Mike\"]\n",
    "scores = [90, 85, 70]\n",
    "\n",
    "for name, score in zip(names, scores):\n",
    "    print(f\"{name}의 점수는 {score}점 입니다.\")"
   ]
  },
  {
   "cell_type": "markdown",
   "id": "dc574473",
   "metadata": {},
   "source": [
    "#### 리스트 컴프리헨션 list comprehension\n",
    "- for 문을 간단히 표현할 수 있는 방법이다.\n",
    "- 새로운 리스트를 짧은 문법으로 만들 수 있다."
   ]
  },
  {
   "cell_type": "code",
   "execution_count": 25,
   "id": "3f8f48bc",
   "metadata": {},
   "outputs": [
    {
     "name": "stdout",
     "output_type": "stream",
     "text": [
      "[1, 4, 9, 16, 25]\n"
     ]
    }
   ],
   "source": [
    "# 1부터 5까지 제곱수를 원소로 갖는 리스트\n",
    "squares = [x**2 for x in range(1, 6)]\n",
    "print(squares)"
   ]
  },
  {
   "cell_type": "markdown",
   "id": "30e42b76",
   "metadata": {
    "lines_to_next_cell": 0
   },
   "source": [
    "- 조건문도 함께 사용할 수 있다."
   ]
  },
  {
   "cell_type": "code",
   "execution_count": 26,
   "id": "57e35b5d",
   "metadata": {},
   "outputs": [
    {
     "name": "stdout",
     "output_type": "stream",
     "text": [
      "[2, 4, 6, 8, 10]\n"
     ]
    }
   ],
   "source": [
    "# 1부터 10까지 중에서 짝수만 리스트로 생성\n",
    "evens = [x for x in range(1, 11) if x % 2 == 0]\n",
    "print(evens)"
   ]
  },
  {
   "cell_type": "markdown",
   "id": "8d79d0ae",
   "metadata": {},
   "source": [
    "# 과제\n",
    "## 숫자 야구\n",
    "### 추가 정보: 랜덤 함수\n",
    "- 파이썬에서는 무작위(랜덤) 값을 만들어내는 기능을 제공한다.\n",
    "    - 예를 들어, 주사위를 굴리면 1부터 6까지 숫자 중 하나가 무작위로 나온다.\n",
    "    - 이런 동작을 프로그램으로 흉내 내기 위해 랜덤 함수를 사용한다.\n",
    "        - 실행할 때마다 다른 값이 출력된다.\n",
    "        - `random.randint(a, b)` 는 a 이상 b 이하의 정수 중에서 하나를 무작위로 돌려준다."
   ]
  },
  {
   "cell_type": "code",
   "execution_count": 27,
   "id": "df3a505f",
   "metadata": {},
   "outputs": [
    {
     "name": "stdout",
     "output_type": "stream",
     "text": [
      "4\n"
     ]
    }
   ],
   "source": [
    "import random  # 랜덤 기능을 사용하기 위해 필요\n",
    "\n",
    "# 1부터 6까지의 숫자 중 하나를 무작위로 뽑음\n",
    "dice = random.randint(1, 6)\n",
    "print(dice)"
   ]
  },
  {
   "cell_type": "markdown",
   "id": "bc932677",
   "metadata": {},
   "source": [
    "### 숫자 야구 게임이란?\n",
    "- 컴퓨터가 **서로 다른 숫자로 이루어진 3자리 정답**을 미리 정한다.\n",
    "- 사용자는 3자리 숫자를 입력하며, 컴퓨터가 힌트를 준다.\n",
    "- 힌트를 보고 사용자는 정답을 추리하여 맞히는 게임이다.\n",
    "\n",
    "### 조건 및 규칙\n",
    "1. 정답 생성\n",
    "    - 0부터 9까지의 숫자 중 서로 다른 3개가 선택된다.\n",
    "    - 예: `[4, 1, 7]` → 정답은 417\n",
    "2. 사용자 입력\n",
    "    - 사용자는 3자리 숫자를 입력해야 한다.\n",
    "    - 숫자가 아닌 문자를 입력하거나, 중복된 숫자를 입력하면 잘못된 입력으로 처리한다.\n",
    "3. 판정 방법\n",
    "    - 컴퓨터는 입력한 숫자와 정답을 비교하여 다음과 같은 힌트를 준다.\n",
    "        - **스트라이크(Strike)** : 숫자와 위치가 모두 같은 경우\n",
    "        - **볼(Ball)** : 숫자는 맞지만 위치가 다른 경우\n",
    "        - **아웃(Out)** : 숫자가 전혀 없는 경우\n",
    "    - 예: 정답이 `417`일 때\n",
    "        - 입력: `415` → `2 스트라이크` (4,1 자리까지 맞음)\n",
    "        - 입력: `174` → `3 볼` (숫자는 다 맞지만 위치는 다름)\n",
    "        - 입력: `444` → `1 스트라이크 2 볼`\n",
    "        - 입력: `890` → `아웃` (맞는 숫자가 없음)\n",
    "4. 게임 종료 조건\n",
    "   - 사용자가 `3 스트라이크`를 맞히면 게임이 끝난다.\n",
    "   - 그 외에는 계속 반복하며, 시도 횟수를 세어 몇 번 만에 맞췄는지 알려줄 수 있다.\n",
    "\n",
    "### 힌트: 프로그램의 뼈대\n",
    "- 아래는 하나의 예시일 뿐, 다른 방식으로 구현하셔도 됩니다."
   ]
  },
  {
   "cell_type": "code",
   "execution_count": null,
   "id": "7d58c1a7",
   "metadata": {},
   "outputs": [],
   "source": [
    "import random\n",
    "\n",
    "# 1. 3자리 숫자(서로 다른 숫자)를 생성하여 answer라는 변수에 대입\n",
    "answer = [random.randint(0, 9) for _ in range(3)] # _ 라는 변수명은 사용하지 않는다는 의미\n",
    "\n",
    "# 2. while 문으로 사용자의 입력을 받을 수 있다. 무한루프를 돌면서 3 스트라이크일때만 while 문을 종료하게 만들 것이다.\n",
    "while True:\n",
    "    user = input(\"세 자리 숫자를 입력하세요:\")\n",
    "\n",
    "    # TODO: input으로 받은 값은 기본적으로 문자열이다. 이것이 숫자인지, 길이가 3인지 if 문으로 검사한다.\n",
    "    # 만약 조건이 맞지 않을 경우 while 문의 처음으로 돌아간다.\n",
    "\n",
    "    # TODO: 문자열을 정수 리스트로 변환한다.\n",
    "    # 리스트 컴프리헨션을 사용할 수 있다.\n",
    "\n",
    "    strike = 0\n",
    "    ball = 0\n",
    "\n",
    "    # TODO: for 문과 if 문을 이용하여 정답과 사용자의 입력을 자리별로 비교한다.\n",
    "    # strike 수와 ball 수를 세어 계산한다.\n",
    "\n",
    "    # TODO: strike 와 ball 수를 출력한다.\n",
    "    # strike 나 ball 이 0 인 경우 이를 출력하지 않는다.\n",
    "    # 모두 틀렸을 경우에는 아웃이라고 출력해야 한다.\n",
    "    # 다 맞은 경우에는 프로그램을 종료한다."
   ]
  }
 ],
 "metadata": {
  "jupytext": {
   "cell_metadata_filter": "-all",
   "main_language": "python",
   "notebook_metadata_filter": "-all"
  },
  "kernelspec": {
   "display_name": "base",
   "language": "python",
   "name": "python3"
  },
  "language_info": {
   "codemirror_mode": {
    "name": "ipython",
    "version": 3
   },
   "file_extension": ".py",
   "mimetype": "text/x-python",
   "name": "python",
   "nbconvert_exporter": "python",
   "pygments_lexer": "ipython3",
   "version": "3.9.12"
  }
 },
 "nbformat": 4,
 "nbformat_minor": 5
}
