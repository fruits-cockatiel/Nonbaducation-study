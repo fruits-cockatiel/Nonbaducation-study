{
  "cells": [
    {
      "cell_type": "markdown",
      "id": "3439bf34",
      "metadata": {
        "id": "3439bf34",
        "lines_to_next_cell": 0
      },
      "source": [
        "# 실습\n",
        "## 파일 입출력과 클래스 (구글 코랩 환경)\n",
        "\n",
        "- 지금까지 만든 프로그램들은 실행이 끝나면 모든 데이터가 사라졌습니다.\n",
        "- 파일에 데이터를 저장하면 다음에 프로그램을 실행할 때도 데이터를 불러올 수 있습니다.\n",
        "- 클래스를 배우면 관련된 함수와 데이터를 하나로 묶어서 더 체계적으로 프로그램을 만들 수 있습니다.\n",
        "\n",
        "**구글 코랩 주의사항:**\n",
        "- 세션이 끊어지면 저장한 파일들이 사라집니다!\n",
        "- 중요한 파일은 구글 드라이브에 연결하거나 다운로드 받아야 합니다.\n",
        "\n",
        "### 구글 코랩에서 파일 다루기\n",
        "\n",
        "#### 현재 위치 확인하기"
      ]
    },
    {
      "cell_type": "code",
      "execution_count": 1,
      "id": "c070a347",
      "metadata": {
        "colab": {
          "base_uri": "https://localhost:8080/"
        },
        "id": "c070a347",
        "outputId": "409eb62c-0fff-4591-aab4-713144ecc3df"
      },
      "outputs": [
        {
          "name": "stdout",
          "output_type": "stream",
          "text": [
            "현재 작업 디렉토리: /content\n",
            "현재 폴더의 파일들: ['.config', 'sample_data']\n"
          ]
        }
      ],
      "source": [
        "import os\n",
        "print(\"현재 작업 디렉토리:\", os.getcwd())\n",
        "print(\"현재 폴더의 파일들:\", os.listdir('.'))"
      ]
    },
    {
      "cell_type": "markdown",
      "id": "5da86f46",
      "metadata": {
        "id": "5da86f46",
        "lines_to_next_cell": 0
      },
      "source": [
        "구글 코랩에서는 보통 `/content/` 폴더에서 작업하게 됩니다.\n",
        "\n",
        "#### 파일에 쓰기"
      ]
    },
    {
      "cell_type": "code",
      "execution_count": 2,
      "id": "ed17c6df",
      "metadata": {
        "colab": {
          "base_uri": "https://localhost:8080/"
        },
        "id": "ed17c6df",
        "outputId": "2fd31991-199f-4c4b-fd78-cdadd7703733"
      },
      "outputs": [
        {
          "name": "stdout",
          "output_type": "stream",
          "text": [
            "메모가 저장되었습니다!\n",
            "파일이 성공적으로 생성되었습니다!\n"
          ]
        }
      ],
      "source": [
        "# 텍스트 파일에 내용 저장하기\n",
        "with open(\"my_memo.txt\", \"w\") as file:\n",
        "    file.write(\"오늘은 파이썬을 공부했다.\\n\")\n",
        "    file.write(\"구글 코랩에서 파일 저장을 배웠다.\\n\")\n",
        "    file.write(\"내일은 클래스를 배울 예정이다.\")\n",
        "\n",
        "print(\"메모가 저장되었습니다!\")\n",
        "\n",
        "# 파일이 잘 만들어졌는지 확인\n",
        "import os\n",
        "if os.path.exists(\"my_memo.txt\"):\n",
        "    print(\"파일이 성공적으로 생성되었습니다!\")\n",
        "else:\n",
        "    print(\"파일 생성에 실패했습니다.\")"
      ]
    },
    {
      "cell_type": "markdown",
      "id": "35dfb432",
      "metadata": {
        "id": "35dfb432",
        "lines_to_next_cell": 0
      },
      "source": [
        "#### 파일에서 읽기"
      ]
    },
    {
      "cell_type": "code",
      "execution_count": 3,
      "id": "71eb34cd",
      "metadata": {
        "colab": {
          "base_uri": "https://localhost:8080/"
        },
        "id": "71eb34cd",
        "outputId": "425e62f1-6220-45eb-e189-ea7cafd40c68"
      },
      "outputs": [
        {
          "name": "stdout",
          "output_type": "stream",
          "text": [
            "=== 저장된 메모 ===\n",
            "오늘은 파이썬을 공부했다.\n",
            "구글 코랩에서 파일 저장을 배웠다.\n",
            "내일은 클래스를 배울 예정이다.\n"
          ]
        }
      ],
      "source": [
        "# 파일 내용 읽어오기\n",
        "import os\n",
        "\n",
        "if os.path.exists(\"my_memo.txt\"):\n",
        "    with open(\"my_memo.txt\", \"r\") as file:\n",
        "        content = file.read()\n",
        "        print(\"=== 저장된 메모 ===\")\n",
        "        print(content)\n",
        "else:\n",
        "    print(\"파일이 없습니다!\")"
      ]
    },
    {
      "cell_type": "markdown",
      "id": "a9bfc46c",
      "metadata": {
        "id": "a9bfc46c",
        "lines_to_next_cell": 0
      },
      "source": [
        "- 파일 모드 설명:\n",
        "    - \"w\" (write): 쓰기 모드 - 새로 쓰기 (기존 내용이 모두 지워짐)\n",
        "    - \"a\" (append): 추가 모드 - 기존 내용 뒤에 추가하기\n",
        "    - \"r\" (read): 읽기 모드 - 파일 내용 읽어오기\n",
        "\n",
        "#### 구글 코랩에서 파일 다운로드하기"
      ]
    },
    {
      "cell_type": "code",
      "execution_count": 4,
      "id": "1e2b5f82",
      "metadata": {
        "colab": {
          "base_uri": "https://localhost:8080/",
          "height": 17
        },
        "id": "1e2b5f82",
        "outputId": "d09c5502-9c41-41b1-a580-05fa3c1f5f69"
      },
      "outputs": [
        {
          "data": {
            "application/javascript": "\n    async function download(id, filename, size) {\n      if (!google.colab.kernel.accessAllowed) {\n        return;\n      }\n      const div = document.createElement('div');\n      const label = document.createElement('label');\n      label.textContent = `Downloading \"${filename}\": `;\n      div.appendChild(label);\n      const progress = document.createElement('progress');\n      progress.max = size;\n      div.appendChild(progress);\n      document.body.appendChild(div);\n\n      const buffers = [];\n      let downloaded = 0;\n\n      const channel = await google.colab.kernel.comms.open(id);\n      // Send a message to notify the kernel that we're ready.\n      channel.send({})\n\n      for await (const message of channel.messages) {\n        // Send a message to notify the kernel that we're ready.\n        channel.send({})\n        if (message.buffers) {\n          for (const buffer of message.buffers) {\n            buffers.push(buffer);\n            downloaded += buffer.byteLength;\n            progress.value = downloaded;\n          }\n        }\n      }\n      const blob = new Blob(buffers, {type: 'application/binary'});\n      const a = document.createElement('a');\n      a.href = window.URL.createObjectURL(blob);\n      a.download = filename;\n      div.appendChild(a);\n      a.click();\n      div.remove();\n    }\n  ",
            "text/plain": [
              "<IPython.core.display.Javascript object>"
            ]
          },
          "metadata": {},
          "output_type": "display_data"
        },
        {
          "data": {
            "application/javascript": "download(\"download_2ba1fb68-e365-437e-bcfc-ee8be0e244b2\", \"my_memo.txt\", 128)",
            "text/plain": [
              "<IPython.core.display.Javascript object>"
            ]
          },
          "metadata": {},
          "output_type": "display_data"
        }
      ],
      "source": [
        "# 만든 파일을 컴퓨터로 다운로드\n",
        "from google.colab import files\n",
        "\n",
        "# 파일 다운로드 (세션이 끊어져도 파일을 보관할 수 있음)\n",
        "files.download(\"my_memo.txt\")"
      ]
    },
    {
      "cell_type": "markdown",
      "id": "acae86db",
      "metadata": {
        "id": "acae86db",
        "lines_to_next_cell": 0
      },
      "source": [
        "#### 구글 코랩에서 파일 업로드하기"
      ]
    },
    {
      "cell_type": "code",
      "execution_count": 5,
      "id": "06be0388",
      "metadata": {
        "colab": {
          "base_uri": "https://localhost:8080/",
          "height": 90
        },
        "id": "06be0388",
        "outputId": "699b5ffa-4ca5-4843-b351-5edcad65aeb6"
      },
      "outputs": [
        {
          "data": {
            "text/html": [
              "\n",
              "     <input type=\"file\" id=\"files-04d5f212-53e4-4ea2-8ea7-adcfe092e0ad\" name=\"files[]\" multiple disabled\n",
              "        style=\"border:none\" />\n",
              "     <output id=\"result-04d5f212-53e4-4ea2-8ea7-adcfe092e0ad\">\n",
              "      Upload widget is only available when the cell has been executed in the\n",
              "      current browser session. Please rerun this cell to enable.\n",
              "      </output>\n",
              "      <script>// Copyright 2017 Google LLC\n",
              "//\n",
              "// Licensed under the Apache License, Version 2.0 (the \"License\");\n",
              "// you may not use this file except in compliance with the License.\n",
              "// You may obtain a copy of the License at\n",
              "//\n",
              "//      http://www.apache.org/licenses/LICENSE-2.0\n",
              "//\n",
              "// Unless required by applicable law or agreed to in writing, software\n",
              "// distributed under the License is distributed on an \"AS IS\" BASIS,\n",
              "// WITHOUT WARRANTIES OR CONDITIONS OF ANY KIND, either express or implied.\n",
              "// See the License for the specific language governing permissions and\n",
              "// limitations under the License.\n",
              "\n",
              "/**\n",
              " * @fileoverview Helpers for google.colab Python module.\n",
              " */\n",
              "(function(scope) {\n",
              "function span(text, styleAttributes = {}) {\n",
              "  const element = document.createElement('span');\n",
              "  element.textContent = text;\n",
              "  for (const key of Object.keys(styleAttributes)) {\n",
              "    element.style[key] = styleAttributes[key];\n",
              "  }\n",
              "  return element;\n",
              "}\n",
              "\n",
              "// Max number of bytes which will be uploaded at a time.\n",
              "const MAX_PAYLOAD_SIZE = 100 * 1024;\n",
              "\n",
              "function _uploadFiles(inputId, outputId) {\n",
              "  const steps = uploadFilesStep(inputId, outputId);\n",
              "  const outputElement = document.getElementById(outputId);\n",
              "  // Cache steps on the outputElement to make it available for the next call\n",
              "  // to uploadFilesContinue from Python.\n",
              "  outputElement.steps = steps;\n",
              "\n",
              "  return _uploadFilesContinue(outputId);\n",
              "}\n",
              "\n",
              "// This is roughly an async generator (not supported in the browser yet),\n",
              "// where there are multiple asynchronous steps and the Python side is going\n",
              "// to poll for completion of each step.\n",
              "// This uses a Promise to block the python side on completion of each step,\n",
              "// then passes the result of the previous step as the input to the next step.\n",
              "function _uploadFilesContinue(outputId) {\n",
              "  const outputElement = document.getElementById(outputId);\n",
              "  const steps = outputElement.steps;\n",
              "\n",
              "  const next = steps.next(outputElement.lastPromiseValue);\n",
              "  return Promise.resolve(next.value.promise).then((value) => {\n",
              "    // Cache the last promise value to make it available to the next\n",
              "    // step of the generator.\n",
              "    outputElement.lastPromiseValue = value;\n",
              "    return next.value.response;\n",
              "  });\n",
              "}\n",
              "\n",
              "/**\n",
              " * Generator function which is called between each async step of the upload\n",
              " * process.\n",
              " * @param {string} inputId Element ID of the input file picker element.\n",
              " * @param {string} outputId Element ID of the output display.\n",
              " * @return {!Iterable<!Object>} Iterable of next steps.\n",
              " */\n",
              "function* uploadFilesStep(inputId, outputId) {\n",
              "  const inputElement = document.getElementById(inputId);\n",
              "  inputElement.disabled = false;\n",
              "\n",
              "  const outputElement = document.getElementById(outputId);\n",
              "  outputElement.innerHTML = '';\n",
              "\n",
              "  const pickedPromise = new Promise((resolve) => {\n",
              "    inputElement.addEventListener('change', (e) => {\n",
              "      resolve(e.target.files);\n",
              "    });\n",
              "  });\n",
              "\n",
              "  const cancel = document.createElement('button');\n",
              "  inputElement.parentElement.appendChild(cancel);\n",
              "  cancel.textContent = 'Cancel upload';\n",
              "  const cancelPromise = new Promise((resolve) => {\n",
              "    cancel.onclick = () => {\n",
              "      resolve(null);\n",
              "    };\n",
              "  });\n",
              "\n",
              "  // Wait for the user to pick the files.\n",
              "  const files = yield {\n",
              "    promise: Promise.race([pickedPromise, cancelPromise]),\n",
              "    response: {\n",
              "      action: 'starting',\n",
              "    }\n",
              "  };\n",
              "\n",
              "  cancel.remove();\n",
              "\n",
              "  // Disable the input element since further picks are not allowed.\n",
              "  inputElement.disabled = true;\n",
              "\n",
              "  if (!files) {\n",
              "    return {\n",
              "      response: {\n",
              "        action: 'complete',\n",
              "      }\n",
              "    };\n",
              "  }\n",
              "\n",
              "  for (const file of files) {\n",
              "    const li = document.createElement('li');\n",
              "    li.append(span(file.name, {fontWeight: 'bold'}));\n",
              "    li.append(span(\n",
              "        `(${file.type || 'n/a'}) - ${file.size} bytes, ` +\n",
              "        `last modified: ${\n",
              "            file.lastModifiedDate ? file.lastModifiedDate.toLocaleDateString() :\n",
              "                                    'n/a'} - `));\n",
              "    const percent = span('0% done');\n",
              "    li.appendChild(percent);\n",
              "\n",
              "    outputElement.appendChild(li);\n",
              "\n",
              "    const fileDataPromise = new Promise((resolve) => {\n",
              "      const reader = new FileReader();\n",
              "      reader.onload = (e) => {\n",
              "        resolve(e.target.result);\n",
              "      };\n",
              "      reader.readAsArrayBuffer(file);\n",
              "    });\n",
              "    // Wait for the data to be ready.\n",
              "    let fileData = yield {\n",
              "      promise: fileDataPromise,\n",
              "      response: {\n",
              "        action: 'continue',\n",
              "      }\n",
              "    };\n",
              "\n",
              "    // Use a chunked sending to avoid message size limits. See b/62115660.\n",
              "    let position = 0;\n",
              "    do {\n",
              "      const length = Math.min(fileData.byteLength - position, MAX_PAYLOAD_SIZE);\n",
              "      const chunk = new Uint8Array(fileData, position, length);\n",
              "      position += length;\n",
              "\n",
              "      const base64 = btoa(String.fromCharCode.apply(null, chunk));\n",
              "      yield {\n",
              "        response: {\n",
              "          action: 'append',\n",
              "          file: file.name,\n",
              "          data: base64,\n",
              "        },\n",
              "      };\n",
              "\n",
              "      let percentDone = fileData.byteLength === 0 ?\n",
              "          100 :\n",
              "          Math.round((position / fileData.byteLength) * 100);\n",
              "      percent.textContent = `${percentDone}% done`;\n",
              "\n",
              "    } while (position < fileData.byteLength);\n",
              "  }\n",
              "\n",
              "  // All done.\n",
              "  yield {\n",
              "    response: {\n",
              "      action: 'complete',\n",
              "    }\n",
              "  };\n",
              "}\n",
              "\n",
              "scope.google = scope.google || {};\n",
              "scope.google.colab = scope.google.colab || {};\n",
              "scope.google.colab._files = {\n",
              "  _uploadFiles,\n",
              "  _uploadFilesContinue,\n",
              "};\n",
              "})(self);\n",
              "</script> "
            ],
            "text/plain": [
              "<IPython.core.display.HTML object>"
            ]
          },
          "metadata": {},
          "output_type": "display_data"
        },
        {
          "name": "stdout",
          "output_type": "stream",
          "text": [
            "Saving my_memo.txt to my_memo (1).txt\n",
            "업로드된 파일: my_memo (1).txt\n"
          ]
        }
      ],
      "source": [
        "# 컴퓨터에서 파일 업로드\n",
        "from google.colab import files\n",
        "\n",
        "uploaded = files.upload()\n",
        "# 업로드 완료 후 파일명 확인\n",
        "for filename in uploaded.keys():\n",
        "    print(f\"업로드된 파일: {filename}\")"
      ]
    },
    {
      "cell_type": "markdown",
      "id": "71ea354c",
      "metadata": {
        "id": "71ea354c"
      },
      "source": [
        "### 실습: 구글 코랩용 일기장"
      ]
    },
    {
      "cell_type": "code",
      "execution_count": 7,
      "id": "cba7ef3d",
      "metadata": {
        "colab": {
          "base_uri": "https://localhost:8080/",
          "height": 555
        },
        "id": "cba7ef3d",
        "outputId": "baee6110-aedb-4d03-aecc-b3f77a6f454b"
      },
      "outputs": [
        {
          "name": "stdout",
          "output_type": "stream",
          "text": [
            "팁: 작성한 일기는 '백업하기'로 다운로드해서 보관하세요!\n",
            "\n",
            "=== 일기장 ===\n",
            "1. 일기 쓰기\n",
            "2. 일기 읽기\n",
            "3. 일기 백업하기 (다운로드)\n",
            "4. 종료\n",
            "선택하세요 (1-4): 1\n",
            "오늘의 일기를 써주세요: 파이썬을 공부했다\n",
            "일기가 저장되었습니다!\n",
            "\n",
            "=== 일기장 ===\n",
            "1. 일기 쓰기\n",
            "2. 일기 읽기\n",
            "3. 일기 백업하기 (다운로드)\n",
            "4. 종료\n",
            "선택하세요 (1-4): 2\n",
            "=== 내 일기장 ===\n",
            "\n",
            "[2025-10-15] 오늘은 파이썬을 공부했다.\n",
            "\n",
            "[2025-10-15] 파이썬을 공부했다\n",
            "\n",
            "\n",
            "=== 일기장 ===\n",
            "1. 일기 쓰기\n",
            "2. 일기 읽기\n",
            "3. 일기 백업하기 (다운로드)\n",
            "4. 종료\n",
            "선택하세요 (1-4): 3\n",
            "일기를 다운로드합니다...\n"
          ]
        },
        {
          "data": {
            "application/javascript": "\n    async function download(id, filename, size) {\n      if (!google.colab.kernel.accessAllowed) {\n        return;\n      }\n      const div = document.createElement('div');\n      const label = document.createElement('label');\n      label.textContent = `Downloading \"${filename}\": `;\n      div.appendChild(label);\n      const progress = document.createElement('progress');\n      progress.max = size;\n      div.appendChild(progress);\n      document.body.appendChild(div);\n\n      const buffers = [];\n      let downloaded = 0;\n\n      const channel = await google.colab.kernel.comms.open(id);\n      // Send a message to notify the kernel that we're ready.\n      channel.send({})\n\n      for await (const message of channel.messages) {\n        // Send a message to notify the kernel that we're ready.\n        channel.send({})\n        if (message.buffers) {\n          for (const buffer of message.buffers) {\n            buffers.push(buffer);\n            downloaded += buffer.byteLength;\n            progress.value = downloaded;\n          }\n        }\n      }\n      const blob = new Blob(buffers, {type: 'application/binary'});\n      const a = document.createElement('a');\n      a.href = window.URL.createObjectURL(blob);\n      a.download = filename;\n      div.appendChild(a);\n      a.click();\n      div.remove();\n    }\n  ",
            "text/plain": [
              "<IPython.core.display.Javascript object>"
            ]
          },
          "metadata": {},
          "output_type": "display_data"
        },
        {
          "data": {
            "application/javascript": "download(\"download_a0b30201-47d3-4a80-9676-fc7a3045044d\", \"diary.txt\", 91)",
            "text/plain": [
              "<IPython.core.display.Javascript object>"
            ]
          },
          "metadata": {},
          "output_type": "display_data"
        }
      ],
      "source": [
        "from google.colab import files\n",
        "import datetime\n",
        "import os\n",
        "\n",
        "def write_diary():\n",
        "    \"\"\"일기 쓰기\"\"\"\n",
        "    diary_entry = input(\"오늘의 일기를 써주세요: \")\n",
        "\n",
        "    with open(\"diary.txt\", \"a\") as file:\n",
        "        today = datetime.date.today()\n",
        "        file.write(f\"\\n[{today}] {diary_entry}\\n\")\n",
        "\n",
        "    print(\"일기가 저장되었습니다!\")\n",
        "\n",
        "def read_diary():\n",
        "    \"\"\"일기 읽기\"\"\"\n",
        "    try:\n",
        "        with open(\"diary.txt\", \"r\") as file:\n",
        "            diary_content = file.read()\n",
        "            if diary_content.strip():\n",
        "                print(\"=== 내 일기장 ===\")\n",
        "                print(diary_content)\n",
        "            else:\n",
        "                print(\"아직 작성된 일기가 없습니다.\")\n",
        "    except FileNotFoundError:\n",
        "        print(\"일기 파일이 없습니다. 먼저 일기를 써주세요!\")\n",
        "\n",
        "def backup_diary():\n",
        "    \"\"\"일기 백업 (다운로드)\"\"\"\n",
        "    if os.path.exists(\"diary.txt\"):\n",
        "        print(\"일기를 다운로드합니다...\")\n",
        "        files.download(\"diary.txt\")\n",
        "    else:\n",
        "        print(\"다운로드할 일기 파일이 없습니다.\")\n",
        "\n",
        "def diary_app():\n",
        "    \"\"\"구글 코랩용 일기장 프로그램\"\"\"\n",
        "    print(\"팁: 작성한 일기는 '백업하기'로 다운로드해서 보관하세요!\")\n",
        "\n",
        "    while True:\n",
        "        print(\"\\n=== 일기장 ===\")\n",
        "        print(\"1. 일기 쓰기\")\n",
        "        print(\"2. 일기 읽기\")\n",
        "        print(\"3. 일기 백업하기 (다운로드)\")\n",
        "        print(\"4. 종료\")\n",
        "\n",
        "        choice = input(\"선택하세요 (1-4): \")\n",
        "\n",
        "        if choice == \"1\":\n",
        "            write_diary()\n",
        "        elif choice == \"2\":\n",
        "            read_diary()\n",
        "        elif choice == \"3\":\n",
        "            backup_diary()\n",
        "            break\n",
        "        elif choice == \"4\":\n",
        "            print(\"일기장을 종료합니다.\")\n",
        "            break\n",
        "        else:\n",
        "            print(\"잘못된 선택입니다.\")\n",
        "\n",
        "# 실행해보기\n",
        "diary_app()"
      ]
    },
    {
      "cell_type": "markdown",
      "id": "ceeef691",
      "metadata": {
        "id": "ceeef691"
      },
      "source": [
        "### 구글 드라이브 연동\n",
        "\n",
        "구글 드라이브에 연결하면 파일이 영구적으로 보관됩니다:"
      ]
    },
    {
      "cell_type": "code",
      "execution_count": 8,
      "id": "45d969cc",
      "metadata": {
        "colab": {
          "base_uri": "https://localhost:8080/"
        },
        "id": "45d969cc",
        "outputId": "11e99cc3-8ca3-407e-ee00-3dff057a6e44"
      },
      "outputs": [
        {
          "name": "stdout",
          "output_type": "stream",
          "text": [
            "Mounted at /content/drive\n",
            "구글 드라이브에 파일이 저장되었습니다!\n"
          ]
        }
      ],
      "source": [
        "# 구글 드라이브 마운트\n",
        "from google.colab import drive\n",
        "drive.mount('/content/drive')\n",
        "\n",
        "# 이제 /content/drive/MyDrive/ 경로에 파일을 저장하면\n",
        "# 구글 드라이브에 영구 보관됩니다!\n",
        "\n",
        "# 드라이브에 파일 저장 예시\n",
        "with open(\"/content/drive/MyDrive/my_permanent_memo.txt\", \"w\") as file:\n",
        "    file.write(\"이 파일은 구글 드라이브에 저장되어 영구 보관됩니다!\")\n",
        "\n",
        "print(\"구글 드라이브에 파일이 저장되었습니다!\")"
      ]
    },
    {
      "cell_type": "markdown",
      "id": "2761bc3d",
      "metadata": {
        "id": "2761bc3d"
      },
      "source": [
        "### 클래스 (Class)\n",
        "\n",
        "#### 클래스가 왜 필요한가?\n",
        "지금까지는 함수와 변수가 따로 놀았습니다:"
      ]
    },
    {
      "cell_type": "code",
      "execution_count": 9,
      "id": "103331cc",
      "metadata": {
        "id": "103331cc"
      },
      "outputs": [],
      "source": [
        "# 학생 정보를 관리하는 기존 방식\n",
        "student_name = \"김철수\"\n",
        "student_age = 20\n",
        "student_grades = [85, 90, 78]\n",
        "\n",
        "def show_student_info():\n",
        "    print(f\"이름: {student_name}\")\n",
        "    print(f\"나이: {student_age}\")\n",
        "    print(f\"성적: {student_grades}\")\n",
        "\n",
        "def add_grade(grade):\n",
        "    student_grades.append(grade)\n",
        "\n",
        "# 학생이 여러 명이면 변수가 너무 많아진다!"
      ]
    },
    {
      "cell_type": "markdown",
      "id": "23847369",
      "metadata": {
        "id": "23847369",
        "lines_to_next_cell": 0
      },
      "source": [
        "클래스를 사용하면 관련된 데이터와 함수를 하나로 묶을 수 있습니다!\n",
        "\n",
        "#### 기본 클래스 만들기"
      ]
    },
    {
      "cell_type": "code",
      "execution_count": 10,
      "id": "03738015",
      "metadata": {
        "colab": {
          "base_uri": "https://localhost:8080/"
        },
        "id": "03738015",
        "outputId": "8476cba0-537c-4464-a5d9-ef3372e685c2"
      },
      "outputs": [
        {
          "name": "stdout",
          "output_type": "stream",
          "text": [
            "김철수님의 성적 85점이 추가되었습니다.\n",
            "김철수님의 성적 90점이 추가되었습니다.\n",
            "박영희님의 성적 92점이 추가되었습니다.\n",
            "박영희님의 성적 88점이 추가되었습니다.\n",
            "이름: 김철수\n",
            "나이: 20\n",
            "성적: [85, 90]\n",
            "평균: 87.5점\n",
            "이름: 박영희\n",
            "나이: 19\n",
            "성적: [92, 88]\n",
            "평균: 90.0점\n"
          ]
        }
      ],
      "source": [
        "class Student:\n",
        "    \"\"\"학생 정보를 관리하는 클래스\"\"\"\n",
        "\n",
        "    def __init__(self, name, age):\n",
        "        \"\"\"학생 객체를 만들 때 실행되는 함수\"\"\"\n",
        "        self.name = name\n",
        "        self.age = age\n",
        "        self.grades = []\n",
        "\n",
        "    def show_info(self):\n",
        "        \"\"\"학생 정보를 보여주는 함수\"\"\"\n",
        "        print(f\"이름: {self.name}\")\n",
        "        print(f\"나이: {self.age}\")\n",
        "        print(f\"성적: {self.grades}\")\n",
        "\n",
        "    def add_grade(self, grade):\n",
        "        \"\"\"성적을 추가하는 함수\"\"\"\n",
        "        self.grades.append(grade)\n",
        "        print(f\"{self.name}님의 성적 {grade}점이 추가되었습니다.\")\n",
        "\n",
        "    def get_average(self):\n",
        "        \"\"\"평균 성적을 계산하는 함수\"\"\"\n",
        "        if not self.grades:\n",
        "            return 0\n",
        "        return sum(self.grades) / len(self.grades)\n",
        "\n",
        "# 클래스 사용하기\n",
        "student1 = Student(\"김철수\", 20)\n",
        "student2 = Student(\"박영희\", 19)\n",
        "\n",
        "# 각 학생의 성적 추가\n",
        "student1.add_grade(85)\n",
        "student1.add_grade(90)\n",
        "student2.add_grade(92)\n",
        "student2.add_grade(88)\n",
        "\n",
        "# 정보 확인\n",
        "student1.show_info()\n",
        "print(f\"평균: {student1.get_average():.1f}점\")\n",
        "\n",
        "student2.show_info()\n",
        "print(f\"평균: {student2.get_average():.1f}점\")"
      ]
    },
    {
      "cell_type": "markdown",
      "id": "632a9fcc",
      "metadata": {
        "id": "632a9fcc"
      },
      "source": [
        "#### 가계부 클래스"
      ]
    },
    {
      "cell_type": "code",
      "execution_count": 18,
      "id": "47aa61b5",
      "metadata": {
        "colab": {
          "base_uri": "https://localhost:8080/",
          "height": 850
        },
        "id": "47aa61b5",
        "outputId": "f8ba511f-7151-4c02-c1e3-9b563ba92f45"
      },
      "outputs": [
        {
          "name": "stdout",
          "output_type": "stream",
          "text": [
            "기존 가계부 데이터를 불러왔습니다: household_book.txt\n",
            "=== 가계부 관리 프로그램 ===\n",
            "* 주기적으로 '백업하기'를 눌러서 가계부를 다운로드하세요!\n",
            "\n",
            "==============================\n",
            "메뉴를 선택하세요:\n",
            "1. 수입 추가\n",
            "2. 지출 추가\n",
            "3. 수입/지출 요약 보기\n",
            "4. 현재 잔액 보기\n",
            "5. 백업하기\n",
            "6. 종료\n",
            "==============================\n",
            "선택 (1-6): 3\n",
            "=== 가계부 요약 ===\n",
            "[2025-10-15] 수입: +300원 (잔돈)\n",
            "[2025-10-15] 지출: -150원 (껌)\n",
            "\n",
            "\n",
            "==============================\n",
            "메뉴를 선택하세요:\n",
            "1. 수입 추가\n",
            "2. 지출 추가\n",
            "3. 수입/지출 요약 보기\n",
            "4. 현재 잔액 보기\n",
            "5. 백업하기\n",
            "6. 종료\n",
            "==============================\n",
            "선택 (1-6): 4\n",
            "=== 잔액 현황 ===\n",
            "\n",
            "총 수입: +300원\n",
            "\n",
            "총 지출: -150원\n",
            "\n",
            "현재 잔액: 150원\n",
            "\n",
            "==============================\n",
            "메뉴를 선택하세요:\n",
            "1. 수입 추가\n",
            "2. 지출 추가\n",
            "3. 수입/지출 요약 보기\n",
            "4. 현재 잔액 보기\n",
            "5. 백업하기\n",
            "6. 종료\n",
            "==============================\n",
            "선택 (1-6): 5\n",
            "가계부를 다운로드합니다...\n"
          ]
        },
        {
          "data": {
            "application/javascript": "\n    async function download(id, filename, size) {\n      if (!google.colab.kernel.accessAllowed) {\n        return;\n      }\n      const div = document.createElement('div');\n      const label = document.createElement('label');\n      label.textContent = `Downloading \"${filename}\": `;\n      div.appendChild(label);\n      const progress = document.createElement('progress');\n      progress.max = size;\n      div.appendChild(progress);\n      document.body.appendChild(div);\n\n      const buffers = [];\n      let downloaded = 0;\n\n      const channel = await google.colab.kernel.comms.open(id);\n      // Send a message to notify the kernel that we're ready.\n      channel.send({})\n\n      for await (const message of channel.messages) {\n        // Send a message to notify the kernel that we're ready.\n        channel.send({})\n        if (message.buffers) {\n          for (const buffer of message.buffers) {\n            buffers.push(buffer);\n            downloaded += buffer.byteLength;\n            progress.value = downloaded;\n          }\n        }\n      }\n      const blob = new Blob(buffers, {type: 'application/binary'});\n      const a = document.createElement('a');\n      a.href = window.URL.createObjectURL(blob);\n      a.download = filename;\n      div.appendChild(a);\n      a.click();\n      div.remove();\n    }\n  ",
            "text/plain": [
              "<IPython.core.display.Javascript object>"
            ]
          },
          "metadata": {},
          "output_type": "display_data"
        },
        {
          "data": {
            "application/javascript": "download(\"download_209dc4be-8a2d-4186-a805-05908bc32d65\", \"household_book.txt\", 73)",
            "text/plain": [
              "<IPython.core.display.Javascript object>"
            ]
          },
          "metadata": {},
          "output_type": "display_data"
        }
      ],
      "source": [
        "from google.colab import files\n",
        "import datetime\n",
        "import os\n",
        "\n",
        "class HouseholdBook:\n",
        "    \"\"\"가계부 클래스\"\"\"\n",
        "\n",
        "    def __init__(self, filename=\"household_book.txt\"):\n",
        "        \"\"\"가계부 초기화\"\"\"\n",
        "        self.filename = filename\n",
        "        self.load_data()\n",
        "\n",
        "    def load_data(self):\n",
        "        \"\"\"파일에서 데이터 불러오기\"\"\"\n",
        "        if os.path.exists(self.filename):\n",
        "            with open(self.filename, \"r\") as file:\n",
        "                print(f\"기존 가계부 데이터를 불러왔습니다: {self.filename}\")\n",
        "        else:\n",
        "            print(\"새로운 가계부를 시작합니다.\")\n",
        "\n",
        "    def add_income(self, amount, description):\n",
        "        \"\"\"수입을 추가하는 함수\"\"\"\n",
        "        if amount <= 0:\n",
        "            return \"금액은 0보다 커야 합니다.\"\n",
        "\n",
        "        with open(self.filename, \"a\") as file:\n",
        "            today = datetime.date.today()\n",
        "            file.write(f\"[{today}] 수입: +{amount:,}원 ({description})\\n\")\n",
        "        print(f\"수입이 기록되었습니다: {description} +{amount:,}원\")\n",
        "\n",
        "    def add_expense(self, amount, description):\n",
        "        \"\"\"지출을 추가하는 함수\"\"\"\n",
        "        if amount <= 0:\n",
        "            return \"금액은 0보다 커야 합니다.\"\n",
        "\n",
        "        with open(self.filename, \"a\") as file:\n",
        "            today = datetime.date.today()\n",
        "            file.write(f\"[{today}] 지출: -{amount:,.0f}원 ({description})\\n\")\n",
        "        print(f\"지출이 기록되었습니다: {description} -{amount:,.0f}원\")\n",
        "\n",
        "    def show_summary(self):\n",
        "        \"\"\"수입/지출 요약을 보여주는 함수\"\"\"\n",
        "        if os.path.exists(self.filename):\n",
        "            with open(self.filename, \"r\") as file:\n",
        "                records = file.read()\n",
        "                if records.strip():\n",
        "                    print(\"=== 가계부 요약 ===\")\n",
        "                    print(records)\n",
        "                else:\n",
        "                    print(\"아직 기록된 내역이 없습니다.\")\n",
        "        else:\n",
        "            print(\"가계부 파일이 없습니다.\")\n",
        "\n",
        "    def show_balance(self):\n",
        "        \"\"\"현재 잔액을 보여주는 함수\"\"\"\n",
        "        total_income = 0\n",
        "        total_expense = 0\n",
        "\n",
        "        if os.path.exists(self.filename):\n",
        "            with open(self.filename, \"r\") as file:\n",
        "                for line in file:\n",
        "                    if \"수입: +\" in line:\n",
        "                        amount_str = line.split(\"수입: +\")[1].split(\"원\")[0].replace(\",\", \"\")\n",
        "                        total_income += int(amount_str)\n",
        "                    elif \"지출: -\" in line:\n",
        "                        amount_str = line.split(\"지출: -\")[1].split(\"원\")[0].replace(\",\", \"\")\n",
        "                        total_expense += int(amount_str)\n",
        "        else:\n",
        "            print('가계부 파일이 없습니다.')\n",
        "\n",
        "        balance = total_income - total_expense\n",
        "\n",
        "        print(\"=== 잔액 현황 ===\")\n",
        "        print(f\"총 수입: +{total_income:,.0f}원\")\n",
        "        print(f\"총 지출: -{total_expense:,.0f}원\")\n",
        "        print(f\"현재 잔액: {balance:,.0f}원\")\n",
        "\n",
        "        return balance\n",
        "\n",
        "    def backup(self):\n",
        "        \"\"\"가계부 백업 (다운로드)\"\"\"\n",
        "        if os.path.exists(self.filename):\n",
        "            print(\"가계부를 다운로드합니다...\")\n",
        "            files.download(self.filename)\n",
        "        else:\n",
        "            print(\"다운로드할 가계부 파일이 없습니다.\")\n",
        "\n",
        "def household_book_manager():\n",
        "    \"\"\"가계부 관리 메인 함수\"\"\"\n",
        "    book = HouseholdBook()\n",
        "\n",
        "    print(\"=== 가계부 관리 프로그램 ===\")\n",
        "    print(\"* 주기적으로 '백업하기'를 눌러서 가계부를 다운로드하세요!\")\n",
        "\n",
        "    while True:\n",
        "        print(\"\\n\" + \"=\"*30)\n",
        "        print(\"메뉴를 선택하세요:\")\n",
        "        print(\"1. 수입 추가\")\n",
        "        print(\"2. 지출 추가\")\n",
        "        print(\"3. 수입/지출 요약 보기\")\n",
        "        print(\"4. 현재 잔액 보기\")\n",
        "        print(\"5. 백업하기\")\n",
        "        print(\"6. 종료\")\n",
        "        print(\"=\"*30)\n",
        "\n",
        "        choice = input(\"선택 (1-6): \").strip()\n",
        "\n",
        "        if choice == '6':\n",
        "            print(\"가계부 프로그램을 종료합니다.\")\n",
        "            break\n",
        "        elif choice == '1':\n",
        "            amount = int(input(\"수입 금액을 입력하세요: \"))\n",
        "            description = input(\"수입 내역을 입력하세요: \").strip()\n",
        "            book.add_income(amount, description)\n",
        "        elif choice == \"2\":\n",
        "            amount = int(input(\"지출 금액을 입력하세요: \"))\n",
        "            description = input(\"지출 내역을 입력하세요: \").strip()\n",
        "            book.add_expense(amount, description)\n",
        "        elif choice == \"3\":\n",
        "            book.show_summary()\n",
        "        elif choice == \"4\":\n",
        "            book.show_balance()\n",
        "        elif choice == \"5\":\n",
        "            book.backup()\n",
        "            break\n",
        "        else:\n",
        "            print(\"올바른 메뉴를 선택해주세요.\")\n",
        "\n",
        "# 가계부 앱 실행\n",
        "household_book_manager()"
      ]
    },
    {
      "cell_type": "markdown",
      "id": "ef0041f7",
      "metadata": {
        "id": "ef0041f7",
        "lines_to_next_cell": 0
      },
      "source": [
        "### 클래스로 가계부를 만든 이유\n",
        "\n",
        "#### 기존 함수 방식의 문제점"
      ]
    },
    {
      "cell_type": "code",
      "execution_count": 16,
      "id": "b128d400",
      "metadata": {
        "id": "b128d400"
      },
      "outputs": [],
      "source": [
        "# 기존 방식 - 함수들이 따로 놀고 있음\n",
        "income_list = []  # 전역 변수\n",
        "expense_list = []  # 전역 변수\n",
        "filename = \"household_book.txt\"  # 전역 변수\n",
        "\n",
        "def add_income(amount, description):\n",
        "    # 전역 변수를 사용해야 함\n",
        "    global income_list, filename\n",
        "    # ... 코드\n",
        "\n",
        "def add_expense(amount, description):\n",
        "    # 또 다시 전역 변수 사용\n",
        "    global expense_list, filename\n",
        "    # ... 코드\n",
        "\n",
        "def show_balance():\n",
        "    # 또 다시 전역 변수 사용\n",
        "    global income_list, expense_list\n",
        "    # ... 코드"
      ]
    },
    {
      "cell_type": "markdown",
      "id": "549fbb6c",
      "metadata": {
        "id": "549fbb6c"
      },
      "source": [
        "**문제점:**\n",
        "- 전역 변수가 많아져서 관리하기 어려움\n",
        "- 함수들이 서로 연관되어 있는데 따로 떨어져 있음\n",
        "- 가계부가 여러 개 필요하면 변수명이 복잡해짐\n",
        "\n",
        "#### 클래스 방식의 장점"
      ]
    },
    {
      "cell_type": "code",
      "execution_count": 17,
      "id": "b4350fb3",
      "metadata": {
        "id": "b4350fb3"
      },
      "outputs": [],
      "source": [
        "class HouseholdBook2:\n",
        "    def __init__(self, filename=\"household_book.txt\"):\n",
        "        self.filename = filename  # 각 객체가 자신만의 파일명을 가짐\n",
        "        self.load_data()\n",
        "\n",
        "    def add_income(self, amount, description):\n",
        "        # self.filename 사용 - 자신의 데이터에만 접근\n",
        "        pass\n",
        "\n",
        "    def add_expense(self, amount, description):\n",
        "        # self.filename 사용 - 안전하게 관리\n",
        "        pass"
      ]
    },
    {
      "cell_type": "markdown",
      "id": "f40087c9",
      "metadata": {
        "id": "f40087c9",
        "lines_to_next_cell": 0
      },
      "source": [
        "**장점 1: 데이터와 기능이 하나로 묶임**"
      ]
    },
    {
      "cell_type": "code",
      "execution_count": 19,
      "id": "2d6995ae",
      "metadata": {
        "colab": {
          "base_uri": "https://localhost:8080/"
        },
        "id": "2d6995ae",
        "outputId": "e60d2dac-6de9-43dc-e79c-ba8aca04adb4"
      },
      "outputs": [
        {
          "name": "stdout",
          "output_type": "stream",
          "text": [
            "새로운 가계부를 시작합니다.\n",
            "수입이 기록되었습니다: 용돈 +50,000원\n",
            "지출이 기록되었습니다: 점심값 -15,000원\n",
            "=== 잔액 현황 ===\n",
            "\n",
            "총 수입: +50,000원\n",
            "\n",
            "총 지출: -15,000원\n",
            "\n",
            "현재 잔액: 35,000원\n"
          ]
        },
        {
          "data": {
            "text/plain": [
              "35000"
            ]
          },
          "execution_count": 19,
          "metadata": {},
          "output_type": "execute_result"
        }
      ],
      "source": [
        "# 가계부 객체 하나에 모든 기능이 들어있음\n",
        "my_book = HouseholdBook(\"my_money.txt\")\n",
        "my_book.add_income(50000, \"용돈\")\n",
        "my_book.add_expense(15000, \"점심값\")\n",
        "my_book.show_balance()"
      ]
    },
    {
      "cell_type": "markdown",
      "id": "21819d11",
      "metadata": {
        "id": "21819d11",
        "lines_to_next_cell": 0
      },
      "source": [
        "**장점 2: 여러 개의 가계부를 쉽게 관리**"
      ]
    },
    {
      "cell_type": "code",
      "execution_count": 20,
      "id": "68f51190",
      "metadata": {
        "colab": {
          "base_uri": "https://localhost:8080/"
        },
        "id": "68f51190",
        "outputId": "080842d7-61b8-4c2c-988e-9b1f8d31ba85"
      },
      "outputs": [
        {
          "name": "stdout",
          "output_type": "stream",
          "text": [
            "새로운 가계부를 시작합니다.\n",
            "수입이 기록되었습니다: 알바비 +100,000원\n",
            "새로운 가계부를 시작합니다.\n",
            "수입이 기록되었습니다: 회비 +50,000원\n"
          ]
        }
      ],
      "source": [
        "# 개인 가계부\n",
        "personal_book = HouseholdBook(\"personal.txt\")\n",
        "personal_book.add_income(100000, \"알바비\")\n",
        "\n",
        "# 동아리 가계부\n",
        "club_book = HouseholdBook(\"club.txt\")\n",
        "club_book.add_income(50000, \"회비\")\n",
        "\n",
        "# 각각 독립적으로 관리됨!"
      ]
    },
    {
      "cell_type": "markdown",
      "id": "17c149d8",
      "metadata": {
        "id": "17c149d8",
        "lines_to_next_cell": 0
      },
      "source": [
        "**장점 3: 코드 재사용이 쉬움**"
      ]
    },
    {
      "cell_type": "code",
      "execution_count": 21,
      "id": "3c0a999d",
      "metadata": {
        "colab": {
          "base_uri": "https://localhost:8080/"
        },
        "id": "3c0a999d",
        "outputId": "e6aaf43c-7410-4244-f013-2aa55cea4513"
      },
      "outputs": [
        {
          "name": "stdout",
          "output_type": "stream",
          "text": [
            "새로운 가계부를 시작합니다.\n",
            "새로운 가계부를 시작합니다.\n",
            "새로운 가계부를 시작합니다.\n"
          ]
        }
      ],
      "source": [
        "# 새로운 가계부를 만들 때마다 클래스만 생성하면 됨\n",
        "family_book = HouseholdBook(\"family.txt\")\n",
        "travel_book = HouseholdBook(\"travel.txt\")\n",
        "study_book = HouseholdBook(\"study.txt\")\n",
        "\n",
        "# 모든 가계부가 같은 기능을 사용할 수 있음"
      ]
    },
    {
      "cell_type": "markdown",
      "id": "910fb4d7",
      "metadata": {
        "id": "910fb4d7",
        "lines_to_next_cell": 0
      },
      "source": [
        "**장점 4: 유지보수가 쉬움**"
      ]
    },
    {
      "cell_type": "code",
      "execution_count": 24,
      "id": "61120f5e",
      "metadata": {
        "id": "61120f5e"
      },
      "outputs": [],
      "source": [
        "class HouseholdBook3:\n",
        "    # 새로운 기능을 추가하면 모든 가계부 객체가 사용 가능\n",
        "    def get_monthly_summary(self, month):\n",
        "        # 새로운 기능 추가\n",
        "        pass\n",
        "\n",
        "    def export_to_excel(self):\n",
        "        # 또 다른 새로운 기능\n",
        "        pass"
      ]
    },
    {
      "cell_type": "markdown",
      "id": "8368aef9",
      "metadata": {
        "id": "8368aef9",
        "lines_to_next_cell": 0
      },
      "source": [
        "#### 클래스의 핵심 개념 정리\n",
        "\n",
        "**1. `__init__` 메소드 (생성자)**"
      ]
    },
    {
      "cell_type": "code",
      "execution_count": null,
      "id": "ab0fe8de",
      "metadata": {
        "id": "ab0fe8de",
        "lines_to_next_cell": 0
      },
      "outputs": [],
      "source": [
        "def __init__(self, filename=\"household_book.txt\"):\n",
        "    self.filename = filename  # 객체의 속성 설정\n",
        "    self.load_data()         # 초기화 작업"
      ]
    },
    {
      "cell_type": "markdown",
      "id": "6403fcfe",
      "metadata": {
        "id": "6403fcfe",
        "lines_to_next_cell": 0
      },
      "source": [
        "- 객체가 만들어질 때 자동으로 실행\n",
        "- 객체의 초기 상태를 설정\n",
        "\n",
        "**2. `self` 키워드**"
      ]
    },
    {
      "cell_type": "code",
      "execution_count": null,
      "id": "26137413",
      "metadata": {
        "id": "26137413",
        "lines_to_next_cell": 0
      },
      "outputs": [],
      "source": [
        "def add_income(self, amount, description):\n",
        "    with open(self.filename, \"a\") as file:  # self.filename 사용\n",
        "        # self는 \"이 객체 자신\"을 의미\n",
        "        pass"
      ]
    },
    {
      "cell_type": "markdown",
      "id": "b161d011",
      "metadata": {
        "id": "b161d011",
        "lines_to_next_cell": 0
      },
      "source": [
        "- 객체 자신을 가리키는 키워드\n",
        "- 객체의 데이터에 접근할 때 사용\n",
        "- 클래스 안의 함수인 메소드는 항상 첫번째 인자를 self로 받는다\n",
        "\n",
        "**3. 메소드 (객체의 함수)**"
      ]
    },
    {
      "cell_type": "code",
      "execution_count": null,
      "id": "24841ddb",
      "metadata": {
        "id": "24841ddb"
      },
      "outputs": [],
      "source": [
        "# 클래스 안의 함수들을 메소드라고 부름\n",
        "class HouseholdBook:\n",
        "    def add_income(self):     # 메소드\n",
        "        pass\n",
        "\n",
        "    def add_expense(self):    # 메소드\n",
        "        pass\n",
        "\n",
        "    def show_balance(self):   # 메소드\n",
        "        pass"
      ]
    },
    {
      "cell_type": "markdown",
      "id": "4dc2bf16",
      "metadata": {
        "id": "4dc2bf16",
        "lines_to_next_cell": 0
      },
      "source": [
        "#### 실제 사용 비교\n",
        "\n",
        "**함수 방식:**"
      ]
    },
    {
      "cell_type": "code",
      "execution_count": null,
      "id": "3775c144",
      "metadata": {
        "id": "3775c144"
      },
      "outputs": [],
      "source": [
        "# 매번 파일명을 전달해야 함\n",
        "add_income(\"my_book.txt\", 50000, \"용돈\")\n",
        "add_expense(\"my_book.txt\", 15000, \"점심값\")\n",
        "show_balance(\"my_book.txt\")"
      ]
    },
    {
      "cell_type": "markdown",
      "id": "05cd30d7",
      "metadata": {
        "id": "05cd30d7",
        "lines_to_next_cell": 0
      },
      "source": [
        "**클래스 방식:**"
      ]
    },
    {
      "cell_type": "code",
      "execution_count": null,
      "id": "375a5c0b",
      "metadata": {
        "id": "375a5c0b"
      },
      "outputs": [],
      "source": [
        "# 한 번 객체를 만들면 계속 사용\n",
        "my_book = HouseholdBook(\"my_book.txt\")\n",
        "my_book.add_income(50000, \"용돈\")\n",
        "my_book.add_expense(15000, \"점심값\")\n",
        "my_book.show_balance()"
      ]
    },
    {
      "cell_type": "markdown",
      "id": "c7361ed4",
      "metadata": {
        "id": "c7361ed4"
      },
      "source": [
        "클래스를 사용하면 **관련된 데이터와 기능을 하나로 묶어서** 더 체계적이고 안전하게 프로그램을 만들 수 있습니다!\n",
        "\n",
        "### 클래스 상속 (Inheritance)\n",
        "\n",
        "클래스는 다른 클래스의 기능을 물려받을 수 있습니다. 마치 부모가 자식에게 특징을 물려주는 것과 같습니다!\n",
        "\n",
        "#### 상속이 왜 필요한가?"
      ]
    },
    {
      "cell_type": "code",
      "execution_count": 25,
      "id": "7dde1847",
      "metadata": {
        "id": "7dde1847"
      },
      "outputs": [],
      "source": [
        "# 상속 없이 만들면 중복 코드가 많아짐\n",
        "class Dog:\n",
        "    def __init__(self, name):\n",
        "        self.name = name\n",
        "\n",
        "    def eat(self):\n",
        "        print(f\"{self.name}가 밥을 먹습니다.\")\n",
        "\n",
        "    def sleep(self):\n",
        "        print(f\"{self.name}가 잠을 잡니다.\")\n",
        "\n",
        "    def bark(self):\n",
        "        print(f\"{self.name}가 멍멍 짖습니다.\")\n",
        "\n",
        "class Cat:\n",
        "    def __init__(self, name):\n",
        "        self.name = name\n",
        "\n",
        "    def eat(self):  # Dog과 똑같은 코드\n",
        "        print(f\"{self.name}가 밥을 먹습니다.\")\n",
        "\n",
        "    def sleep(self):  # Dog과 똑같은 코드\n",
        "        print(f\"{self.name}가 잠을 잡니다.\")\n",
        "\n",
        "    def meow(self):\n",
        "        print(f\"{self.name}가 야옹 웁니다.\")"
      ]
    },
    {
      "cell_type": "markdown",
      "id": "52d4d59a",
      "metadata": {
        "id": "52d4d59a"
      },
      "source": [
        "#### 상속을 사용하면 중복을 줄일 수 있음"
      ]
    },
    {
      "cell_type": "code",
      "execution_count": 27,
      "id": "821fcc59",
      "metadata": {
        "colab": {
          "base_uri": "https://localhost:8080/"
        },
        "id": "821fcc59",
        "outputId": "4d81d747-bd33-4063-d3d3-2a25fc362524"
      },
      "outputs": [
        {
          "name": "stdout",
          "output_type": "stream",
          "text": [
            "강아지가 밥을 먹습니다.\n",
            "강아지가 잠을 잡니다.\n",
            "강아지가 멍멍 짖습니다.\n",
            "고양이가 밥을 먹습니다.\n",
            "고양이가 잠을 잡니다.\n",
            "고양이가 야옹 웁니다.\n"
          ]
        }
      ],
      "source": [
        "# 부모 클래스 (기본 동물)\n",
        "class Animal:\n",
        "    def __init__(self, name):\n",
        "        self.name = name\n",
        "\n",
        "    def eat(self):\n",
        "        print(f\"{self.name}가 밥을 먹습니다.\")\n",
        "\n",
        "    def sleep(self):\n",
        "        print(f\"{self.name}가 잠을 잡니다.\")\n",
        "\n",
        "# 자식 클래스 (Animal을 상속받음)\n",
        "class Dog(Animal):  # Animal의 기능을 모두 물려받음\n",
        "    def bark(self):\n",
        "        print(f\"{self.name}가 멍멍 짖습니다.\")\n",
        "\n",
        "class Cat(Animal):  # Animal의 기능을 모두 물려받음\n",
        "    def meow(self):\n",
        "        print(f\"{self.name}가 야옹 웁니다.\")\n",
        "\n",
        "# 사용하기\n",
        "dog = Dog(\"강아지\")\n",
        "cat = Cat(\"고양이\")\n",
        "\n",
        "# 부모 클래스의 기능 사용 가능\n",
        "dog.eat()    # Animal에서 물려받은 기능\n",
        "dog.sleep()  # Animal에서 물려받은 기능\n",
        "dog.bark()   # Dog만의 고유 기능\n",
        "\n",
        "cat.eat()    # Animal에서 물려받은 기능\n",
        "cat.sleep()  # Animal에서 물려받은 기능\n",
        "cat.meow()   # Cat만의 고유 기능"
      ]
    },
    {
      "cell_type": "markdown",
      "id": "b04cf92f",
      "metadata": {
        "id": "b04cf92f"
      },
      "source": [
        "#### 가계부에서 상속 활용하기"
      ]
    },
    {
      "cell_type": "code",
      "execution_count": 28,
      "id": "10699f51",
      "metadata": {
        "colab": {
          "base_uri": "https://localhost:8080/"
        },
        "id": "10699f51",
        "outputId": "c4d534b3-1051-4a1d-c5b2-c0a633c5ab47"
      },
      "outputs": [
        {
          "name": "stdout",
          "output_type": "stream",
          "text": [
            "[2025-10-15] 수입: +100,000원 (알바비)\n",
            "[2025-10-15] 수입: 50,000원 (용돈)\n",
            "\n",
            "[2025-10-15] 수입: +50,000원 (회비)\n",
            "[2025-10-15] 수입: 10,000원 (김철수 회비)\n",
            "\n"
          ]
        }
      ],
      "source": [
        "# 기본 가계부 클래스\n",
        "class BasicHouseholdBook:\n",
        "    def __init__(self, filename):\n",
        "        self.filename = filename\n",
        "\n",
        "    def add_record(self, amount, description, record_type):\n",
        "        with open(self.filename, \"a\") as file:\n",
        "            import datetime\n",
        "            today = datetime.date.today()\n",
        "            file.write(f\"[{today}] {record_type}: {amount:,}원 ({description})\\n\")\n",
        "\n",
        "    def show_records(self):\n",
        "        if os.path.exists(self.filename):\n",
        "            with open(self.filename, \"r\") as file:\n",
        "                print(file.read())\n",
        "\n",
        "# 개인 가계부 (BasicHouseholdBook 상속)\n",
        "class PersonalHouseholdBook(BasicHouseholdBook):\n",
        "    def add_allowance(self, amount):\n",
        "        self.add_record(amount, \"용돈\", \"수입\")\n",
        "\n",
        "    def add_snack_expense(self, amount, snack_name):\n",
        "        self.add_record(amount, f\"간식-{snack_name}\", \"지출\")\n",
        "\n",
        "# 동아리 가계부 (BasicHouseholdBook 상속)\n",
        "class ClubHouseholdBook(BasicHouseholdBook):\n",
        "    def add_membership_fee(self, amount, member_name):\n",
        "        self.add_record(amount, f\"{member_name} 회비\", \"수입\")\n",
        "\n",
        "    def add_event_expense(self, amount, event_name):\n",
        "        self.add_record(amount, f\"{event_name} 행사비\", \"지출\")\n",
        "\n",
        "# 사용하기\n",
        "my_book = PersonalHouseholdBook(\"personal.txt\")\n",
        "my_book.add_allowance(50000)  # PersonalHouseholdBook만의 기능\n",
        "my_book.show_records()        # 부모 클래스에서 물려받은 기능\n",
        "\n",
        "club_book = ClubHouseholdBook(\"club.txt\")\n",
        "club_book.add_membership_fee(10000, \"김철수\")  # ClubHouseholdBook만의 기능\n",
        "club_book.show_records()                       # 부모 클래스에서 물려받은 기능"
      ]
    },
    {
      "cell_type": "markdown",
      "id": "50bee743",
      "metadata": {
        "id": "50bee743"
      },
      "source": [
        "#### 상속의 장점\n",
        "\n",
        "**1. 코드 재사용**\n",
        "- 공통 기능을 부모 클래스에 한 번만 작성\n",
        "- 자식 클래스들이 모두 사용 가능\n",
        "\n",
        "**2. 유지보수 편리**\n",
        "- 공통 기능을 수정할 때 부모 클래스만 수정하면 됨\n",
        "- 모든 자식 클래스에 자동으로 적용\n",
        "\n",
        "**3. 확장 가능**\n",
        "- 기본 기능은 유지하면서 새로운 기능 추가 가능\n",
        "\n",
        "#### 상속 관계 확인하기"
      ]
    },
    {
      "cell_type": "code",
      "execution_count": 29,
      "id": "a1cf62ea",
      "metadata": {
        "colab": {
          "base_uri": "https://localhost:8080/"
        },
        "id": "a1cf62ea",
        "outputId": "941a4428-ecdd-4ab7-e859-14b48309d9b5"
      },
      "outputs": [
        {
          "name": "stdout",
          "output_type": "stream",
          "text": [
            "True\n",
            "True\n",
            "False\n"
          ]
        }
      ],
      "source": [
        "# 상속 관계 확인\n",
        "print(isinstance(dog, Dog))     # True\n",
        "print(isinstance(dog, Animal))  # True (Dog은 Animal을 상속받음)\n",
        "print(isinstance(cat, Dog))     # False"
      ]
    },
    {
      "cell_type": "markdown",
      "id": "f679f1f9",
      "metadata": {
        "id": "f679f1f9"
      },
      "source": [
        "- 핵심 정리\n",
        "    - `class 자식클래스(부모클래스):` 형태로 상속\n",
        "    - 자식 클래스는 부모 클래스의 모든 기능을 사용할 수 있음\n",
        "    - 자식 클래스에서 고유한 기능을 추가할 수 있음\n",
        "    - 코드 중복을 줄이고 체계적인 프로그램 작성 가능"
      ]
    }
  ],
  "metadata": {
    "colab": {
      "provenance": []
    },
    "jupytext": {
      "cell_metadata_filter": "-all",
      "main_language": "python",
      "notebook_metadata_filter": "-all"
    },
    "kernelspec": {
      "display_name": "Python 3",
      "name": "python3"
    },
    "language_info": {
      "name": "python"
    }
  },
  "nbformat": 4,
  "nbformat_minor": 5
}
