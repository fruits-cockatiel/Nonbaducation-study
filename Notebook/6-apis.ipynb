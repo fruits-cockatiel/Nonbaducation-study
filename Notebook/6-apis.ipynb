{
  "cells": [
    {
      "cell_type": "markdown",
      "id": "9a63f725",
      "metadata": {
        "lines_to_next_cell": 0,
        "id": "9a63f725"
      },
      "source": [
        "# 실습\n",
        "## API와 웹 데이터 활용하기\n",
        "\n",
        "### API란 무엇인가?\n",
        "- API(Application Programming Interface)는 서로 다른 프로그램이 데이터를 주고받을 수 있게 해주는 방법\n",
        "- 웹 API를 통해 실시간 날씨, 뉴스, 주식 정보 등을 가져올 수 있음\n",
        "- 우리가 사용할 `requests` 라이브러리로 쉽게 API 호출 가능\n",
        "\n",
        "### requests 라이브러리 설치 및 기본 사용법\n",
        "\n",
        "#### 라이브러리 설치"
      ]
    },
    {
      "cell_type": "code",
      "execution_count": null,
      "id": "46cbdeca",
      "metadata": {
        "id": "46cbdeca"
      },
      "outputs": [],
      "source": [
        "# 구글 코랩에서는 이미 설치되어 있음\n",
        "import requests\n",
        "import json"
      ]
    },
    {
      "cell_type": "markdown",
      "id": "e4c7e2a6",
      "metadata": {
        "lines_to_next_cell": 0,
        "id": "e4c7e2a6"
      },
      "source": [
        "#### 기본 GET 요청"
      ]
    },
    {
      "cell_type": "code",
      "execution_count": null,
      "id": "a545b6ac",
      "metadata": {
        "colab": {
          "base_uri": "https://localhost:8080/"
        },
        "id": "a545b6ac",
        "outputId": "c8e5b825-44c8-40b7-c919-a339eaab3448"
      },
      "outputs": [
        {
          "output_type": "stream",
          "name": "stdout",
          "text": [
            "200\n",
            "{'userId': 1, 'id': 1, 'title': 'sunt aut facere repellat provident occaecati excepturi optio reprehenderit', 'body': 'quia et suscipit\\nsuscipit recusandae consequuntur expedita et cum\\nreprehenderit molestiae ut ut quas totam\\nnostrum rerum est autem sunt rem eveniet architecto'}\n"
          ]
        }
      ],
      "source": [
        "# 간단한 API 호출 예시\n",
        "response = requests.get(\"https://jsonplaceholder.typicode.com/posts/1\")\n",
        "print(response.status_code)  # 200이면 성공\n",
        "print(response.json())       # JSON 데이터를 딕셔너리로 변환"
      ]
    },
    {
      "cell_type": "markdown",
      "id": "4b5393dc",
      "metadata": {
        "lines_to_next_cell": 0,
        "id": "4b5393dc"
      },
      "source": [
        "### try-except로 안전한 API 호출\n",
        "\n",
        "#### 기본 예외 처리"
      ]
    },
    {
      "cell_type": "code",
      "execution_count": null,
      "id": "6d0e8233",
      "metadata": {
        "colab": {
          "base_uri": "https://localhost:8080/"
        },
        "id": "6d0e8233",
        "outputId": "9ee9291a-d716-44e3-fd80-dff1e45da849"
      },
      "outputs": [
        {
          "output_type": "stream",
          "name": "stdout",
          "text": [
            "제목: sunt aut facere repellat provident occaecati excepturi optio reprehenderit\n"
          ]
        }
      ],
      "source": [
        "import requests\n",
        "\n",
        "def safe_api_call(url):\n",
        "    \"\"\"안전한 API 호출 함수\"\"\"\n",
        "    try:\n",
        "        response = requests.get(url, timeout=5)  # 5초 타임아웃\n",
        "        response.raise_for_status()  # HTTP 에러 시 예외 발생\n",
        "        return response.json()\n",
        "    except requests.exceptions.Timeout:\n",
        "        print(\"요청 시간이 초과되었습니다.\")\n",
        "        return None\n",
        "    except requests.exceptions.ConnectionError:\n",
        "        print(\"인터넷 연결을 확인해주세요.\")\n",
        "        return None\n",
        "    except requests.exceptions.HTTPError as e:\n",
        "        print(f\"HTTP 에러 발생: {e}\")\n",
        "        return None\n",
        "    except requests.exceptions.RequestException as e:\n",
        "        print(f\"요청 중 오류 발생: {e}\")\n",
        "        return None\n",
        "    except json.JSONDecodeError:\n",
        "        print(\"응답을 JSON으로 변환할 수 없습니다.\")\n",
        "        return None\n",
        "\n",
        "# 사용 예시\n",
        "data = safe_api_call(\"https://jsonplaceholder.typicode.com/posts/1\")\n",
        "if data:\n",
        "    print(f\"제목: {data['title']}\")\n",
        "else:\n",
        "    print(\"데이터를 가져올 수 없습니다.\")"
      ]
    },
    {
      "cell_type": "markdown",
      "id": "4d40762d",
      "metadata": {
        "lines_to_next_cell": 0,
        "id": "4d40762d"
      },
      "source": [
        "### 실습 1: 가짜 데이터로 연습하기 (JSONPlaceholder)\n",
        "- https://jsonplaceholder.typicode.com/ 사이트에서는 JSON API call을 테스트하기 위한 더미 데이터를 제공\n",
        "\n",
        "#### 게시글 목록 가져오기"
      ]
    },
    {
      "cell_type": "code",
      "execution_count": null,
      "id": "6da16406",
      "metadata": {
        "colab": {
          "base_uri": "https://localhost:8080/"
        },
        "id": "6da16406",
        "outputId": "52724108-c2b1-43da-aade-373472484e6a"
      },
      "outputs": [
        {
          "output_type": "stream",
          "name": "stdout",
          "text": [
            "=== 게시글 목록 ===\n",
            "ID: 1\n",
            "제목: sunt aut facere repellat provident occaecati excepturi optio reprehenderit\n",
            "내용: quia et suscipit\n",
            "suscipit recusandae consequuntur ...\n",
            "------------------------------\n",
            "ID: 2\n",
            "제목: qui est esse\n",
            "내용: est rerum tempore vitae\n",
            "sequi sint nihil reprehend...\n",
            "------------------------------\n",
            "ID: 3\n",
            "제목: ea molestias quasi exercitationem repellat qui ipsa sit aut\n",
            "내용: et iusto sed quo iure\n",
            "voluptatem occaecati omnis e...\n",
            "------------------------------\n",
            "ID: 4\n",
            "제목: eum et est occaecati\n",
            "내용: ullam et saepe reiciendis voluptatem adipisci\n",
            "sit ...\n",
            "------------------------------\n",
            "ID: 5\n",
            "제목: nesciunt quas odio\n",
            "내용: repudiandae veniam quaerat sunt sed\n",
            "alias aut fugi...\n",
            "------------------------------\n"
          ]
        }
      ],
      "source": [
        "def get_posts():\n",
        "    \"\"\"게시글 목록을 가져오는 함수\"\"\"\n",
        "    url = \"https://jsonplaceholder.typicode.com/posts\"\n",
        "\n",
        "    try:\n",
        "        response = requests.get(url)\n",
        "        response.raise_for_status()\n",
        "        posts = response.json()\n",
        "\n",
        "        print(\"=== 게시글 목록 ===\")\n",
        "        for post in posts[:5]:  # 처음 5개만 출력\n",
        "            print(f\"ID: {post['id']}\")\n",
        "            print(f\"제목: {post['title']}\")\n",
        "            print(f\"내용: {post['body'][:50]}...\")\n",
        "            print(\"-\" * 30)\n",
        "\n",
        "    except Exception as e:\n",
        "        print(f\"게시글을 가져오는 중 오류 발생: {e}\")\n",
        "\n",
        "get_posts()"
      ]
    },
    {
      "cell_type": "markdown",
      "id": "a714794a",
      "metadata": {
        "lines_to_next_cell": 0,
        "id": "a714794a"
      },
      "source": [
        "#### 사용자 정보 가져오기"
      ]
    },
    {
      "cell_type": "code",
      "execution_count": null,
      "id": "35c67b78",
      "metadata": {
        "colab": {
          "base_uri": "https://localhost:8080/"
        },
        "id": "35c67b78",
        "outputId": "b28bc7d7-c892-4555-8e83-3c8b0b8a1875"
      },
      "outputs": [
        {
          "output_type": "stream",
          "name": "stdout",
          "text": [
            "=== 사용자 정보 ===\n",
            "이름: Leanne Graham\n",
            "이메일: Sincere@april.biz\n",
            "웹사이트: hildegard.org\n",
            "회사: Romaguera-Crona\n"
          ]
        }
      ],
      "source": [
        "def get_user_info(user_id):\n",
        "    \"\"\"특정 사용자 정보를 가져오는 함수\"\"\"\n",
        "    url = f\"https://jsonplaceholder.typicode.com/users/{user_id}\"\n",
        "\n",
        "    try:\n",
        "        response = requests.get(url)\n",
        "        if response.status_code == 404:\n",
        "            print(\"사용자를 찾을 수 없습니다.\")\n",
        "            return\n",
        "\n",
        "        response.raise_for_status()\n",
        "        user = response.json()\n",
        "\n",
        "        print(\"=== 사용자 정보 ===\")\n",
        "        print(f\"이름: {user['name']}\")\n",
        "        print(f\"이메일: {user['email']}\")\n",
        "        print(f\"웹사이트: {user['website']}\")\n",
        "        print(f\"회사: {user['company']['name']}\")\n",
        "\n",
        "    except Exception as e:\n",
        "        print(f\"사용자 정보를 가져오는 중 오류 발생: {e}\")\n",
        "\n",
        "# 사용 예시\n",
        "get_user_info(1)"
      ]
    },
    {
      "cell_type": "markdown",
      "id": "39fc9f36",
      "metadata": {
        "lines_to_next_cell": 0,
        "id": "39fc9f36"
      },
      "source": [
        "### 실습 2: 날씨 정보 가져오기 (OpenWeatherMap)\n",
        "- [OpenWeatherMap](https://openweathermap.org/api)\n",
        "    - Current Weather Data, Daily Forecast 8 days 등 다양한 정보를 제공\n",
        "    - Price 정보: https://openweathermap.org/full-price#current\n",
        "    - (API 서비스 주체가) API를 누가 사용하는지 추적하기 위하여 API 키가 필요\n",
        "- API 키 관리 방법\n",
        "    - OpenWeatherMap 에 가입한다.\n",
        "    - 계정 정보의 My API Keys 에 들어가서 API 키를 얻는다.\n",
        "    - 환경변수로 API 키를 저장한다.\n",
        "        - Linux/Mac의 경우\n",
        "            ```shell\n",
        "                export WORLD_WEATHER_API_KEY=\"actual api key\"\n",
        "            ```\n",
        "            ```python\n",
        "                import os\n",
        "                api_key = os.environ.get('WORLD_WEATHER_API_KEY')\n",
        "            ```\n",
        "        - Colab의 경우\n",
        "            - 왼쪽의 열쇠 모양 (보안 비밀) 버튼을 눌러 적당한 이름으로 API 키를 등록한다. (ex., WORLD_WEATHER_API_KEY)\n",
        "            - 노트북 액세스를 열어준다.\n",
        "            ```python\n",
        "                from google.colab import userdata\n",
        "                userdata.get('WORLD_WEATHER_API_KEY')\n",
        "            ```\n",
        "\n",
        "#### API 키 설정 및 기본 호출"
      ]
    },
    {
      "cell_type": "code",
      "execution_count": null,
      "id": "8c5c3aa9",
      "metadata": {
        "colab": {
          "base_uri": "https://localhost:8080/"
        },
        "id": "8c5c3aa9",
        "outputId": "0944a9be-83e6-4976-cca8-86a9bcf383b4"
      },
      "outputs": [
        {
          "output_type": "stream",
          "name": "stdout",
          "text": [
            "=== Seoul 날씨 ===\n",
            "날씨: 약간의 구름이 낀 하늘\n",
            "온도: 13.76°C\n",
            "체감온도: 12.6°C\n",
            "습도: 54%\n",
            "풍속: 3.6 m/s\n"
          ]
        },
        {
          "output_type": "execute_result",
          "data": {
            "text/plain": [
              "{'coord': {'lon': 126.9778, 'lat': 37.5683},\n",
              " 'weather': [{'id': 801,\n",
              "   'main': 'Clouds',\n",
              "   'description': '약간의 구름이 낀 하늘',\n",
              "   'icon': '02d'}],\n",
              " 'base': 'stations',\n",
              " 'main': {'temp': 13.76,\n",
              "  'feels_like': 12.6,\n",
              "  'temp_min': 12.78,\n",
              "  'temp_max': 13.76,\n",
              "  'pressure': 1029,\n",
              "  'humidity': 54,\n",
              "  'sea_level': 1029,\n",
              "  'grnd_level': 1019},\n",
              " 'visibility': 10000,\n",
              " 'wind': {'speed': 3.6, 'deg': 120},\n",
              " 'clouds': {'all': 20},\n",
              " 'dt': 1761706256,\n",
              " 'sys': {'type': 1,\n",
              "  'id': 8105,\n",
              "  'country': 'KR',\n",
              "  'sunrise': 1761688413,\n",
              "  'sunset': 1761727073},\n",
              " 'timezone': 32400,\n",
              " 'id': 1835848,\n",
              " 'name': 'Seoul',\n",
              " 'cod': 200}"
            ]
          },
          "metadata": {},
          "execution_count": 6
        }
      ],
      "source": [
        "import os\n",
        "from google.colab import userdata\n",
        "\n",
        "def get_weather(city_name, api_key):\n",
        "    \"\"\"도시별 날씨 정보를 가져오는 함수\"\"\"\n",
        "    base_url = \"http://api.openweathermap.org/data/2.5/weather\"\n",
        "\n",
        "    # 요청 매개변수\n",
        "    params = {\n",
        "        'q': city_name,\n",
        "        'appid': api_key,\n",
        "        'units': 'metric',  # 섭씨 온도\n",
        "        'lang': 'kr'        # 한국어\n",
        "    }\n",
        "\n",
        "    try:\n",
        "        response = requests.get(base_url, params=params, timeout=10)\n",
        "\n",
        "        if response.status_code == 401:\n",
        "            print(\"API 키가 올바르지 않습니다.\")\n",
        "            return\n",
        "        elif response.status_code == 404:\n",
        "            print(\"도시를 찾을 수 없습니다.\")\n",
        "            return\n",
        "\n",
        "        response.raise_for_status()\n",
        "        weather_data = response.json()\n",
        "\n",
        "        # 날씨 정보 출력\n",
        "        print(f\"=== {weather_data['name']} 날씨 ===\")\n",
        "        print(f\"날씨: {weather_data['weather'][0]['description']}\")\n",
        "        print(f\"온도: {weather_data['main']['temp']}°C\")\n",
        "        print(f\"체감온도: {weather_data['main']['feels_like']}°C\")\n",
        "        print(f\"습도: {weather_data['main']['humidity']}%\")\n",
        "        print(f\"풍속: {weather_data['wind']['speed']} m/s\")\n",
        "\n",
        "        return weather_data\n",
        "\n",
        "    except requests.exceptions.Timeout:\n",
        "        print(\"요청 시간이 초과되었습니다. 나중에 다시 시도해주세요.\")\n",
        "    except requests.exceptions.ConnectionError:\n",
        "        print(\"인터넷 연결을 확인해주세요.\")\n",
        "    except Exception as e:\n",
        "        print(f\"날씨 정보를 가져오는 중 오류 발생: {e}\")\n",
        "\n",
        "# 사용 예시 (실제 API 키 필요)\n",
        "api_key = userdata.get('WORLD_WEATHER_API_KEY')\n",
        "get_weather(\"Seoul\", api_key)"
      ]
    },
    {
      "cell_type": "markdown",
      "id": "49445a3c",
      "metadata": {
        "id": "49445a3c"
      },
      "source": [
        "### 실습 3: 여러 도시 날씨 비교하기"
      ]
    },
    {
      "cell_type": "code",
      "execution_count": null,
      "id": "433c4f61",
      "metadata": {
        "colab": {
          "base_uri": "https://localhost:8080/"
        },
        "id": "433c4f61",
        "outputId": "3e698aac-34f3-4f8c-cf06-384cce26f3b2"
      },
      "outputs": [
        {
          "output_type": "stream",
          "name": "stdout",
          "text": [
            "Seoul 날씨 정보를 가져오는 중...\n",
            "Tokyo 날씨 정보를 가져오는 중...\n",
            "New York 날씨 정보를 가져오는 중...\n",
            "London 날씨 정보를 가져오는 중...\n",
            "Paris 날씨 정보를 가져오는 중...\n",
            "\n",
            "=== 도시별 날씨 비교 ===\n",
            "Seoul: 13.76°C, 약간의 구름이 낀 하늘\n",
            "Tokyo: 15.95°C, 맑음\n",
            "New York: 11.84°C, 온흐림\n",
            "London: 12.48°C, 온흐림\n",
            "Paris: 11.89°C, 온흐림\n",
            "\n",
            "가장 더운 도시: Tokyo (15.95°C)\n"
          ]
        }
      ],
      "source": [
        "def compare_cities_weather(cities, api_key):\n",
        "    \"\"\"여러 도시의 날씨를 비교하는 함수\"\"\"\n",
        "    weather_data = []\n",
        "\n",
        "    for city in cities:\n",
        "        print(f\"{city} 날씨 정보를 가져오는 중...\")\n",
        "\n",
        "        try:\n",
        "            base_url = \"http://api.openweathermap.org/data/2.5/weather\"\n",
        "            params = {\n",
        "                'q': city,\n",
        "                'appid': api_key,\n",
        "                'units': 'metric',\n",
        "                'lang': 'kr'\n",
        "            }\n",
        "\n",
        "            response = requests.get(base_url, params=params, timeout=5)\n",
        "            response.raise_for_status()\n",
        "\n",
        "            data = response.json()\n",
        "            weather_info = {\n",
        "                'city': data['name'],\n",
        "                'temp': data['main']['temp'],\n",
        "                'description': data['weather'][0]['description'],\n",
        "                'humidity': data['main']['humidity']\n",
        "            }\n",
        "            weather_data.append(weather_info)\n",
        "\n",
        "        except Exception as e:\n",
        "            print(f\"{city} 날씨 정보 가져오기 실패: {e}\")\n",
        "            continue\n",
        "\n",
        "    # 결과 출력\n",
        "    if weather_data:\n",
        "        print(\"\\n=== 도시별 날씨 비교 ===\")\n",
        "        for weather in weather_data:\n",
        "            print(f\"{weather['city']}: {weather['temp']}°C, {weather['description']}\")\n",
        "\n",
        "        # 가장 더운 도시 찾기\n",
        "        hottest = max(weather_data, key=lambda x: x['temp'])\n",
        "        print(f\"\\n가장 더운 도시: {hottest['city']} ({hottest['temp']}°C)\")\n",
        "\n",
        "# 사용 예시\n",
        "cities = [\"Seoul\", \"Tokyo\", \"New York\", \"London\", \"Paris\"]\n",
        "compare_cities_weather(cities, api_key)"
      ]
    },
    {
      "cell_type": "markdown",
      "id": "1d88d085",
      "metadata": {
        "lines_to_next_cell": 0,
        "id": "1d88d085"
      },
      "source": [
        "### 실습 4: 한국 공공데이터 활용하기\n",
        "- 여러 사이트가 있지만, 여기에서 https://www.data.go.kr/ 를 사용한다.\n",
        "- 사이트에 접속하여 원하는 API를 검색하면 어떤 API가 제공되는지 확인할 수 있다.\n",
        "    - 예: 기상청 -> 오픈 API를 클릭하면 \"기상청_단기예보 ((구)_동네예보) 조회서비스\" 등이 나온다.\n",
        "        - 사용하고 싶은 API를 선택하여 활용신청을 해야 API를 쓸 수 있다.\n",
        "        - 마이페이지 -> 활용신청 현황에서 해당 API 상세 페이지로 들어가면 일반 인증키를 얻을 수 있다.\n",
        "        - ...근데 지금은 API가 작동하지 않는다! 다른 예시!\n",
        "\n",
        "#### 네이버 지도 / 지역 검색 API\n",
        "- A와 B가 약속 장소를 정하려고 한다. 약속 장소는 두 사람의 출발지에서 동일한 거리에 있는 곳으로 정하고 싶다.\n",
        "- 프로그램 순서\n",
        "    1. A/B 지오코딩: NAVER Cloud Maps의 Geocoding API로 주소->위경도 변환.\n",
        "    2. 중간지점 계산: 하버사인/구면중점으로 위경도 산출(앱 내부 계산).\n",
        "    3. 중간지점 역지오코딩: 중간지점 위경도를 행정구역(시/구/동)으로 변환.\n",
        "    4. 장소 후보 가져오기: 네이버 검색>지역(Local) 오픈API는 키워드 검색(API 파라미터는 query, display, start, sort만). 좌표/반경 파라미터는 없지만, 행정구역명을 포함한 키워드(예: 역삼동 카페, 강남구 식당)로 후보를 받아옵니다. 응답에는 좌표(mapx/mapy, WGS84)가 포함됩니다.\n",
        "    5. 반경·거리 정렬은 앱에서: Local API 응답 좌표를 중간지점과의 거리로 필터링/정렬하면 “주변 카페/식당 리스트업”이 됩니다.\n",
        "- 필요한 API 키\n",
        "    - 네이버 클라우드 콘솔: https://console.ncloud.com/maps/application\n",
        "        - Geocoding / Reverse Geocoding 신청\n",
        "        - NCP_CLIENT_ID: 네이버 클라우드 지도 클라이언트 ID\n",
        "        - NCP_CLIENT_SECRET: 네이버 클라우드 지도 시크릿 키\n",
        "    - 네이버 지역 검색: https://developers.naver.com/apps/#/list\n",
        "        - 검색 API 신청\n",
        "        - NAVER_OPENAPI_ID: 네이버 오픈 API 클라이언트 ID\n",
        "        - NAVER_OPENAPI_SECRET: 네이버 오픈 API 시크릿 키"
      ]
    },
    {
      "cell_type": "code",
      "execution_count": 36,
      "id": "5737c199",
      "metadata": {
        "id": "5737c199"
      },
      "outputs": [],
      "source": [
        "import math, requests\n",
        "from math import radians, degrees, sin, cos, atan2, sqrt\n",
        "from google.colab import userdata\n",
        "\n",
        "# --- 설정 ---\n",
        "NCP_CLIENT_ID = userdata.get('NCP_CLIENT_ID')\n",
        "NCP_CLIENT_SECRET = userdata.get('NCP_CLIENT_SECRET')\n",
        "NAVER_OPENAPI_ID = userdata.get('NAVER_OPENAPI_ID')\n",
        "NAVER_OPENAPI_SECRET = userdata.get('NAVER_OPENAPI_SECRET')\n",
        "\n",
        "def haversine(lat1, lon1, lat2, lon2):\n",
        "    R = 6371000\n",
        "    a = sin(radians(lat2-lat1)/2)**2 + cos(radians(lat1))*cos(radians(lat2))*sin(radians(lon2-lon1)/2)**2\n",
        "    return 2*R*atan2(sqrt(a), sqrt(1-a))\n",
        "\n",
        "def midpoint(lat1, lon1, lat2, lon2):\n",
        "    pi1, lambda1, pi2, lambda2 = map(radians,[lat1,lon1,lat2,lon2])\n",
        "    Bx = cos(pi2) * cos(lambda2-lambda1)\n",
        "    By = cos(pi2) * sin(lambda2-lambda1)\n",
        "    x = cos(pi1) + Bx\n",
        "    y = By\n",
        "    z = sin(pi1) + sin(pi2)\n",
        "    return degrees(atan2(z, sqrt(x*x+y*y))), degrees(lambda1 + atan2(y, x))\n",
        "\n",
        "def geocode(addr):\n",
        "    url = \"https://maps.apigw.ntruss.com/map-geocode/v2/geocode\"\n",
        "    try:\n",
        "        r = requests.get(\n",
        "            url,\n",
        "            params={\"query\": addr},\n",
        "            headers={\n",
        "                \"X-NCP-APIGW-API-KEY-ID\": NCP_CLIENT_ID,\n",
        "                \"X-NCP-APIGW-API-KEY\": NCP_CLIENT_SECRET\n",
        "            },\n",
        "            timeout=15\n",
        "        )\n",
        "        r.raise_for_status()\n",
        "        data = r.json()\n",
        "    except requests.RequestException as e:\n",
        "        print(f\"[geocode] 요청 실패: {e}\")\n",
        "        return None\n",
        "    except ValueError:\n",
        "        print(\"[geocode] JSON 파싱 실패\")\n",
        "        return None\n",
        "\n",
        "    items = data.get(\"addresses\", [])\n",
        "    if not items:\n",
        "        print(f\"[geocode] 결과 없음: {addr}\")\n",
        "        return None\n",
        "\n",
        "    it = items[0]\n",
        "    try:\n",
        "        return float(it[\"y\"]), float(it[\"x\"])  # lat, lon\n",
        "    except (KeyError, ValueError) as e:\n",
        "        print(f\"[geocode] 좌표 변환 실패: {e}\")\n",
        "        return None\n",
        "\n",
        "def reverse_geocode(lat, lon):\n",
        "    url = \"https://maps.apigw.ntruss.com/map-reversegeocode/v2/gc\"\n",
        "    params = {\"coords\": f\"{lon},{lat}\", \"orders\": \"legalcode,admcode\", \"output\": \"json\"}\n",
        "    try:\n",
        "        r = requests.get(\n",
        "            url,\n",
        "            params=params,\n",
        "            headers={\n",
        "                \"X-NCP-APIGW-API-KEY-ID\": NCP_CLIENT_ID,\n",
        "                \"X-NCP-APIGW-API-KEY\": NCP_CLIENT_SECRET\n",
        "            },\n",
        "            timeout=15\n",
        "        )\n",
        "        r.raise_for_status()\n",
        "        data = r.json()\n",
        "    except requests.RequestException as e:\n",
        "        print(f\"[reverse_geocode] 요청 실패: {e}\")\n",
        "        return \"\"\n",
        "    except ValueError:\n",
        "        print(\"[reverse_geocode] JSON 파싱 실패\")\n",
        "        return \"\"\n",
        "\n",
        "    res = data.get(\"results\", [])\n",
        "    if not res:\n",
        "        return \"\"\n",
        "    try:\n",
        "        # 예: \"서울특별시 강남구 역삼동\"\n",
        "        return \" \".join([a[\"name\"] for a in res[0][\"region\"].values() if isinstance(a, dict) and \"name\" in a])\n",
        "    except Exception:\n",
        "        return \"\"\n",
        "\n",
        "def local_search(query, display=30, start=1, sort=\"random\"):\n",
        "    url = \"https://openapi.naver.com/v1/search/local.json\"\n",
        "    try:\n",
        "        r = requests.get(\n",
        "            url,\n",
        "            params={\"query\": query, \"display\": display, \"start\": start, \"sort\": sort},\n",
        "            headers={\n",
        "                \"X-Naver-Client-Id\": NAVER_OPENAPI_ID,\n",
        "                \"X-Naver-Client-Secret\": NAVER_OPENAPI_SECRET\n",
        "            },\n",
        "            timeout=15\n",
        "        )\n",
        "        r.raise_for_status()\n",
        "        data = r.json()\n",
        "    except requests.RequestException as e:\n",
        "        print(f\"[local_search] 요청 실패({query}): {e}\")\n",
        "        return []\n",
        "    except ValueError:\n",
        "        print(f\"[local_search] JSON 파싱 실패({query})\")\n",
        "        return []\n",
        "\n",
        "    return data.get(\"items\", [])"
      ]
    },
    {
      "cell_type": "code",
      "source": [
        "for k, v in {\n",
        "    \"NCP_CLIENT_ID\": NCP_CLIENT_ID,\n",
        "    \"NCP_CLIENT_SECRET\": NCP_CLIENT_SECRET,\n",
        "    \"NAVER_OPENAPI_ID\": NAVER_OPENAPI_ID,\n",
        "    \"NAVER_OPENAPI_SECRET\": NAVER_OPENAPI_SECRET\n",
        "}.items():\n",
        "    if not v:\n",
        "        print(f\"[경고] {k}가 설정되지 않았습니다. userdata에 저장했는지 확인하세요.\")"
      ],
      "metadata": {
        "id": "YybRwgOxWf53"
      },
      "id": "YybRwgOxWf53",
      "execution_count": 37,
      "outputs": []
    },
    {
      "cell_type": "code",
      "source": [
        "A = geocode(\"중구 한강대로 405\")\n",
        "B = geocode(\"서초구 서초대로73길 7\")\n",
        "\n",
        "if not A or not B:\n",
        "    raise RuntimeError(\"A/B 지오코딩 실패 – 주소를 확인하거나 키 설정을 점검하세요.\")\n",
        "\n",
        "mid_lat, mid_lon = midpoint(*A, *B)\n",
        "region = reverse_geocode(mid_lat, mid_lon) or \"\"   # 예: \"서울특별시 강남구 역삼동\"\n",
        "\n",
        "print(f'중간 지역: {region} (lat={mid_lat}, lon={mid_lon})')\n",
        "\n",
        "items = local_search(region.split()[-1] + \" 카페\", display=30) + local_search(region.split()[-1] + \" 식당\", display=30)\n",
        "\n",
        "# Local API 좌표(mapx, mapy) 변환 + 개별 아이템 예외 방어\n",
        "cands = []\n",
        "for it in items:\n",
        "    try:\n",
        "        lat = float(it.get(\"mapy\")) / 10000000\n",
        "        lon = float(it.get(\"mapx\")) / 10000000\n",
        "\n",
        "        if math.isnan(lat) or math.isnan(lon):\n",
        "            continue\n",
        "\n",
        "        dist = haversine(mid_lat, mid_lon, lat, lon)\n",
        "        addr = it.get(\"addresses\", {}).get(\"roadAddress\") or it.get(\"address\") or \"\"\n",
        "        name = it.get(\"title\", \"\").replace(\"<b>\", \"\").replace(\"</b>\", \"\")\n",
        "        cands.append({\n",
        "            \"name\": name,\n",
        "            \"addr\": addr,\n",
        "            \"lat\": lat,\n",
        "            \"lon\": lon,\n",
        "            \"dist_m\": dist\n",
        "        })\n",
        "    except Exception as e:\n",
        "        # 개별 아이템 문제는 전체 흐름 막지 않고 스킵\n",
        "        print(f\"[items] 스킵: {e}\")\n",
        "        continue\n",
        "\n",
        "# 반경 1500m 이내 + 거리 오름차순\n",
        "nearby = sorted([c for c in cands if c[\"dist_m\"] <= 1500], key=lambda x: x[\"dist_m\"])[:20]\n",
        "nearby[:5]\n"
      ],
      "metadata": {
        "colab": {
          "base_uri": "https://localhost:8080/"
        },
        "id": "DNXVuiCPWgvd",
        "outputId": "05666ad5-c93f-4acd-f01c-70683da30b11"
      },
      "id": "DNXVuiCPWgvd",
      "execution_count": 38,
      "outputs": [
        {
          "output_type": "stream",
          "name": "stdout",
          "text": [
            "중간 지역: kr 서울특별시 용산구 보광동  (lat=37.526566524588844, lon=126.99743587015045)\n"
          ]
        },
        {
          "output_type": "execute_result",
          "data": {
            "text/plain": [
              "[{'name': '남산막창',\n",
              "  'addr': '서울특별시 용산구 보광동 217-13 1층',\n",
              "  'lat': 37.5261623,\n",
              "  'lon': 126.9985805,\n",
              "  'dist_m': 110.49516042993496},\n",
              " {'name': '잠수교집 보광 본점',\n",
              "  'addr': '서울특별시 용산구 보광동 217-13',\n",
              "  'lat': 37.5261659,\n",
              "  'lon': 126.9986281,\n",
              "  'dist_m': 114.18578956156942},\n",
              " {'name': '빽다방 보광점',\n",
              "  'addr': '서울특별시 용산구 보광동 231-42 1층',\n",
              "  'lat': 37.5282001,\n",
              "  'lon': 126.9988877,\n",
              "  'dist_m': 222.23053929029484},\n",
              " {'name': '파리바게뜨 보광점',\n",
              "  'addr': '서울특별시 용산구 보광동 217-24 박영진치과의원',\n",
              "  'lat': 37.5262425,\n",
              "  'lon': 127.0007217,\n",
              "  'dist_m': 291.99451307250735},\n",
              " {'name': '베쓰 푸틴',\n",
              "  'addr': '서울특별시 용산구 보광동 238-12 1층 102호',\n",
              "  'lat': 37.5300134,\n",
              "  'lon': 126.9973187,\n",
              "  'dist_m': 383.4143063598736}]"
            ]
          },
          "metadata": {},
          "execution_count": 38
        }
      ]
    },
    {
      "cell_type": "markdown",
      "id": "9298d236",
      "metadata": {
        "lines_to_next_cell": 0,
        "id": "9298d236"
      },
      "source": [
        "### API 사용 시 주의사항\n",
        "\n",
        "#### 1. API 키 보안"
      ]
    },
    {
      "cell_type": "code",
      "execution_count": null,
      "id": "e192bbbb",
      "metadata": {
        "id": "e192bbbb"
      },
      "outputs": [],
      "source": [
        "# 나쁜 예시 - 코드에 직접 하드코딩\n",
        "api_key = \"12345abcdef\"\n",
        "\n",
        "# 좋은 예시 - 환경 변수 사용\n",
        "import os\n",
        "api_key = os.getenv('WEATHER_API_KEY')\n",
        "\n",
        "if not api_key:\n",
        "    print(\"API 키가 설정되지 않았습니다.\")\n",
        "    exit()"
      ]
    },
    {
      "cell_type": "markdown",
      "id": "f3e8ebd9",
      "metadata": {
        "id": "f3e8ebd9"
      },
      "source": [
        "#### 2. 요청 제한 준수\n",
        "- 너무 잦은 API call은 정책에 따라서 제한될 수 있다.\n",
        "- time.sleep() 함수를 사용하면 초 단위로 프로그램을 멈추게 만들 수 있다."
      ]
    },
    {
      "cell_type": "code",
      "execution_count": null,
      "id": "271c9e9a",
      "metadata": {
        "id": "271c9e9a"
      },
      "outputs": [],
      "source": [
        "import time\n",
        "\n",
        "def rate_limited_requests(urls, delay=1):\n",
        "    \"\"\"요청 제한을 지키면서 여러 API 호출\"\"\"\n",
        "    results = []\n",
        "\n",
        "    for i, url in enumerate(urls):\n",
        "        try:\n",
        "            response = requests.get(url)\n",
        "            results.append(response.json())\n",
        "\n",
        "            # 마지막 요청이 아닌 경우 대기\n",
        "            if i < len(urls) - 1:\n",
        "                time.sleep(delay)\n",
        "\n",
        "        except Exception as e:\n",
        "            print(f\"요청 실패: {e}\")\n",
        "            results.append(None)\n",
        "\n",
        "    return results"
      ]
    },
    {
      "cell_type": "markdown",
      "id": "be87ed40",
      "metadata": {
        "lines_to_next_cell": 0,
        "id": "be87ed40"
      },
      "source": [
        "#### 3. 응답 데이터 검증"
      ]
    },
    {
      "cell_type": "code",
      "execution_count": null,
      "id": "326cc9f1",
      "metadata": {
        "id": "326cc9f1"
      },
      "outputs": [],
      "source": [
        "def validate_weather_data(data):\n",
        "    \"\"\"날씨 데이터 유효성 검사\"\"\"\n",
        "    required_fields = ['main', 'weather', 'name']\n",
        "\n",
        "    for field in required_fields:\n",
        "        if field not in data:\n",
        "            raise ValueError(f\"필수 필드 '{field}'가 없습니다.\")\n",
        "\n",
        "    if 'temp' not in data['main']:\n",
        "        raise ValueError(\"온도 정보가 없습니다.\")\n",
        "\n",
        "    return True\n",
        "\n",
        "# 사용 예시\n",
        "try:\n",
        "    weather_data = get_weather(\"Seoul\", api_key)\n",
        "    if weather_data and validate_weather_data(weather_data):\n",
        "        print(\"유효한 날씨 데이터입니다.\")\n",
        "except ValueError as e:\n",
        "    print(f\"데이터 검증 실패: {e}\")"
      ]
    },
    {
      "cell_type": "markdown",
      "id": "81bbaaf2",
      "metadata": {
        "id": "81bbaaf2"
      },
      "source": [
        "## 과제\n",
        "\n",
        "### API 활용 프로젝트\n",
        "data.go.kr 같은 API 제공 서비스를 찾아서 그것을 이용하는 코드 작성해보기\n",
        "\n",
        "#### 기본 요구사항\n",
        "- try-except 문을 사용한 예외 처리\n",
        "- 최소 2개 이상의 API 엔드포인트 사용\n",
        "\n",
        "#### 추가 도전 과제\n",
        "- 데이터 시각화 (matplotlib 활용)\n",
        "- 클래스를 활용한 구조화된 코드"
      ]
    },
    {
      "cell_type": "code",
      "source": [],
      "metadata": {
        "id": "Csf7WYoKO5-0"
      },
      "id": "Csf7WYoKO5-0",
      "execution_count": null,
      "outputs": []
    }
  ],
  "metadata": {
    "jupytext": {
      "cell_metadata_filter": "-all",
      "main_language": "python",
      "notebook_metadata_filter": "-all"
    },
    "colab": {
      "provenance": []
    },
    "language_info": {
      "name": "python"
    },
    "kernelspec": {
      "name": "python3",
      "display_name": "Python 3"
    }
  },
  "nbformat": 4,
  "nbformat_minor": 5
}